{
 "cells": [
  {
   "cell_type": "markdown",
   "metadata": {},
   "source": [
    "# **PROJECT SUMMARY**"
   ]
  },
  {
   "cell_type": "markdown",
   "metadata": {},
   "source": [
    "**FicZon Inc is an IT solution provider with products ranging from on-premises products to SAS based solutions. FicZon major leads generation channel is digital and through their website**\n",
    "\n",
    "**FicZon business is majorly dependent on the sales force effectiveness. As the market is maturing and more new competitors entering the market, FicZon is experiencing the dip in sales. Effective sales is dependent on lead quality and as of now, this is based on manual categorization and highly depended on sales staff. Though there is a quality process, which continuously updates the lead categorization, it’s value is in for post analysis, rather than conversation.**\n",
    "\n"
   ]
  },
  {
   "cell_type": "markdown",
   "metadata": {},
   "source": [
    "# **PROBLEM DEFINITION**"
   ]
  },
  {
   "cell_type": "markdown",
   "metadata": {},
   "source": [
    "*FicZon wants to explore Machine Learning to pre-categorize the lead quality and as result, expecting significant increase in sales effectiveness*\n",
    "\n",
    "**PROJECT GOAL:**\n",
    "\n",
    "*Data exploration insights – Sales effectiveness.**\n",
    "\n",
    "*ML model to predict the Lead Category.**"
   ]
  },
  {
   "cell_type": "markdown",
   "metadata": {},
   "source": [
    "# **Business Case: Predicting the lead category whether it is Good or bad from the given sales dataset.**"
   ]
  },
  {
   "cell_type": "markdown",
   "metadata": {},
   "source": [
    "# **Connecting to the server**"
   ]
  },
  {
   "cell_type": "code",
   "execution_count": 2,
   "metadata": {
    "colab": {
     "base_uri": "https://localhost:8080/"
    },
    "id": "q-diF_pDFFtw",
    "outputId": "e5b58e87-f8d5-43cf-c577-bee56e0bf8d1"
   },
   "outputs": [
    {
     "name": "stdout",
     "output_type": "stream",
     "text": [
      "Requirement already satisfied: mysql-connector in c:\\users\\hp\\anaconda3\\anaconda python\\lib\\site-packages (2.2.9)\n",
      "Note: you may need to restart the kernel to use updated packages.\n"
     ]
    }
   ],
   "source": [
    "pip install mysql-connector"
   ]
  },
  {
   "cell_type": "code",
   "execution_count": 3,
   "metadata": {
    "id": "lm2GIAPAQVS9"
   },
   "outputs": [],
   "source": [
    "import os\n",
    "import mysql.connector\n",
    "import pandas as pd\n",
    "import numpy as np"
   ]
  },
  {
   "cell_type": "code",
   "execution_count": 4,
   "metadata": {
    "colab": {
     "base_uri": "https://localhost:8080/"
    },
    "id": "DJrESEuGQVPu",
    "outputId": "e8915e88-9a9f-40b6-81fb-310a437921e1"
   },
   "outputs": [
    {
     "name": "stdout",
     "output_type": "stream",
     "text": [
      "<mysql.connector.connection.MySQLConnection object at 0x000001DDE574E970>\n"
     ]
    }
   ],
   "source": [
    "## making connections\n",
    "connection=mysql.connector.connect(host = '18.136.157.135',\n",
    "                                  user='dm_team2',\n",
    "                                  password='DM!$Team&27@9!20!')\n",
    "print(connection)"
   ]
  },
  {
   "cell_type": "code",
   "execution_count": 5,
   "metadata": {
    "colab": {
     "base_uri": "https://localhost:8080/"
    },
    "id": "paeVFFpPQVMq",
    "outputId": "885ce723-5e22-45c1-e2ef-9cedd8b43e94"
   },
   "outputs": [
    {
     "name": "stdout",
     "output_type": "stream",
     "text": [
      "('information_schema',)\n",
      "('project_sales',)\n"
     ]
    }
   ],
   "source": [
    "## getting the database name\n",
    "cursor=connection.cursor()\n",
    "cursor.execute('show databases')\n",
    "for i in cursor:\n",
    "    print(i)\n",
    "\n"
   ]
  },
  {
   "cell_type": "code",
   "execution_count": 6,
   "metadata": {
    "id": "LLUNM9FPQtsQ"
   },
   "outputs": [],
   "source": [
    "## connecting the database\n",
    "connection=mysql.connector.connect(host='18.136.157.135',\n",
    "                                  user='dm_team2',\n",
    "                                  password='DM!$Team&27@9!20!',\n",
    "                                  database='project_sales')"
   ]
  },
  {
   "cell_type": "code",
   "execution_count": 7,
   "metadata": {
    "colab": {
     "base_uri": "https://localhost:8080/"
    },
    "id": "zKuyUO6nQxNE",
    "outputId": "0073205d-2a9a-4e4c-ecdc-73aed2e8d45d"
   },
   "outputs": [
    {
     "name": "stdout",
     "output_type": "stream",
     "text": [
      "  Tables_in_project_sales\n",
      "0                    data\n"
     ]
    }
   ],
   "source": [
    "db_tables=pd.read_sql_query('show tables',connection)\n",
    "print(db_tables)"
   ]
  },
  {
   "cell_type": "code",
   "execution_count": 8,
   "metadata": {
    "id": "28sd8aqhCPiZ"
   },
   "outputs": [],
   "source": [
    "query = \"select * from data\""
   ]
  },
  {
   "cell_type": "code",
   "execution_count": 9,
   "metadata": {
    "id": "A20oWvK8CPia"
   },
   "outputs": [],
   "source": [
    "Sales_Data = pd.read_sql(query,connection)"
   ]
  },
  {
   "cell_type": "code",
   "execution_count": 10,
   "metadata": {},
   "outputs": [
    {
     "data": {
      "text/html": [
       "<div>\n",
       "<style scoped>\n",
       "    .dataframe tbody tr th:only-of-type {\n",
       "        vertical-align: middle;\n",
       "    }\n",
       "\n",
       "    .dataframe tbody tr th {\n",
       "        vertical-align: top;\n",
       "    }\n",
       "\n",
       "    .dataframe thead th {\n",
       "        text-align: right;\n",
       "    }\n",
       "</style>\n",
       "<table border=\"1\" class=\"dataframe\">\n",
       "  <thead>\n",
       "    <tr style=\"text-align: right;\">\n",
       "      <th></th>\n",
       "      <th>Created</th>\n",
       "      <th>Product_ID</th>\n",
       "      <th>Source</th>\n",
       "      <th>Mobile</th>\n",
       "      <th>EMAIL</th>\n",
       "      <th>Sales_Agent</th>\n",
       "      <th>Location</th>\n",
       "      <th>Delivery_Mode</th>\n",
       "      <th>Status</th>\n",
       "    </tr>\n",
       "  </thead>\n",
       "  <tbody>\n",
       "    <tr>\n",
       "      <th>0</th>\n",
       "      <td>14-11-2018 10:05</td>\n",
       "      <td></td>\n",
       "      <td>Website</td>\n",
       "      <td>984XXXXXXX</td>\n",
       "      <td>aXXXXXXX@gmail.com</td>\n",
       "      <td>Sales-Agent-11</td>\n",
       "      <td></td>\n",
       "      <td>Mode-5</td>\n",
       "      <td>Open</td>\n",
       "    </tr>\n",
       "    <tr>\n",
       "      <th>1</th>\n",
       "      <td>14-11-2018 09:22</td>\n",
       "      <td></td>\n",
       "      <td>Website</td>\n",
       "      <td>XXXXXXX</td>\n",
       "      <td>#VALUE!</td>\n",
       "      <td>Sales-Agent-10</td>\n",
       "      <td></td>\n",
       "      <td>Mode-5</td>\n",
       "      <td>Open</td>\n",
       "    </tr>\n",
       "    <tr>\n",
       "      <th>2</th>\n",
       "      <td>14-11-2018 09:21</td>\n",
       "      <td></td>\n",
       "      <td>Website</td>\n",
       "      <td>XXXXXXX</td>\n",
       "      <td>dXXXXXXX@yahoo.com</td>\n",
       "      <td>Sales-Agent-10</td>\n",
       "      <td></td>\n",
       "      <td>Mode-5</td>\n",
       "      <td>Open</td>\n",
       "    </tr>\n",
       "    <tr>\n",
       "      <th>3</th>\n",
       "      <td>14-11-2018 08:46</td>\n",
       "      <td></td>\n",
       "      <td>Website</td>\n",
       "      <td>XXXXXXX</td>\n",
       "      <td>wXXXXXXX@gmail.com</td>\n",
       "      <td>Sales-Agent-10</td>\n",
       "      <td></td>\n",
       "      <td>Mode-5</td>\n",
       "      <td>Open</td>\n",
       "    </tr>\n",
       "    <tr>\n",
       "      <th>4</th>\n",
       "      <td>14-11-2018 07:34</td>\n",
       "      <td></td>\n",
       "      <td>Website</td>\n",
       "      <td>XXXXXXX</td>\n",
       "      <td>cXXXXXXX@gmail.com</td>\n",
       "      <td>Sales-Agent-10</td>\n",
       "      <td></td>\n",
       "      <td>Mode-5</td>\n",
       "      <td>Open</td>\n",
       "    </tr>\n",
       "    <tr>\n",
       "      <th>...</th>\n",
       "      <td>...</td>\n",
       "      <td>...</td>\n",
       "      <td>...</td>\n",
       "      <td>...</td>\n",
       "      <td>...</td>\n",
       "      <td>...</td>\n",
       "      <td>...</td>\n",
       "      <td>...</td>\n",
       "      <td>...</td>\n",
       "    </tr>\n",
       "    <tr>\n",
       "      <th>7417</th>\n",
       "      <td>28-04-2018 09:45</td>\n",
       "      <td>9</td>\n",
       "      <td>Call</td>\n",
       "      <td></td>\n",
       "      <td>aXXXXXXX@gmail.com</td>\n",
       "      <td>Sales-Agent-6</td>\n",
       "      <td>Mumbai</td>\n",
       "      <td>Mode-4</td>\n",
       "      <td>LOST</td>\n",
       "    </tr>\n",
       "    <tr>\n",
       "      <th>7418</th>\n",
       "      <td>28-04-2018 09:43</td>\n",
       "      <td>15</td>\n",
       "      <td>Call</td>\n",
       "      <td></td>\n",
       "      <td>#VALUE!</td>\n",
       "      <td>Sales-Agent-12</td>\n",
       "      <td>Other Locations</td>\n",
       "      <td>Mode-5</td>\n",
       "      <td>LOST</td>\n",
       "    </tr>\n",
       "    <tr>\n",
       "      <th>7419</th>\n",
       "      <td>28-04-2018 09:20</td>\n",
       "      <td>5</td>\n",
       "      <td>Live Chat-Direct</td>\n",
       "      <td></td>\n",
       "      <td>sXXXXXXX@gmail.com</td>\n",
       "      <td>Sales-Agent-11</td>\n",
       "      <td>Bangalore</td>\n",
       "      <td>Mode-1</td>\n",
       "      <td>Not Responding</td>\n",
       "    </tr>\n",
       "    <tr>\n",
       "      <th>7420</th>\n",
       "      <td>28-04-2018 08:04</td>\n",
       "      <td>21</td>\n",
       "      <td>CRM form</td>\n",
       "      <td></td>\n",
       "      <td>YXXXXXXX@gmail.com</td>\n",
       "      <td>Sales-Agent-4</td>\n",
       "      <td>Other Locations</td>\n",
       "      <td>Mode-1</td>\n",
       "      <td>Just Enquiry</td>\n",
       "    </tr>\n",
       "    <tr>\n",
       "      <th>7421</th>\n",
       "      <td>28-04-2018 07:54</td>\n",
       "      <td>25</td>\n",
       "      <td>Website</td>\n",
       "      <td></td>\n",
       "      <td>cXXXXXXX@gmail.com</td>\n",
       "      <td>Sales-Agent-3</td>\n",
       "      <td>Chennai</td>\n",
       "      <td>Mode-1</td>\n",
       "      <td>CONVERTED</td>\n",
       "    </tr>\n",
       "  </tbody>\n",
       "</table>\n",
       "<p>7422 rows × 9 columns</p>\n",
       "</div>"
      ],
      "text/plain": [
       "               Created Product_ID            Source      Mobile  \\\n",
       "0     14-11-2018 10:05                      Website  984XXXXXXX   \n",
       "1     14-11-2018 09:22                      Website     XXXXXXX   \n",
       "2     14-11-2018 09:21                      Website     XXXXXXX   \n",
       "3     14-11-2018 08:46                      Website     XXXXXXX   \n",
       "4     14-11-2018 07:34                      Website     XXXXXXX   \n",
       "...                ...        ...               ...         ...   \n",
       "7417  28-04-2018 09:45          9              Call               \n",
       "7418  28-04-2018 09:43         15              Call               \n",
       "7419  28-04-2018 09:20          5  Live Chat-Direct               \n",
       "7420  28-04-2018 08:04         21          CRM form               \n",
       "7421  28-04-2018 07:54         25           Website               \n",
       "\n",
       "                   EMAIL     Sales_Agent         Location Delivery_Mode  \\\n",
       "0     aXXXXXXX@gmail.com  Sales-Agent-11                         Mode-5   \n",
       "1                #VALUE!  Sales-Agent-10                         Mode-5   \n",
       "2     dXXXXXXX@yahoo.com  Sales-Agent-10                         Mode-5   \n",
       "3     wXXXXXXX@gmail.com  Sales-Agent-10                         Mode-5   \n",
       "4     cXXXXXXX@gmail.com  Sales-Agent-10                         Mode-5   \n",
       "...                  ...             ...              ...           ...   \n",
       "7417  aXXXXXXX@gmail.com   Sales-Agent-6           Mumbai        Mode-4   \n",
       "7418             #VALUE!  Sales-Agent-12  Other Locations        Mode-5   \n",
       "7419  sXXXXXXX@gmail.com  Sales-Agent-11        Bangalore        Mode-1   \n",
       "7420  YXXXXXXX@gmail.com   Sales-Agent-4  Other Locations        Mode-1   \n",
       "7421  cXXXXXXX@gmail.com   Sales-Agent-3          Chennai        Mode-1   \n",
       "\n",
       "              Status  \n",
       "0               Open  \n",
       "1               Open  \n",
       "2               Open  \n",
       "3               Open  \n",
       "4               Open  \n",
       "...              ...  \n",
       "7417            LOST  \n",
       "7418            LOST  \n",
       "7419  Not Responding  \n",
       "7420    Just Enquiry  \n",
       "7421       CONVERTED  \n",
       "\n",
       "[7422 rows x 9 columns]"
      ]
     },
     "execution_count": 10,
     "metadata": {},
     "output_type": "execute_result"
    }
   ],
   "source": [
    "Sales_Data"
   ]
  },
  {
   "cell_type": "markdown",
   "metadata": {},
   "source": [
    "# **DOMAIN ANALYSIS**"
   ]
  },
  {
   "cell_type": "markdown",
   "metadata": {},
   "source": [
    "Created -  date and time of lead generrated"
   ]
  },
  {
   "cell_type": "markdown",
   "metadata": {},
   "source": [
    "Product_ID - Product id of the each products "
   ]
  },
  {
   "cell_type": "markdown",
   "metadata": {},
   "source": [
    "Source - The channel through which a lead initially discovers the company"
   ]
  },
  {
   "cell_type": "markdown",
   "metadata": {},
   "source": [
    "Sales Agent - A person or a company that acts as a sales agent on behalf of the company, introducing its products to the leads."
   ]
  },
  {
   "cell_type": "markdown",
   "metadata": {},
   "source": [
    "Location - locations of the leads"
   ]
  },
  {
   "cell_type": "markdown",
   "metadata": {},
   "source": [
    "Delivery_Mode - mode of the delivery according to the location"
   ]
  },
  {
   "cell_type": "markdown",
   "metadata": {},
   "source": [
    "Status - (the target variable) The field is typically used to communicate the status of a record to both the reporting users and the sales rep who is working the lead. \n",
    "The reporting user wants to see explicit detail while the sales rep wants to update the record in a natural and efficient manner."
   ]
  },
  {
   "cell_type": "markdown",
   "metadata": {},
   "source": [
    "# **Basic Checks**"
   ]
  },
  {
   "cell_type": "code",
   "execution_count": 11,
   "metadata": {},
   "outputs": [
    {
     "data": {
      "text/html": [
       "<div>\n",
       "<style scoped>\n",
       "    .dataframe tbody tr th:only-of-type {\n",
       "        vertical-align: middle;\n",
       "    }\n",
       "\n",
       "    .dataframe tbody tr th {\n",
       "        vertical-align: top;\n",
       "    }\n",
       "\n",
       "    .dataframe thead th {\n",
       "        text-align: right;\n",
       "    }\n",
       "</style>\n",
       "<table border=\"1\" class=\"dataframe\">\n",
       "  <thead>\n",
       "    <tr style=\"text-align: right;\">\n",
       "      <th></th>\n",
       "      <th>Created</th>\n",
       "      <th>Product_ID</th>\n",
       "      <th>Source</th>\n",
       "      <th>Mobile</th>\n",
       "      <th>EMAIL</th>\n",
       "      <th>Sales_Agent</th>\n",
       "      <th>Location</th>\n",
       "      <th>Delivery_Mode</th>\n",
       "      <th>Status</th>\n",
       "    </tr>\n",
       "  </thead>\n",
       "  <tbody>\n",
       "    <tr>\n",
       "      <th>0</th>\n",
       "      <td>14-11-2018 10:05</td>\n",
       "      <td></td>\n",
       "      <td>Website</td>\n",
       "      <td>984XXXXXXX</td>\n",
       "      <td>aXXXXXXX@gmail.com</td>\n",
       "      <td>Sales-Agent-11</td>\n",
       "      <td></td>\n",
       "      <td>Mode-5</td>\n",
       "      <td>Open</td>\n",
       "    </tr>\n",
       "    <tr>\n",
       "      <th>1</th>\n",
       "      <td>14-11-2018 09:22</td>\n",
       "      <td></td>\n",
       "      <td>Website</td>\n",
       "      <td>XXXXXXX</td>\n",
       "      <td>#VALUE!</td>\n",
       "      <td>Sales-Agent-10</td>\n",
       "      <td></td>\n",
       "      <td>Mode-5</td>\n",
       "      <td>Open</td>\n",
       "    </tr>\n",
       "    <tr>\n",
       "      <th>2</th>\n",
       "      <td>14-11-2018 09:21</td>\n",
       "      <td></td>\n",
       "      <td>Website</td>\n",
       "      <td>XXXXXXX</td>\n",
       "      <td>dXXXXXXX@yahoo.com</td>\n",
       "      <td>Sales-Agent-10</td>\n",
       "      <td></td>\n",
       "      <td>Mode-5</td>\n",
       "      <td>Open</td>\n",
       "    </tr>\n",
       "    <tr>\n",
       "      <th>3</th>\n",
       "      <td>14-11-2018 08:46</td>\n",
       "      <td></td>\n",
       "      <td>Website</td>\n",
       "      <td>XXXXXXX</td>\n",
       "      <td>wXXXXXXX@gmail.com</td>\n",
       "      <td>Sales-Agent-10</td>\n",
       "      <td></td>\n",
       "      <td>Mode-5</td>\n",
       "      <td>Open</td>\n",
       "    </tr>\n",
       "    <tr>\n",
       "      <th>4</th>\n",
       "      <td>14-11-2018 07:34</td>\n",
       "      <td></td>\n",
       "      <td>Website</td>\n",
       "      <td>XXXXXXX</td>\n",
       "      <td>cXXXXXXX@gmail.com</td>\n",
       "      <td>Sales-Agent-10</td>\n",
       "      <td></td>\n",
       "      <td>Mode-5</td>\n",
       "      <td>Open</td>\n",
       "    </tr>\n",
       "  </tbody>\n",
       "</table>\n",
       "</div>"
      ],
      "text/plain": [
       "            Created Product_ID   Source      Mobile               EMAIL  \\\n",
       "0  14-11-2018 10:05             Website  984XXXXXXX  aXXXXXXX@gmail.com   \n",
       "1  14-11-2018 09:22             Website     XXXXXXX             #VALUE!   \n",
       "2  14-11-2018 09:21             Website     XXXXXXX  dXXXXXXX@yahoo.com   \n",
       "3  14-11-2018 08:46             Website     XXXXXXX  wXXXXXXX@gmail.com   \n",
       "4  14-11-2018 07:34             Website     XXXXXXX  cXXXXXXX@gmail.com   \n",
       "\n",
       "      Sales_Agent Location Delivery_Mode Status  \n",
       "0  Sales-Agent-11                 Mode-5   Open  \n",
       "1  Sales-Agent-10                 Mode-5   Open  \n",
       "2  Sales-Agent-10                 Mode-5   Open  \n",
       "3  Sales-Agent-10                 Mode-5   Open  \n",
       "4  Sales-Agent-10                 Mode-5   Open  "
      ]
     },
     "execution_count": 11,
     "metadata": {},
     "output_type": "execute_result"
    }
   ],
   "source": [
    "Sales_Data.head()"
   ]
  },
  {
   "cell_type": "code",
   "execution_count": 12,
   "metadata": {},
   "outputs": [
    {
     "data": {
      "text/html": [
       "<div>\n",
       "<style scoped>\n",
       "    .dataframe tbody tr th:only-of-type {\n",
       "        vertical-align: middle;\n",
       "    }\n",
       "\n",
       "    .dataframe tbody tr th {\n",
       "        vertical-align: top;\n",
       "    }\n",
       "\n",
       "    .dataframe thead th {\n",
       "        text-align: right;\n",
       "    }\n",
       "</style>\n",
       "<table border=\"1\" class=\"dataframe\">\n",
       "  <thead>\n",
       "    <tr style=\"text-align: right;\">\n",
       "      <th></th>\n",
       "      <th>Created</th>\n",
       "      <th>Product_ID</th>\n",
       "      <th>Source</th>\n",
       "      <th>Mobile</th>\n",
       "      <th>EMAIL</th>\n",
       "      <th>Sales_Agent</th>\n",
       "      <th>Location</th>\n",
       "      <th>Delivery_Mode</th>\n",
       "      <th>Status</th>\n",
       "    </tr>\n",
       "  </thead>\n",
       "  <tbody>\n",
       "    <tr>\n",
       "      <th>7417</th>\n",
       "      <td>28-04-2018 09:45</td>\n",
       "      <td>9</td>\n",
       "      <td>Call</td>\n",
       "      <td></td>\n",
       "      <td>aXXXXXXX@gmail.com</td>\n",
       "      <td>Sales-Agent-6</td>\n",
       "      <td>Mumbai</td>\n",
       "      <td>Mode-4</td>\n",
       "      <td>LOST</td>\n",
       "    </tr>\n",
       "    <tr>\n",
       "      <th>7418</th>\n",
       "      <td>28-04-2018 09:43</td>\n",
       "      <td>15</td>\n",
       "      <td>Call</td>\n",
       "      <td></td>\n",
       "      <td>#VALUE!</td>\n",
       "      <td>Sales-Agent-12</td>\n",
       "      <td>Other Locations</td>\n",
       "      <td>Mode-5</td>\n",
       "      <td>LOST</td>\n",
       "    </tr>\n",
       "    <tr>\n",
       "      <th>7419</th>\n",
       "      <td>28-04-2018 09:20</td>\n",
       "      <td>5</td>\n",
       "      <td>Live Chat-Direct</td>\n",
       "      <td></td>\n",
       "      <td>sXXXXXXX@gmail.com</td>\n",
       "      <td>Sales-Agent-11</td>\n",
       "      <td>Bangalore</td>\n",
       "      <td>Mode-1</td>\n",
       "      <td>Not Responding</td>\n",
       "    </tr>\n",
       "    <tr>\n",
       "      <th>7420</th>\n",
       "      <td>28-04-2018 08:04</td>\n",
       "      <td>21</td>\n",
       "      <td>CRM form</td>\n",
       "      <td></td>\n",
       "      <td>YXXXXXXX@gmail.com</td>\n",
       "      <td>Sales-Agent-4</td>\n",
       "      <td>Other Locations</td>\n",
       "      <td>Mode-1</td>\n",
       "      <td>Just Enquiry</td>\n",
       "    </tr>\n",
       "    <tr>\n",
       "      <th>7421</th>\n",
       "      <td>28-04-2018 07:54</td>\n",
       "      <td>25</td>\n",
       "      <td>Website</td>\n",
       "      <td></td>\n",
       "      <td>cXXXXXXX@gmail.com</td>\n",
       "      <td>Sales-Agent-3</td>\n",
       "      <td>Chennai</td>\n",
       "      <td>Mode-1</td>\n",
       "      <td>CONVERTED</td>\n",
       "    </tr>\n",
       "  </tbody>\n",
       "</table>\n",
       "</div>"
      ],
      "text/plain": [
       "               Created Product_ID            Source Mobile  \\\n",
       "7417  28-04-2018 09:45          9              Call          \n",
       "7418  28-04-2018 09:43         15              Call          \n",
       "7419  28-04-2018 09:20          5  Live Chat-Direct          \n",
       "7420  28-04-2018 08:04         21          CRM form          \n",
       "7421  28-04-2018 07:54         25           Website          \n",
       "\n",
       "                   EMAIL     Sales_Agent         Location Delivery_Mode  \\\n",
       "7417  aXXXXXXX@gmail.com   Sales-Agent-6           Mumbai        Mode-4   \n",
       "7418             #VALUE!  Sales-Agent-12  Other Locations        Mode-5   \n",
       "7419  sXXXXXXX@gmail.com  Sales-Agent-11        Bangalore        Mode-1   \n",
       "7420  YXXXXXXX@gmail.com   Sales-Agent-4  Other Locations        Mode-1   \n",
       "7421  cXXXXXXX@gmail.com   Sales-Agent-3          Chennai        Mode-1   \n",
       "\n",
       "              Status  \n",
       "7417            LOST  \n",
       "7418            LOST  \n",
       "7419  Not Responding  \n",
       "7420    Just Enquiry  \n",
       "7421       CONVERTED  "
      ]
     },
     "execution_count": 12,
     "metadata": {},
     "output_type": "execute_result"
    }
   ],
   "source": [
    "Sales_Data.tail()"
   ]
  },
  {
   "cell_type": "code",
   "execution_count": 13,
   "metadata": {},
   "outputs": [
    {
     "data": {
      "text/plain": [
       "0                Website\n",
       "1                Website\n",
       "2                Website\n",
       "3                Website\n",
       "4                Website\n",
       "              ...       \n",
       "7417                Call\n",
       "7418                Call\n",
       "7419    Live Chat-Direct\n",
       "7420            CRM form\n",
       "7421             Website\n",
       "Name: Source, Length: 7422, dtype: object"
      ]
     },
     "execution_count": 13,
     "metadata": {},
     "output_type": "execute_result"
    }
   ],
   "source": [
    "Sales_Data.Source"
   ]
  },
  {
   "cell_type": "code",
   "execution_count": 14,
   "metadata": {},
   "outputs": [
    {
     "data": {
      "text/html": [
       "<div>\n",
       "<style scoped>\n",
       "    .dataframe tbody tr th:only-of-type {\n",
       "        vertical-align: middle;\n",
       "    }\n",
       "\n",
       "    .dataframe tbody tr th {\n",
       "        vertical-align: top;\n",
       "    }\n",
       "\n",
       "    .dataframe thead th {\n",
       "        text-align: right;\n",
       "    }\n",
       "</style>\n",
       "<table border=\"1\" class=\"dataframe\">\n",
       "  <thead>\n",
       "    <tr style=\"text-align: right;\">\n",
       "      <th></th>\n",
       "      <th>Created</th>\n",
       "      <th>Product_ID</th>\n",
       "      <th>Source</th>\n",
       "      <th>Mobile</th>\n",
       "      <th>EMAIL</th>\n",
       "      <th>Sales_Agent</th>\n",
       "      <th>Location</th>\n",
       "      <th>Delivery_Mode</th>\n",
       "      <th>Status</th>\n",
       "    </tr>\n",
       "  </thead>\n",
       "  <tbody>\n",
       "    <tr>\n",
       "      <th>count</th>\n",
       "      <td>7422</td>\n",
       "      <td>7422</td>\n",
       "      <td>7422</td>\n",
       "      <td>7422</td>\n",
       "      <td>7422</td>\n",
       "      <td>7422</td>\n",
       "      <td>7422</td>\n",
       "      <td>7422</td>\n",
       "      <td>7422</td>\n",
       "    </tr>\n",
       "    <tr>\n",
       "      <th>unique</th>\n",
       "      <td>6752</td>\n",
       "      <td>30</td>\n",
       "      <td>26</td>\n",
       "      <td>487</td>\n",
       "      <td>883</td>\n",
       "      <td>13</td>\n",
       "      <td>18</td>\n",
       "      <td>5</td>\n",
       "      <td>11</td>\n",
       "    </tr>\n",
       "    <tr>\n",
       "      <th>top</th>\n",
       "      <td>26-09-2018 11:30</td>\n",
       "      <td>18</td>\n",
       "      <td>Call</td>\n",
       "      <td></td>\n",
       "      <td>#VALUE!</td>\n",
       "      <td>Sales-Agent-4</td>\n",
       "      <td>Other Locations</td>\n",
       "      <td>Mode-5</td>\n",
       "      <td>Junk Lead</td>\n",
       "    </tr>\n",
       "    <tr>\n",
       "      <th>freq</th>\n",
       "      <td>4</td>\n",
       "      <td>1711</td>\n",
       "      <td>2547</td>\n",
       "      <td>1810</td>\n",
       "      <td>1701</td>\n",
       "      <td>1500</td>\n",
       "      <td>2500</td>\n",
       "      <td>2975</td>\n",
       "      <td>1536</td>\n",
       "    </tr>\n",
       "  </tbody>\n",
       "</table>\n",
       "</div>"
      ],
      "text/plain": [
       "                 Created Product_ID Source Mobile    EMAIL    Sales_Agent  \\\n",
       "count               7422       7422   7422   7422     7422           7422   \n",
       "unique              6752         30     26    487      883             13   \n",
       "top     26-09-2018 11:30         18   Call         #VALUE!  Sales-Agent-4   \n",
       "freq                   4       1711   2547   1810     1701           1500   \n",
       "\n",
       "               Location Delivery_Mode     Status  \n",
       "count              7422          7422       7422  \n",
       "unique               18             5         11  \n",
       "top     Other Locations        Mode-5  Junk Lead  \n",
       "freq               2500          2975       1536  "
      ]
     },
     "execution_count": 14,
     "metadata": {},
     "output_type": "execute_result"
    }
   ],
   "source": [
    "Sales_Data.describe()"
   ]
  },
  {
   "cell_type": "code",
   "execution_count": 15,
   "metadata": {},
   "outputs": [
    {
     "name": "stdout",
     "output_type": "stream",
     "text": [
      "<class 'pandas.core.frame.DataFrame'>\n",
      "RangeIndex: 7422 entries, 0 to 7421\n",
      "Data columns (total 9 columns):\n",
      " #   Column         Non-Null Count  Dtype \n",
      "---  ------         --------------  ----- \n",
      " 0   Created        7422 non-null   object\n",
      " 1   Product_ID     7422 non-null   object\n",
      " 2   Source         7422 non-null   object\n",
      " 3   Mobile         7422 non-null   object\n",
      " 4   EMAIL          7422 non-null   object\n",
      " 5   Sales_Agent    7422 non-null   object\n",
      " 6   Location       7422 non-null   object\n",
      " 7   Delivery_Mode  7422 non-null   object\n",
      " 8   Status         7422 non-null   object\n",
      "dtypes: object(9)\n",
      "memory usage: 522.0+ KB\n"
     ]
    }
   ],
   "source": [
    "Sales_Data.info()"
   ]
  },
  {
   "cell_type": "code",
   "execution_count": 16,
   "metadata": {},
   "outputs": [
    {
     "data": {
      "text/plain": [
       "Junk Lead               1536\n",
       "Not Responding          1129\n",
       "CONVERTED                834\n",
       "Just Enquiry             760\n",
       "Potential                708\n",
       "Long Term                646\n",
       "In Progress Positive     643\n",
       "In Progress Negative     626\n",
       "LOST                     440\n",
       "Open                      82\n",
       "converted                 18\n",
       "Name: Status, dtype: int64"
      ]
     },
     "execution_count": 16,
     "metadata": {},
     "output_type": "execute_result"
    }
   ],
   "source": [
    "# target class count\n",
    "Sales_Data[\"Status\"].value_counts()"
   ]
  },
  {
   "cell_type": "code",
   "execution_count": 17,
   "metadata": {},
   "outputs": [
    {
     "data": {
      "text/plain": [
       "Call                             2547\n",
       "Live Chat-Direct                 1834\n",
       "Website                          1594\n",
       "Live Chat-Google Organic          274\n",
       "Live Chat -PPC                    249\n",
       "Live Chat-Blog                    237\n",
       "Customer Referral                 180\n",
       "US Website                        137\n",
       "Just Dial                          56\n",
       "Existing Client                    51\n",
       "Personal Contact                   50\n",
       "Live Chat-CPC                      50\n",
       "By Recommendation                  32\n",
       "CRM form                           23\n",
       "Existing Customer                  22\n",
       "Live Chat-Google Ads               21\n",
       "Campaign                           19\n",
       "                                   17\n",
       "E-mail Campaign                    12\n",
       "Live Chat-Adwords Remarketing       7\n",
       "Live Chat-Quora                     2\n",
       "Other                               2\n",
       "SMS Campaign                        2\n",
       "Live Chat-Youtube                   2\n",
       "E-Mail Message                      1\n",
       "Live Chat-Justdial                  1\n",
       "Name: Source, dtype: int64"
      ]
     },
     "execution_count": 17,
     "metadata": {},
     "output_type": "execute_result"
    }
   ],
   "source": [
    "Sales_Data[\"Source\"].value_counts()"
   ]
  },
  {
   "cell_type": "markdown",
   "metadata": {},
   "source": [
    "# **Exploratory Data Analysis**"
   ]
  },
  {
   "cell_type": "code",
   "execution_count": 18,
   "metadata": {},
   "outputs": [
    {
     "data": {
      "text/html": [
       "<div>\n",
       "<style scoped>\n",
       "    .dataframe tbody tr th:only-of-type {\n",
       "        vertical-align: middle;\n",
       "    }\n",
       "\n",
       "    .dataframe tbody tr th {\n",
       "        vertical-align: top;\n",
       "    }\n",
       "\n",
       "    .dataframe thead th {\n",
       "        text-align: right;\n",
       "    }\n",
       "</style>\n",
       "<table border=\"1\" class=\"dataframe\">\n",
       "  <thead>\n",
       "    <tr style=\"text-align: right;\">\n",
       "      <th></th>\n",
       "      <th>Created</th>\n",
       "      <th>Product_ID</th>\n",
       "      <th>Source</th>\n",
       "      <th>Mobile</th>\n",
       "      <th>EMAIL</th>\n",
       "      <th>Sales_Agent</th>\n",
       "      <th>Location</th>\n",
       "      <th>Delivery_Mode</th>\n",
       "      <th>Status</th>\n",
       "    </tr>\n",
       "  </thead>\n",
       "  <tbody>\n",
       "    <tr>\n",
       "      <th>0</th>\n",
       "      <td>14-11-2018 10:05</td>\n",
       "      <td></td>\n",
       "      <td>Website</td>\n",
       "      <td>984XXXXXXX</td>\n",
       "      <td>aXXXXXXX@gmail.com</td>\n",
       "      <td>Sales-Agent-11</td>\n",
       "      <td></td>\n",
       "      <td>Mode-5</td>\n",
       "      <td>Open</td>\n",
       "    </tr>\n",
       "    <tr>\n",
       "      <th>1</th>\n",
       "      <td>14-11-2018 09:22</td>\n",
       "      <td></td>\n",
       "      <td>Website</td>\n",
       "      <td>XXXXXXX</td>\n",
       "      <td>#VALUE!</td>\n",
       "      <td>Sales-Agent-10</td>\n",
       "      <td></td>\n",
       "      <td>Mode-5</td>\n",
       "      <td>Open</td>\n",
       "    </tr>\n",
       "    <tr>\n",
       "      <th>2</th>\n",
       "      <td>14-11-2018 09:21</td>\n",
       "      <td></td>\n",
       "      <td>Website</td>\n",
       "      <td>XXXXXXX</td>\n",
       "      <td>dXXXXXXX@yahoo.com</td>\n",
       "      <td>Sales-Agent-10</td>\n",
       "      <td></td>\n",
       "      <td>Mode-5</td>\n",
       "      <td>Open</td>\n",
       "    </tr>\n",
       "    <tr>\n",
       "      <th>3</th>\n",
       "      <td>14-11-2018 08:46</td>\n",
       "      <td></td>\n",
       "      <td>Website</td>\n",
       "      <td>XXXXXXX</td>\n",
       "      <td>wXXXXXXX@gmail.com</td>\n",
       "      <td>Sales-Agent-10</td>\n",
       "      <td></td>\n",
       "      <td>Mode-5</td>\n",
       "      <td>Open</td>\n",
       "    </tr>\n",
       "    <tr>\n",
       "      <th>4</th>\n",
       "      <td>14-11-2018 07:34</td>\n",
       "      <td></td>\n",
       "      <td>Website</td>\n",
       "      <td>XXXXXXX</td>\n",
       "      <td>cXXXXXXX@gmail.com</td>\n",
       "      <td>Sales-Agent-10</td>\n",
       "      <td></td>\n",
       "      <td>Mode-5</td>\n",
       "      <td>Open</td>\n",
       "    </tr>\n",
       "  </tbody>\n",
       "</table>\n",
       "</div>"
      ],
      "text/plain": [
       "            Created Product_ID   Source      Mobile               EMAIL  \\\n",
       "0  14-11-2018 10:05             Website  984XXXXXXX  aXXXXXXX@gmail.com   \n",
       "1  14-11-2018 09:22             Website     XXXXXXX             #VALUE!   \n",
       "2  14-11-2018 09:21             Website     XXXXXXX  dXXXXXXX@yahoo.com   \n",
       "3  14-11-2018 08:46             Website     XXXXXXX  wXXXXXXX@gmail.com   \n",
       "4  14-11-2018 07:34             Website     XXXXXXX  cXXXXXXX@gmail.com   \n",
       "\n",
       "      Sales_Agent Location Delivery_Mode Status  \n",
       "0  Sales-Agent-11                 Mode-5   Open  \n",
       "1  Sales-Agent-10                 Mode-5   Open  \n",
       "2  Sales-Agent-10                 Mode-5   Open  \n",
       "3  Sales-Agent-10                 Mode-5   Open  \n",
       "4  Sales-Agent-10                 Mode-5   Open  "
      ]
     },
     "execution_count": 18,
     "metadata": {},
     "output_type": "execute_result"
    }
   ],
   "source": [
    "Sales_Data.head()"
   ]
  },
  {
   "cell_type": "code",
   "execution_count": 19,
   "metadata": {},
   "outputs": [
    {
     "data": {
      "text/plain": [
       "array(['Open', 'Potential', 'In Progress Positive', 'Not Responding',\n",
       "       'Just Enquiry', 'Junk Lead', 'CONVERTED', 'In Progress Negative',\n",
       "       'LOST', 'Long Term', 'converted'], dtype=object)"
      ]
     },
     "execution_count": 19,
     "metadata": {},
     "output_type": "execute_result"
    }
   ],
   "source": [
    "Sales_Data.Status.unique()"
   ]
  },
  {
   "cell_type": "code",
   "execution_count": 20,
   "metadata": {},
   "outputs": [
    {
     "data": {
      "text/plain": [
       "Created          0\n",
       "Product_ID       0\n",
       "Source           0\n",
       "Mobile           0\n",
       "EMAIL            0\n",
       "Sales_Agent      0\n",
       "Location         0\n",
       "Delivery_Mode    0\n",
       "Status           0\n",
       "dtype: int64"
      ]
     },
     "execution_count": 20,
     "metadata": {},
     "output_type": "execute_result"
    }
   ],
   "source": [
    "Sales_Data.isnull().sum()"
   ]
  },
  {
   "cell_type": "code",
   "execution_count": 21,
   "metadata": {},
   "outputs": [
    {
     "data": {
      "text/html": [
       "<div>\n",
       "<style scoped>\n",
       "    .dataframe tbody tr th:only-of-type {\n",
       "        vertical-align: middle;\n",
       "    }\n",
       "\n",
       "    .dataframe tbody tr th {\n",
       "        vertical-align: top;\n",
       "    }\n",
       "\n",
       "    .dataframe thead th {\n",
       "        text-align: right;\n",
       "    }\n",
       "</style>\n",
       "<table border=\"1\" class=\"dataframe\">\n",
       "  <thead>\n",
       "    <tr style=\"text-align: right;\">\n",
       "      <th></th>\n",
       "      <th>Created</th>\n",
       "      <th>Product_ID</th>\n",
       "      <th>Source</th>\n",
       "      <th>Mobile</th>\n",
       "      <th>EMAIL</th>\n",
       "      <th>Sales_Agent</th>\n",
       "      <th>Location</th>\n",
       "      <th>Delivery_Mode</th>\n",
       "      <th>Status</th>\n",
       "      <th>Created_date</th>\n",
       "      <th>Created_time</th>\n",
       "    </tr>\n",
       "  </thead>\n",
       "  <tbody>\n",
       "    <tr>\n",
       "      <th>0</th>\n",
       "      <td>14-11-2018 10:05</td>\n",
       "      <td></td>\n",
       "      <td>Website</td>\n",
       "      <td>984XXXXXXX</td>\n",
       "      <td>aXXXXXXX@gmail.com</td>\n",
       "      <td>Sales-Agent-11</td>\n",
       "      <td></td>\n",
       "      <td>Mode-5</td>\n",
       "      <td>Open</td>\n",
       "      <td>14-11-2018</td>\n",
       "      <td>10:05</td>\n",
       "    </tr>\n",
       "    <tr>\n",
       "      <th>1</th>\n",
       "      <td>14-11-2018 09:22</td>\n",
       "      <td></td>\n",
       "      <td>Website</td>\n",
       "      <td>XXXXXXX</td>\n",
       "      <td>#VALUE!</td>\n",
       "      <td>Sales-Agent-10</td>\n",
       "      <td></td>\n",
       "      <td>Mode-5</td>\n",
       "      <td>Open</td>\n",
       "      <td>14-11-2018</td>\n",
       "      <td>09:22</td>\n",
       "    </tr>\n",
       "    <tr>\n",
       "      <th>2</th>\n",
       "      <td>14-11-2018 09:21</td>\n",
       "      <td></td>\n",
       "      <td>Website</td>\n",
       "      <td>XXXXXXX</td>\n",
       "      <td>dXXXXXXX@yahoo.com</td>\n",
       "      <td>Sales-Agent-10</td>\n",
       "      <td></td>\n",
       "      <td>Mode-5</td>\n",
       "      <td>Open</td>\n",
       "      <td>14-11-2018</td>\n",
       "      <td>09:21</td>\n",
       "    </tr>\n",
       "    <tr>\n",
       "      <th>3</th>\n",
       "      <td>14-11-2018 08:46</td>\n",
       "      <td></td>\n",
       "      <td>Website</td>\n",
       "      <td>XXXXXXX</td>\n",
       "      <td>wXXXXXXX@gmail.com</td>\n",
       "      <td>Sales-Agent-10</td>\n",
       "      <td></td>\n",
       "      <td>Mode-5</td>\n",
       "      <td>Open</td>\n",
       "      <td>14-11-2018</td>\n",
       "      <td>08:46</td>\n",
       "    </tr>\n",
       "    <tr>\n",
       "      <th>4</th>\n",
       "      <td>14-11-2018 07:34</td>\n",
       "      <td></td>\n",
       "      <td>Website</td>\n",
       "      <td>XXXXXXX</td>\n",
       "      <td>cXXXXXXX@gmail.com</td>\n",
       "      <td>Sales-Agent-10</td>\n",
       "      <td></td>\n",
       "      <td>Mode-5</td>\n",
       "      <td>Open</td>\n",
       "      <td>14-11-2018</td>\n",
       "      <td>07:34</td>\n",
       "    </tr>\n",
       "    <tr>\n",
       "      <th>...</th>\n",
       "      <td>...</td>\n",
       "      <td>...</td>\n",
       "      <td>...</td>\n",
       "      <td>...</td>\n",
       "      <td>...</td>\n",
       "      <td>...</td>\n",
       "      <td>...</td>\n",
       "      <td>...</td>\n",
       "      <td>...</td>\n",
       "      <td>...</td>\n",
       "      <td>...</td>\n",
       "    </tr>\n",
       "    <tr>\n",
       "      <th>7417</th>\n",
       "      <td>28-04-2018 09:45</td>\n",
       "      <td>9</td>\n",
       "      <td>Call</td>\n",
       "      <td></td>\n",
       "      <td>aXXXXXXX@gmail.com</td>\n",
       "      <td>Sales-Agent-6</td>\n",
       "      <td>Mumbai</td>\n",
       "      <td>Mode-4</td>\n",
       "      <td>LOST</td>\n",
       "      <td>28-04-2018</td>\n",
       "      <td>09:45</td>\n",
       "    </tr>\n",
       "    <tr>\n",
       "      <th>7418</th>\n",
       "      <td>28-04-2018 09:43</td>\n",
       "      <td>15</td>\n",
       "      <td>Call</td>\n",
       "      <td></td>\n",
       "      <td>#VALUE!</td>\n",
       "      <td>Sales-Agent-12</td>\n",
       "      <td>Other Locations</td>\n",
       "      <td>Mode-5</td>\n",
       "      <td>LOST</td>\n",
       "      <td>28-04-2018</td>\n",
       "      <td>09:43</td>\n",
       "    </tr>\n",
       "    <tr>\n",
       "      <th>7419</th>\n",
       "      <td>28-04-2018 09:20</td>\n",
       "      <td>5</td>\n",
       "      <td>Live Chat-Direct</td>\n",
       "      <td></td>\n",
       "      <td>sXXXXXXX@gmail.com</td>\n",
       "      <td>Sales-Agent-11</td>\n",
       "      <td>Bangalore</td>\n",
       "      <td>Mode-1</td>\n",
       "      <td>Not Responding</td>\n",
       "      <td>28-04-2018</td>\n",
       "      <td>09:20</td>\n",
       "    </tr>\n",
       "    <tr>\n",
       "      <th>7420</th>\n",
       "      <td>28-04-2018 08:04</td>\n",
       "      <td>21</td>\n",
       "      <td>CRM form</td>\n",
       "      <td></td>\n",
       "      <td>YXXXXXXX@gmail.com</td>\n",
       "      <td>Sales-Agent-4</td>\n",
       "      <td>Other Locations</td>\n",
       "      <td>Mode-1</td>\n",
       "      <td>Just Enquiry</td>\n",
       "      <td>28-04-2018</td>\n",
       "      <td>08:04</td>\n",
       "    </tr>\n",
       "    <tr>\n",
       "      <th>7421</th>\n",
       "      <td>28-04-2018 07:54</td>\n",
       "      <td>25</td>\n",
       "      <td>Website</td>\n",
       "      <td></td>\n",
       "      <td>cXXXXXXX@gmail.com</td>\n",
       "      <td>Sales-Agent-3</td>\n",
       "      <td>Chennai</td>\n",
       "      <td>Mode-1</td>\n",
       "      <td>CONVERTED</td>\n",
       "      <td>28-04-2018</td>\n",
       "      <td>07:54</td>\n",
       "    </tr>\n",
       "  </tbody>\n",
       "</table>\n",
       "<p>7422 rows × 11 columns</p>\n",
       "</div>"
      ],
      "text/plain": [
       "               Created Product_ID            Source      Mobile  \\\n",
       "0     14-11-2018 10:05                      Website  984XXXXXXX   \n",
       "1     14-11-2018 09:22                      Website     XXXXXXX   \n",
       "2     14-11-2018 09:21                      Website     XXXXXXX   \n",
       "3     14-11-2018 08:46                      Website     XXXXXXX   \n",
       "4     14-11-2018 07:34                      Website     XXXXXXX   \n",
       "...                ...        ...               ...         ...   \n",
       "7417  28-04-2018 09:45          9              Call               \n",
       "7418  28-04-2018 09:43         15              Call               \n",
       "7419  28-04-2018 09:20          5  Live Chat-Direct               \n",
       "7420  28-04-2018 08:04         21          CRM form               \n",
       "7421  28-04-2018 07:54         25           Website               \n",
       "\n",
       "                   EMAIL     Sales_Agent         Location Delivery_Mode  \\\n",
       "0     aXXXXXXX@gmail.com  Sales-Agent-11                         Mode-5   \n",
       "1                #VALUE!  Sales-Agent-10                         Mode-5   \n",
       "2     dXXXXXXX@yahoo.com  Sales-Agent-10                         Mode-5   \n",
       "3     wXXXXXXX@gmail.com  Sales-Agent-10                         Mode-5   \n",
       "4     cXXXXXXX@gmail.com  Sales-Agent-10                         Mode-5   \n",
       "...                  ...             ...              ...           ...   \n",
       "7417  aXXXXXXX@gmail.com   Sales-Agent-6           Mumbai        Mode-4   \n",
       "7418             #VALUE!  Sales-Agent-12  Other Locations        Mode-5   \n",
       "7419  sXXXXXXX@gmail.com  Sales-Agent-11        Bangalore        Mode-1   \n",
       "7420  YXXXXXXX@gmail.com   Sales-Agent-4  Other Locations        Mode-1   \n",
       "7421  cXXXXXXX@gmail.com   Sales-Agent-3          Chennai        Mode-1   \n",
       "\n",
       "              Status Created_date Created_time  \n",
       "0               Open   14-11-2018        10:05  \n",
       "1               Open   14-11-2018        09:22  \n",
       "2               Open   14-11-2018        09:21  \n",
       "3               Open   14-11-2018        08:46  \n",
       "4               Open   14-11-2018        07:34  \n",
       "...              ...          ...          ...  \n",
       "7417            LOST   28-04-2018        09:45  \n",
       "7418            LOST   28-04-2018        09:43  \n",
       "7419  Not Responding   28-04-2018        09:20  \n",
       "7420    Just Enquiry   28-04-2018        08:04  \n",
       "7421       CONVERTED   28-04-2018        07:54  \n",
       "\n",
       "[7422 rows x 11 columns]"
      ]
     },
     "execution_count": 21,
     "metadata": {},
     "output_type": "execute_result"
    }
   ],
   "source": [
    "# Splitting Created Column to to convert date and time, so that our model will work efficiently.\n",
    "Sales_Data[['Created_date','Created_time']] = Sales_Data['Created'].str.split(' ', n=1, expand=True)\n",
    "Sales_Data"
   ]
  },
  {
   "cell_type": "code",
   "execution_count": 22,
   "metadata": {},
   "outputs": [],
   "source": [
    "# Extracting Hours\n",
    "Sales_Data[\"Created_hour\"] = pd.to_datetime(Sales_Data[\"Created_time\"]).dt.hour\n",
    "\n",
    "# Extracting Minutes\n",
    "Sales_Data[\"Created_min\"] = pd.to_datetime(Sales_Data[\"Created_time\"]).dt.minute"
   ]
  },
  {
   "cell_type": "code",
   "execution_count": 23,
   "metadata": {},
   "outputs": [],
   "source": [
    "Sales_Data[\"Created_day\"] = pd.to_datetime(Sales_Data.Created_date, format=\"%d-%m-%Y\").dt.day\n",
    "Sales_Data[\"Created_month\"] = pd.to_datetime(Sales_Data[\"Created_date\"], format = \"%d-%m-%Y\").dt.month\n",
    "Sales_Data[\"Created_year\"] = pd.to_datetime(Sales_Data.Created_date, format=\"%d-%m-%Y\").dt.year"
   ]
  },
  {
   "cell_type": "code",
   "execution_count": 24,
   "metadata": {},
   "outputs": [
    {
     "data": {
      "text/plain": [
       "Index(['Created', 'Product_ID', 'Source', 'Mobile', 'EMAIL', 'Sales_Agent',\n",
       "       'Location', 'Delivery_Mode', 'Status', 'Created_date', 'Created_time',\n",
       "       'Created_hour', 'Created_min', 'Created_day', 'Created_month',\n",
       "       'Created_year'],\n",
       "      dtype='object')"
      ]
     },
     "execution_count": 24,
     "metadata": {},
     "output_type": "execute_result"
    }
   ],
   "source": [
    "Sales_Data.columns"
   ]
  },
  {
   "cell_type": "code",
   "execution_count": 25,
   "metadata": {},
   "outputs": [],
   "source": [
    "Sales_Data.drop(['Created','Created_date','Created_time'], axis=1, inplace=True) # Dropping columns after conversion."
   ]
  },
  {
   "cell_type": "code",
   "execution_count": 26,
   "metadata": {},
   "outputs": [
    {
     "data": {
      "text/html": [
       "<div>\n",
       "<style scoped>\n",
       "    .dataframe tbody tr th:only-of-type {\n",
       "        vertical-align: middle;\n",
       "    }\n",
       "\n",
       "    .dataframe tbody tr th {\n",
       "        vertical-align: top;\n",
       "    }\n",
       "\n",
       "    .dataframe thead th {\n",
       "        text-align: right;\n",
       "    }\n",
       "</style>\n",
       "<table border=\"1\" class=\"dataframe\">\n",
       "  <thead>\n",
       "    <tr style=\"text-align: right;\">\n",
       "      <th></th>\n",
       "      <th>Product_ID</th>\n",
       "      <th>Source</th>\n",
       "      <th>Mobile</th>\n",
       "      <th>EMAIL</th>\n",
       "      <th>Sales_Agent</th>\n",
       "      <th>Location</th>\n",
       "      <th>Delivery_Mode</th>\n",
       "      <th>Status</th>\n",
       "      <th>Created_hour</th>\n",
       "      <th>Created_min</th>\n",
       "      <th>Created_day</th>\n",
       "      <th>Created_month</th>\n",
       "      <th>Created_year</th>\n",
       "    </tr>\n",
       "  </thead>\n",
       "  <tbody>\n",
       "    <tr>\n",
       "      <th>0</th>\n",
       "      <td></td>\n",
       "      <td>Website</td>\n",
       "      <td>984XXXXXXX</td>\n",
       "      <td>aXXXXXXX@gmail.com</td>\n",
       "      <td>Sales-Agent-11</td>\n",
       "      <td></td>\n",
       "      <td>Mode-5</td>\n",
       "      <td>Open</td>\n",
       "      <td>10</td>\n",
       "      <td>5</td>\n",
       "      <td>14</td>\n",
       "      <td>11</td>\n",
       "      <td>2018</td>\n",
       "    </tr>\n",
       "    <tr>\n",
       "      <th>1</th>\n",
       "      <td></td>\n",
       "      <td>Website</td>\n",
       "      <td>XXXXXXX</td>\n",
       "      <td>#VALUE!</td>\n",
       "      <td>Sales-Agent-10</td>\n",
       "      <td></td>\n",
       "      <td>Mode-5</td>\n",
       "      <td>Open</td>\n",
       "      <td>9</td>\n",
       "      <td>22</td>\n",
       "      <td>14</td>\n",
       "      <td>11</td>\n",
       "      <td>2018</td>\n",
       "    </tr>\n",
       "    <tr>\n",
       "      <th>2</th>\n",
       "      <td></td>\n",
       "      <td>Website</td>\n",
       "      <td>XXXXXXX</td>\n",
       "      <td>dXXXXXXX@yahoo.com</td>\n",
       "      <td>Sales-Agent-10</td>\n",
       "      <td></td>\n",
       "      <td>Mode-5</td>\n",
       "      <td>Open</td>\n",
       "      <td>9</td>\n",
       "      <td>21</td>\n",
       "      <td>14</td>\n",
       "      <td>11</td>\n",
       "      <td>2018</td>\n",
       "    </tr>\n",
       "    <tr>\n",
       "      <th>3</th>\n",
       "      <td></td>\n",
       "      <td>Website</td>\n",
       "      <td>XXXXXXX</td>\n",
       "      <td>wXXXXXXX@gmail.com</td>\n",
       "      <td>Sales-Agent-10</td>\n",
       "      <td></td>\n",
       "      <td>Mode-5</td>\n",
       "      <td>Open</td>\n",
       "      <td>8</td>\n",
       "      <td>46</td>\n",
       "      <td>14</td>\n",
       "      <td>11</td>\n",
       "      <td>2018</td>\n",
       "    </tr>\n",
       "    <tr>\n",
       "      <th>4</th>\n",
       "      <td></td>\n",
       "      <td>Website</td>\n",
       "      <td>XXXXXXX</td>\n",
       "      <td>cXXXXXXX@gmail.com</td>\n",
       "      <td>Sales-Agent-10</td>\n",
       "      <td></td>\n",
       "      <td>Mode-5</td>\n",
       "      <td>Open</td>\n",
       "      <td>7</td>\n",
       "      <td>34</td>\n",
       "      <td>14</td>\n",
       "      <td>11</td>\n",
       "      <td>2018</td>\n",
       "    </tr>\n",
       "  </tbody>\n",
       "</table>\n",
       "</div>"
      ],
      "text/plain": [
       "  Product_ID   Source      Mobile               EMAIL     Sales_Agent  \\\n",
       "0             Website  984XXXXXXX  aXXXXXXX@gmail.com  Sales-Agent-11   \n",
       "1             Website     XXXXXXX             #VALUE!  Sales-Agent-10   \n",
       "2             Website     XXXXXXX  dXXXXXXX@yahoo.com  Sales-Agent-10   \n",
       "3             Website     XXXXXXX  wXXXXXXX@gmail.com  Sales-Agent-10   \n",
       "4             Website     XXXXXXX  cXXXXXXX@gmail.com  Sales-Agent-10   \n",
       "\n",
       "  Location Delivery_Mode Status  Created_hour  Created_min  Created_day  \\\n",
       "0                 Mode-5   Open            10            5           14   \n",
       "1                 Mode-5   Open             9           22           14   \n",
       "2                 Mode-5   Open             9           21           14   \n",
       "3                 Mode-5   Open             8           46           14   \n",
       "4                 Mode-5   Open             7           34           14   \n",
       "\n",
       "   Created_month  Created_year  \n",
       "0             11          2018  \n",
       "1             11          2018  \n",
       "2             11          2018  \n",
       "3             11          2018  \n",
       "4             11          2018  "
      ]
     },
     "execution_count": 26,
     "metadata": {},
     "output_type": "execute_result"
    }
   ],
   "source": [
    "Sales_Data.head()"
   ]
  },
  {
   "cell_type": "code",
   "execution_count": 27,
   "metadata": {},
   "outputs": [],
   "source": [
    "# Dropping Mobile and Email because it contains all unique & unspecified values and dropping Created_year also because its all 2018.\n",
    "Sales_Data.drop(['Mobile','EMAIL','Created_year'], axis=1, inplace=True)"
   ]
  },
  {
   "cell_type": "code",
   "execution_count": 28,
   "metadata": {},
   "outputs": [
    {
     "data": {
      "text/html": [
       "<div>\n",
       "<style scoped>\n",
       "    .dataframe tbody tr th:only-of-type {\n",
       "        vertical-align: middle;\n",
       "    }\n",
       "\n",
       "    .dataframe tbody tr th {\n",
       "        vertical-align: top;\n",
       "    }\n",
       "\n",
       "    .dataframe thead th {\n",
       "        text-align: right;\n",
       "    }\n",
       "</style>\n",
       "<table border=\"1\" class=\"dataframe\">\n",
       "  <thead>\n",
       "    <tr style=\"text-align: right;\">\n",
       "      <th></th>\n",
       "      <th>Product_ID</th>\n",
       "      <th>Source</th>\n",
       "      <th>Sales_Agent</th>\n",
       "      <th>Location</th>\n",
       "      <th>Delivery_Mode</th>\n",
       "      <th>Status</th>\n",
       "      <th>Created_hour</th>\n",
       "      <th>Created_min</th>\n",
       "      <th>Created_day</th>\n",
       "      <th>Created_month</th>\n",
       "    </tr>\n",
       "  </thead>\n",
       "  <tbody>\n",
       "    <tr>\n",
       "      <th>0</th>\n",
       "      <td></td>\n",
       "      <td>Website</td>\n",
       "      <td>Sales-Agent-11</td>\n",
       "      <td></td>\n",
       "      <td>Mode-5</td>\n",
       "      <td>Open</td>\n",
       "      <td>10</td>\n",
       "      <td>5</td>\n",
       "      <td>14</td>\n",
       "      <td>11</td>\n",
       "    </tr>\n",
       "    <tr>\n",
       "      <th>1</th>\n",
       "      <td></td>\n",
       "      <td>Website</td>\n",
       "      <td>Sales-Agent-10</td>\n",
       "      <td></td>\n",
       "      <td>Mode-5</td>\n",
       "      <td>Open</td>\n",
       "      <td>9</td>\n",
       "      <td>22</td>\n",
       "      <td>14</td>\n",
       "      <td>11</td>\n",
       "    </tr>\n",
       "    <tr>\n",
       "      <th>2</th>\n",
       "      <td></td>\n",
       "      <td>Website</td>\n",
       "      <td>Sales-Agent-10</td>\n",
       "      <td></td>\n",
       "      <td>Mode-5</td>\n",
       "      <td>Open</td>\n",
       "      <td>9</td>\n",
       "      <td>21</td>\n",
       "      <td>14</td>\n",
       "      <td>11</td>\n",
       "    </tr>\n",
       "    <tr>\n",
       "      <th>3</th>\n",
       "      <td></td>\n",
       "      <td>Website</td>\n",
       "      <td>Sales-Agent-10</td>\n",
       "      <td></td>\n",
       "      <td>Mode-5</td>\n",
       "      <td>Open</td>\n",
       "      <td>8</td>\n",
       "      <td>46</td>\n",
       "      <td>14</td>\n",
       "      <td>11</td>\n",
       "    </tr>\n",
       "    <tr>\n",
       "      <th>4</th>\n",
       "      <td></td>\n",
       "      <td>Website</td>\n",
       "      <td>Sales-Agent-10</td>\n",
       "      <td></td>\n",
       "      <td>Mode-5</td>\n",
       "      <td>Open</td>\n",
       "      <td>7</td>\n",
       "      <td>34</td>\n",
       "      <td>14</td>\n",
       "      <td>11</td>\n",
       "    </tr>\n",
       "  </tbody>\n",
       "</table>\n",
       "</div>"
      ],
      "text/plain": [
       "  Product_ID   Source     Sales_Agent Location Delivery_Mode Status  \\\n",
       "0             Website  Sales-Agent-11                 Mode-5   Open   \n",
       "1             Website  Sales-Agent-10                 Mode-5   Open   \n",
       "2             Website  Sales-Agent-10                 Mode-5   Open   \n",
       "3             Website  Sales-Agent-10                 Mode-5   Open   \n",
       "4             Website  Sales-Agent-10                 Mode-5   Open   \n",
       "\n",
       "   Created_hour  Created_min  Created_day  Created_month  \n",
       "0            10            5           14             11  \n",
       "1             9           22           14             11  \n",
       "2             9           21           14             11  \n",
       "3             8           46           14             11  \n",
       "4             7           34           14             11  "
      ]
     },
     "execution_count": 28,
     "metadata": {},
     "output_type": "execute_result"
    }
   ],
   "source": [
    "Sales_Data.head()"
   ]
  },
  {
   "cell_type": "markdown",
   "metadata": {},
   "source": [
    "# **Univariate Analysis**"
   ]
  },
  {
   "cell_type": "code",
   "execution_count": 29,
   "metadata": {},
   "outputs": [
    {
     "data": {
      "application/vnd.jupyter.widget-view+json": {
       "model_id": "5a7859e3818249ccb7f65686b1bb1fd9",
       "version_major": 2,
       "version_minor": 0
      },
      "text/plain": [
       "                                      "
      ]
     },
     "metadata": {},
     "output_type": "display_data"
    },
    {
     "name": "stdout",
     "output_type": "stream",
     "text": [
      "Report SWEETVIZ_REPORT.html was generated! NOTEBOOK/COLAB USERS: the web browser MAY not pop up, regardless, the report IS saved in your notebook/colab files.\n"
     ]
    }
   ],
   "source": [
    "import sweetviz as sv\n",
    "my_report=sv.analyze(Sales_Data)\n",
    "my_report.show_html()"
   ]
  },
  {
   "cell_type": "code",
   "execution_count": 30,
   "metadata": {},
   "outputs": [],
   "source": [
    "# Defining 'Status' as 'Good' or 'Bad'\n",
    "Sales_Data.Status.replace(['CONVERTED','converted','In Progress Positive','Potential','Long Term','Open'],'Good',inplace=True)\n",
    "Sales_Data.Status.replace(['LOST','In Progress Negative','Not Responding','Junk Lead','Just Enquiry'],'Bad',inplace=True)"
   ]
  },
  {
   "cell_type": "code",
   "execution_count": 31,
   "metadata": {},
   "outputs": [
    {
     "data": {
      "text/html": [
       "<div>\n",
       "<style scoped>\n",
       "    .dataframe tbody tr th:only-of-type {\n",
       "        vertical-align: middle;\n",
       "    }\n",
       "\n",
       "    .dataframe tbody tr th {\n",
       "        vertical-align: top;\n",
       "    }\n",
       "\n",
       "    .dataframe thead th {\n",
       "        text-align: right;\n",
       "    }\n",
       "</style>\n",
       "<table border=\"1\" class=\"dataframe\">\n",
       "  <thead>\n",
       "    <tr style=\"text-align: right;\">\n",
       "      <th></th>\n",
       "      <th>Product_ID</th>\n",
       "      <th>Source</th>\n",
       "      <th>Sales_Agent</th>\n",
       "      <th>Location</th>\n",
       "      <th>Delivery_Mode</th>\n",
       "      <th>Status</th>\n",
       "      <th>Created_hour</th>\n",
       "      <th>Created_min</th>\n",
       "      <th>Created_day</th>\n",
       "      <th>Created_month</th>\n",
       "    </tr>\n",
       "  </thead>\n",
       "  <tbody>\n",
       "    <tr>\n",
       "      <th>0</th>\n",
       "      <td></td>\n",
       "      <td>Website</td>\n",
       "      <td>Sales-Agent-11</td>\n",
       "      <td></td>\n",
       "      <td>Mode-5</td>\n",
       "      <td>Good</td>\n",
       "      <td>10</td>\n",
       "      <td>5</td>\n",
       "      <td>14</td>\n",
       "      <td>11</td>\n",
       "    </tr>\n",
       "    <tr>\n",
       "      <th>1</th>\n",
       "      <td></td>\n",
       "      <td>Website</td>\n",
       "      <td>Sales-Agent-10</td>\n",
       "      <td></td>\n",
       "      <td>Mode-5</td>\n",
       "      <td>Good</td>\n",
       "      <td>9</td>\n",
       "      <td>22</td>\n",
       "      <td>14</td>\n",
       "      <td>11</td>\n",
       "    </tr>\n",
       "    <tr>\n",
       "      <th>2</th>\n",
       "      <td></td>\n",
       "      <td>Website</td>\n",
       "      <td>Sales-Agent-10</td>\n",
       "      <td></td>\n",
       "      <td>Mode-5</td>\n",
       "      <td>Good</td>\n",
       "      <td>9</td>\n",
       "      <td>21</td>\n",
       "      <td>14</td>\n",
       "      <td>11</td>\n",
       "    </tr>\n",
       "    <tr>\n",
       "      <th>3</th>\n",
       "      <td></td>\n",
       "      <td>Website</td>\n",
       "      <td>Sales-Agent-10</td>\n",
       "      <td></td>\n",
       "      <td>Mode-5</td>\n",
       "      <td>Good</td>\n",
       "      <td>8</td>\n",
       "      <td>46</td>\n",
       "      <td>14</td>\n",
       "      <td>11</td>\n",
       "    </tr>\n",
       "    <tr>\n",
       "      <th>4</th>\n",
       "      <td></td>\n",
       "      <td>Website</td>\n",
       "      <td>Sales-Agent-10</td>\n",
       "      <td></td>\n",
       "      <td>Mode-5</td>\n",
       "      <td>Good</td>\n",
       "      <td>7</td>\n",
       "      <td>34</td>\n",
       "      <td>14</td>\n",
       "      <td>11</td>\n",
       "    </tr>\n",
       "    <tr>\n",
       "      <th>...</th>\n",
       "      <td>...</td>\n",
       "      <td>...</td>\n",
       "      <td>...</td>\n",
       "      <td>...</td>\n",
       "      <td>...</td>\n",
       "      <td>...</td>\n",
       "      <td>...</td>\n",
       "      <td>...</td>\n",
       "      <td>...</td>\n",
       "      <td>...</td>\n",
       "    </tr>\n",
       "    <tr>\n",
       "      <th>7417</th>\n",
       "      <td>9</td>\n",
       "      <td>Call</td>\n",
       "      <td>Sales-Agent-6</td>\n",
       "      <td>Mumbai</td>\n",
       "      <td>Mode-4</td>\n",
       "      <td>Bad</td>\n",
       "      <td>9</td>\n",
       "      <td>45</td>\n",
       "      <td>28</td>\n",
       "      <td>4</td>\n",
       "    </tr>\n",
       "    <tr>\n",
       "      <th>7418</th>\n",
       "      <td>15</td>\n",
       "      <td>Call</td>\n",
       "      <td>Sales-Agent-12</td>\n",
       "      <td>Other Locations</td>\n",
       "      <td>Mode-5</td>\n",
       "      <td>Bad</td>\n",
       "      <td>9</td>\n",
       "      <td>43</td>\n",
       "      <td>28</td>\n",
       "      <td>4</td>\n",
       "    </tr>\n",
       "    <tr>\n",
       "      <th>7419</th>\n",
       "      <td>5</td>\n",
       "      <td>Live Chat-Direct</td>\n",
       "      <td>Sales-Agent-11</td>\n",
       "      <td>Bangalore</td>\n",
       "      <td>Mode-1</td>\n",
       "      <td>Bad</td>\n",
       "      <td>9</td>\n",
       "      <td>20</td>\n",
       "      <td>28</td>\n",
       "      <td>4</td>\n",
       "    </tr>\n",
       "    <tr>\n",
       "      <th>7420</th>\n",
       "      <td>21</td>\n",
       "      <td>CRM form</td>\n",
       "      <td>Sales-Agent-4</td>\n",
       "      <td>Other Locations</td>\n",
       "      <td>Mode-1</td>\n",
       "      <td>Bad</td>\n",
       "      <td>8</td>\n",
       "      <td>4</td>\n",
       "      <td>28</td>\n",
       "      <td>4</td>\n",
       "    </tr>\n",
       "    <tr>\n",
       "      <th>7421</th>\n",
       "      <td>25</td>\n",
       "      <td>Website</td>\n",
       "      <td>Sales-Agent-3</td>\n",
       "      <td>Chennai</td>\n",
       "      <td>Mode-1</td>\n",
       "      <td>Good</td>\n",
       "      <td>7</td>\n",
       "      <td>54</td>\n",
       "      <td>28</td>\n",
       "      <td>4</td>\n",
       "    </tr>\n",
       "  </tbody>\n",
       "</table>\n",
       "<p>7422 rows × 10 columns</p>\n",
       "</div>"
      ],
      "text/plain": [
       "     Product_ID            Source     Sales_Agent         Location  \\\n",
       "0                         Website  Sales-Agent-11                    \n",
       "1                         Website  Sales-Agent-10                    \n",
       "2                         Website  Sales-Agent-10                    \n",
       "3                         Website  Sales-Agent-10                    \n",
       "4                         Website  Sales-Agent-10                    \n",
       "...         ...               ...             ...              ...   \n",
       "7417          9              Call   Sales-Agent-6           Mumbai   \n",
       "7418         15              Call  Sales-Agent-12  Other Locations   \n",
       "7419          5  Live Chat-Direct  Sales-Agent-11        Bangalore   \n",
       "7420         21          CRM form   Sales-Agent-4  Other Locations   \n",
       "7421         25           Website   Sales-Agent-3          Chennai   \n",
       "\n",
       "     Delivery_Mode Status  Created_hour  Created_min  Created_day  \\\n",
       "0           Mode-5   Good            10            5           14   \n",
       "1           Mode-5   Good             9           22           14   \n",
       "2           Mode-5   Good             9           21           14   \n",
       "3           Mode-5   Good             8           46           14   \n",
       "4           Mode-5   Good             7           34           14   \n",
       "...            ...    ...           ...          ...          ...   \n",
       "7417        Mode-4    Bad             9           45           28   \n",
       "7418        Mode-5    Bad             9           43           28   \n",
       "7419        Mode-1    Bad             9           20           28   \n",
       "7420        Mode-1    Bad             8            4           28   \n",
       "7421        Mode-1   Good             7           54           28   \n",
       "\n",
       "      Created_month  \n",
       "0                11  \n",
       "1                11  \n",
       "2                11  \n",
       "3                11  \n",
       "4                11  \n",
       "...             ...  \n",
       "7417              4  \n",
       "7418              4  \n",
       "7419              4  \n",
       "7420              4  \n",
       "7421              4  \n",
       "\n",
       "[7422 rows x 10 columns]"
      ]
     },
     "execution_count": 31,
     "metadata": {},
     "output_type": "execute_result"
    }
   ],
   "source": [
    "Sales_Data"
   ]
  },
  {
   "cell_type": "code",
   "execution_count": 32,
   "metadata": {},
   "outputs": [
    {
     "data": {
      "text/plain": [
       "Other Locations    2500\n",
       "Bangalore          2084\n",
       "Chennai             909\n",
       "Hyderabad           528\n",
       "Delhi               471\n",
       "Mumbai              402\n",
       "Pune                142\n",
       "UAE                  79\n",
       "                     58\n",
       "Trivandrum           58\n",
       "Kolkata              55\n",
       "USA                  45\n",
       "UK                   41\n",
       "AUSTRALIA            25\n",
       "Singapore            17\n",
       "Malaysia              4\n",
       "EUROPE                3\n",
       "Howrah                1\n",
       "Name: Location, dtype: int64"
      ]
     },
     "execution_count": 32,
     "metadata": {},
     "output_type": "execute_result"
    }
   ],
   "source": [
    "Sales_Data['Location'].value_counts()"
   ]
  },
  {
   "cell_type": "code",
   "execution_count": 33,
   "metadata": {},
   "outputs": [],
   "source": [
    "Sales_Data.Location.replace(['UAE','USA','UK','AUSTRALIA','Singapore','Malaysia','EUROPE'],'Foreign',inplace=True)\n",
    "Sales_Data.Location.replace(['Howrah','Kolkata','Trivandrum'],'Other Locations',inplace=True)"
   ]
  },
  {
   "cell_type": "code",
   "execution_count": 34,
   "metadata": {},
   "outputs": [
    {
     "data": {
      "text/html": [
       "<div>\n",
       "<style scoped>\n",
       "    .dataframe tbody tr th:only-of-type {\n",
       "        vertical-align: middle;\n",
       "    }\n",
       "\n",
       "    .dataframe tbody tr th {\n",
       "        vertical-align: top;\n",
       "    }\n",
       "\n",
       "    .dataframe thead th {\n",
       "        text-align: right;\n",
       "    }\n",
       "</style>\n",
       "<table border=\"1\" class=\"dataframe\">\n",
       "  <thead>\n",
       "    <tr style=\"text-align: right;\">\n",
       "      <th></th>\n",
       "      <th>Product_ID</th>\n",
       "      <th>Source</th>\n",
       "      <th>Sales_Agent</th>\n",
       "      <th>Location</th>\n",
       "      <th>Delivery_Mode</th>\n",
       "      <th>Status</th>\n",
       "      <th>Created_hour</th>\n",
       "      <th>Created_min</th>\n",
       "      <th>Created_day</th>\n",
       "      <th>Created_month</th>\n",
       "    </tr>\n",
       "  </thead>\n",
       "  <tbody>\n",
       "    <tr>\n",
       "      <th>0</th>\n",
       "      <td></td>\n",
       "      <td>Website</td>\n",
       "      <td>Sales-Agent-11</td>\n",
       "      <td></td>\n",
       "      <td>Mode-5</td>\n",
       "      <td>Good</td>\n",
       "      <td>10</td>\n",
       "      <td>5</td>\n",
       "      <td>14</td>\n",
       "      <td>11</td>\n",
       "    </tr>\n",
       "    <tr>\n",
       "      <th>1</th>\n",
       "      <td></td>\n",
       "      <td>Website</td>\n",
       "      <td>Sales-Agent-10</td>\n",
       "      <td></td>\n",
       "      <td>Mode-5</td>\n",
       "      <td>Good</td>\n",
       "      <td>9</td>\n",
       "      <td>22</td>\n",
       "      <td>14</td>\n",
       "      <td>11</td>\n",
       "    </tr>\n",
       "    <tr>\n",
       "      <th>2</th>\n",
       "      <td></td>\n",
       "      <td>Website</td>\n",
       "      <td>Sales-Agent-10</td>\n",
       "      <td></td>\n",
       "      <td>Mode-5</td>\n",
       "      <td>Good</td>\n",
       "      <td>9</td>\n",
       "      <td>21</td>\n",
       "      <td>14</td>\n",
       "      <td>11</td>\n",
       "    </tr>\n",
       "    <tr>\n",
       "      <th>3</th>\n",
       "      <td></td>\n",
       "      <td>Website</td>\n",
       "      <td>Sales-Agent-10</td>\n",
       "      <td></td>\n",
       "      <td>Mode-5</td>\n",
       "      <td>Good</td>\n",
       "      <td>8</td>\n",
       "      <td>46</td>\n",
       "      <td>14</td>\n",
       "      <td>11</td>\n",
       "    </tr>\n",
       "    <tr>\n",
       "      <th>4</th>\n",
       "      <td></td>\n",
       "      <td>Website</td>\n",
       "      <td>Sales-Agent-10</td>\n",
       "      <td></td>\n",
       "      <td>Mode-5</td>\n",
       "      <td>Good</td>\n",
       "      <td>7</td>\n",
       "      <td>34</td>\n",
       "      <td>14</td>\n",
       "      <td>11</td>\n",
       "    </tr>\n",
       "    <tr>\n",
       "      <th>...</th>\n",
       "      <td>...</td>\n",
       "      <td>...</td>\n",
       "      <td>...</td>\n",
       "      <td>...</td>\n",
       "      <td>...</td>\n",
       "      <td>...</td>\n",
       "      <td>...</td>\n",
       "      <td>...</td>\n",
       "      <td>...</td>\n",
       "      <td>...</td>\n",
       "    </tr>\n",
       "    <tr>\n",
       "      <th>7417</th>\n",
       "      <td>9</td>\n",
       "      <td>Call</td>\n",
       "      <td>Sales-Agent-6</td>\n",
       "      <td>Mumbai</td>\n",
       "      <td>Mode-4</td>\n",
       "      <td>Bad</td>\n",
       "      <td>9</td>\n",
       "      <td>45</td>\n",
       "      <td>28</td>\n",
       "      <td>4</td>\n",
       "    </tr>\n",
       "    <tr>\n",
       "      <th>7418</th>\n",
       "      <td>15</td>\n",
       "      <td>Call</td>\n",
       "      <td>Sales-Agent-12</td>\n",
       "      <td>Other Locations</td>\n",
       "      <td>Mode-5</td>\n",
       "      <td>Bad</td>\n",
       "      <td>9</td>\n",
       "      <td>43</td>\n",
       "      <td>28</td>\n",
       "      <td>4</td>\n",
       "    </tr>\n",
       "    <tr>\n",
       "      <th>7419</th>\n",
       "      <td>5</td>\n",
       "      <td>Live Chat-Direct</td>\n",
       "      <td>Sales-Agent-11</td>\n",
       "      <td>Bangalore</td>\n",
       "      <td>Mode-1</td>\n",
       "      <td>Bad</td>\n",
       "      <td>9</td>\n",
       "      <td>20</td>\n",
       "      <td>28</td>\n",
       "      <td>4</td>\n",
       "    </tr>\n",
       "    <tr>\n",
       "      <th>7420</th>\n",
       "      <td>21</td>\n",
       "      <td>CRM form</td>\n",
       "      <td>Sales-Agent-4</td>\n",
       "      <td>Other Locations</td>\n",
       "      <td>Mode-1</td>\n",
       "      <td>Bad</td>\n",
       "      <td>8</td>\n",
       "      <td>4</td>\n",
       "      <td>28</td>\n",
       "      <td>4</td>\n",
       "    </tr>\n",
       "    <tr>\n",
       "      <th>7421</th>\n",
       "      <td>25</td>\n",
       "      <td>Website</td>\n",
       "      <td>Sales-Agent-3</td>\n",
       "      <td>Chennai</td>\n",
       "      <td>Mode-1</td>\n",
       "      <td>Good</td>\n",
       "      <td>7</td>\n",
       "      <td>54</td>\n",
       "      <td>28</td>\n",
       "      <td>4</td>\n",
       "    </tr>\n",
       "  </tbody>\n",
       "</table>\n",
       "<p>7422 rows × 10 columns</p>\n",
       "</div>"
      ],
      "text/plain": [
       "     Product_ID            Source     Sales_Agent         Location  \\\n",
       "0                         Website  Sales-Agent-11                    \n",
       "1                         Website  Sales-Agent-10                    \n",
       "2                         Website  Sales-Agent-10                    \n",
       "3                         Website  Sales-Agent-10                    \n",
       "4                         Website  Sales-Agent-10                    \n",
       "...         ...               ...             ...              ...   \n",
       "7417          9              Call   Sales-Agent-6           Mumbai   \n",
       "7418         15              Call  Sales-Agent-12  Other Locations   \n",
       "7419          5  Live Chat-Direct  Sales-Agent-11        Bangalore   \n",
       "7420         21          CRM form   Sales-Agent-4  Other Locations   \n",
       "7421         25           Website   Sales-Agent-3          Chennai   \n",
       "\n",
       "     Delivery_Mode Status  Created_hour  Created_min  Created_day  \\\n",
       "0           Mode-5   Good            10            5           14   \n",
       "1           Mode-5   Good             9           22           14   \n",
       "2           Mode-5   Good             9           21           14   \n",
       "3           Mode-5   Good             8           46           14   \n",
       "4           Mode-5   Good             7           34           14   \n",
       "...            ...    ...           ...          ...          ...   \n",
       "7417        Mode-4    Bad             9           45           28   \n",
       "7418        Mode-5    Bad             9           43           28   \n",
       "7419        Mode-1    Bad             9           20           28   \n",
       "7420        Mode-1    Bad             8            4           28   \n",
       "7421        Mode-1   Good             7           54           28   \n",
       "\n",
       "      Created_month  \n",
       "0                11  \n",
       "1                11  \n",
       "2                11  \n",
       "3                11  \n",
       "4                11  \n",
       "...             ...  \n",
       "7417              4  \n",
       "7418              4  \n",
       "7419              4  \n",
       "7420              4  \n",
       "7421              4  \n",
       "\n",
       "[7422 rows x 10 columns]"
      ]
     },
     "execution_count": 34,
     "metadata": {},
     "output_type": "execute_result"
    }
   ],
   "source": [
    "Sales_Data"
   ]
  },
  {
   "cell_type": "code",
   "execution_count": 35,
   "metadata": {},
   "outputs": [
    {
     "data": {
      "text/plain": [
       "array(['Website', '', 'Live Chat-Google Organic', 'Call',\n",
       "       'Live Chat-Direct', 'By Recommendation', 'Customer Referral',\n",
       "       'Live Chat-Blog', 'Live Chat -PPC', 'Live Chat-Google Ads',\n",
       "       'Live Chat-Adwords Remarketing', 'E-Mail Message',\n",
       "       'Existing Client', 'Live Chat-CPC', 'Existing Customer',\n",
       "       'Live Chat-Quora', 'US Website', 'Just Dial', 'Campaign', 'Other',\n",
       "       'E-mail Campaign', 'CRM form', 'SMS Campaign', 'Personal Contact',\n",
       "       'Live Chat-Youtube', 'Live Chat-Justdial'], dtype=object)"
      ]
     },
     "execution_count": 35,
     "metadata": {},
     "output_type": "execute_result"
    }
   ],
   "source": [
    "Sales_Data.Source.unique()"
   ]
  },
  {
   "cell_type": "code",
   "execution_count": 36,
   "metadata": {},
   "outputs": [],
   "source": [
    "Sales_Data.Source.replace(['Live Chat-Direct','Live Chat-Google Organic','Live Chat -PPC','Live Chat-Blog','Live Chat-Quora',\n",
    "                    'Live Chat-CPC','Live Chat-Google Ads','Live Chat-Adwords Remarketing','Live Chat-Youtube',\n",
    "                    'Live Chat-Justdial'],'Live Chat',inplace=True)\n",
    "Sales_Data.Source.replace(['Existing Client','CRM form','Personal Contact'],'Existing Customer',inplace=True)\n",
    "Sales_Data.replace('By Recommendation','Customer Referral',inplace=True)\n",
    "Sales_Data.replace(['US Website','Just Dial'],'Website',inplace=True)\n",
    "Sales_Data.replace(['E-mail Campaign','SMS Campaign','E-Mail Message','Other'],'Campaign',inplace=True)"
   ]
  },
  {
   "cell_type": "code",
   "execution_count": 37,
   "metadata": {},
   "outputs": [
    {
     "data": {
      "text/html": [
       "<div>\n",
       "<style scoped>\n",
       "    .dataframe tbody tr th:only-of-type {\n",
       "        vertical-align: middle;\n",
       "    }\n",
       "\n",
       "    .dataframe tbody tr th {\n",
       "        vertical-align: top;\n",
       "    }\n",
       "\n",
       "    .dataframe thead th {\n",
       "        text-align: right;\n",
       "    }\n",
       "</style>\n",
       "<table border=\"1\" class=\"dataframe\">\n",
       "  <thead>\n",
       "    <tr style=\"text-align: right;\">\n",
       "      <th></th>\n",
       "      <th>Product_ID</th>\n",
       "      <th>Source</th>\n",
       "      <th>Sales_Agent</th>\n",
       "      <th>Location</th>\n",
       "      <th>Delivery_Mode</th>\n",
       "      <th>Status</th>\n",
       "      <th>Created_hour</th>\n",
       "      <th>Created_min</th>\n",
       "      <th>Created_day</th>\n",
       "      <th>Created_month</th>\n",
       "    </tr>\n",
       "  </thead>\n",
       "  <tbody>\n",
       "    <tr>\n",
       "      <th>0</th>\n",
       "      <td></td>\n",
       "      <td>Website</td>\n",
       "      <td>Sales-Agent-11</td>\n",
       "      <td></td>\n",
       "      <td>Mode-5</td>\n",
       "      <td>Good</td>\n",
       "      <td>10</td>\n",
       "      <td>5</td>\n",
       "      <td>14</td>\n",
       "      <td>11</td>\n",
       "    </tr>\n",
       "    <tr>\n",
       "      <th>1</th>\n",
       "      <td></td>\n",
       "      <td>Website</td>\n",
       "      <td>Sales-Agent-10</td>\n",
       "      <td></td>\n",
       "      <td>Mode-5</td>\n",
       "      <td>Good</td>\n",
       "      <td>9</td>\n",
       "      <td>22</td>\n",
       "      <td>14</td>\n",
       "      <td>11</td>\n",
       "    </tr>\n",
       "    <tr>\n",
       "      <th>2</th>\n",
       "      <td></td>\n",
       "      <td>Website</td>\n",
       "      <td>Sales-Agent-10</td>\n",
       "      <td></td>\n",
       "      <td>Mode-5</td>\n",
       "      <td>Good</td>\n",
       "      <td>9</td>\n",
       "      <td>21</td>\n",
       "      <td>14</td>\n",
       "      <td>11</td>\n",
       "    </tr>\n",
       "    <tr>\n",
       "      <th>3</th>\n",
       "      <td></td>\n",
       "      <td>Website</td>\n",
       "      <td>Sales-Agent-10</td>\n",
       "      <td></td>\n",
       "      <td>Mode-5</td>\n",
       "      <td>Good</td>\n",
       "      <td>8</td>\n",
       "      <td>46</td>\n",
       "      <td>14</td>\n",
       "      <td>11</td>\n",
       "    </tr>\n",
       "    <tr>\n",
       "      <th>4</th>\n",
       "      <td></td>\n",
       "      <td>Website</td>\n",
       "      <td>Sales-Agent-10</td>\n",
       "      <td></td>\n",
       "      <td>Mode-5</td>\n",
       "      <td>Good</td>\n",
       "      <td>7</td>\n",
       "      <td>34</td>\n",
       "      <td>14</td>\n",
       "      <td>11</td>\n",
       "    </tr>\n",
       "  </tbody>\n",
       "</table>\n",
       "</div>"
      ],
      "text/plain": [
       "  Product_ID   Source     Sales_Agent Location Delivery_Mode Status  \\\n",
       "0             Website  Sales-Agent-11                 Mode-5   Good   \n",
       "1             Website  Sales-Agent-10                 Mode-5   Good   \n",
       "2             Website  Sales-Agent-10                 Mode-5   Good   \n",
       "3             Website  Sales-Agent-10                 Mode-5   Good   \n",
       "4             Website  Sales-Agent-10                 Mode-5   Good   \n",
       "\n",
       "   Created_hour  Created_min  Created_day  Created_month  \n",
       "0            10            5           14             11  \n",
       "1             9           22           14             11  \n",
       "2             9           21           14             11  \n",
       "3             8           46           14             11  \n",
       "4             7           34           14             11  "
      ]
     },
     "execution_count": 37,
     "metadata": {},
     "output_type": "execute_result"
    }
   ],
   "source": [
    "Sales_Data.head()"
   ]
  },
  {
   "cell_type": "code",
   "execution_count": 38,
   "metadata": {},
   "outputs": [],
   "source": [
    "#From the graph we can say that these are the product id's of less sold product so we replace with less sold product\n",
    "Sales_Data.Product_ID.replace(['8','6','3','17','22','11','7','28','0','23','24','16','13','4','14','26','12','2','21','25'],\n",
    "                        'Less Sold Product',inplace=True)"
   ]
  },
  {
   "cell_type": "code",
   "execution_count": 39,
   "metadata": {},
   "outputs": [
    {
     "data": {
      "text/plain": [
       "(7328, 10)"
      ]
     },
     "execution_count": 39,
     "metadata": {},
     "output_type": "execute_result"
    }
   ],
   "source": [
    "# Dropping rows with missing data because they are few\n",
    "Sales_Data.replace('',np.nan,inplace=True)\n",
    "Sales_Data.dropna(inplace=True)\n",
    "Sales_Data.reset_index(inplace=True,drop=True)\n",
    "Sales_Data.shape"
   ]
  },
  {
   "cell_type": "code",
   "execution_count": 40,
   "metadata": {},
   "outputs": [
    {
     "data": {
      "text/html": [
       "<div>\n",
       "<style scoped>\n",
       "    .dataframe tbody tr th:only-of-type {\n",
       "        vertical-align: middle;\n",
       "    }\n",
       "\n",
       "    .dataframe tbody tr th {\n",
       "        vertical-align: top;\n",
       "    }\n",
       "\n",
       "    .dataframe thead th {\n",
       "        text-align: right;\n",
       "    }\n",
       "</style>\n",
       "<table border=\"1\" class=\"dataframe\">\n",
       "  <thead>\n",
       "    <tr style=\"text-align: right;\">\n",
       "      <th></th>\n",
       "      <th>Product_ID</th>\n",
       "      <th>Source</th>\n",
       "      <th>Sales_Agent</th>\n",
       "      <th>Location</th>\n",
       "      <th>Delivery_Mode</th>\n",
       "      <th>Status</th>\n",
       "      <th>Created_hour</th>\n",
       "      <th>Created_min</th>\n",
       "      <th>Created_day</th>\n",
       "      <th>Created_month</th>\n",
       "    </tr>\n",
       "  </thead>\n",
       "  <tbody>\n",
       "    <tr>\n",
       "      <th>0</th>\n",
       "      <td>9</td>\n",
       "      <td>Live Chat</td>\n",
       "      <td>Sales-Agent-3</td>\n",
       "      <td>Bangalore</td>\n",
       "      <td>Mode-1</td>\n",
       "      <td>Good</td>\n",
       "      <td>18</td>\n",
       "      <td>51</td>\n",
       "      <td>13</td>\n",
       "      <td>11</td>\n",
       "    </tr>\n",
       "    <tr>\n",
       "      <th>1</th>\n",
       "      <td>19</td>\n",
       "      <td>Call</td>\n",
       "      <td>Sales-Agent-4</td>\n",
       "      <td>Other Locations</td>\n",
       "      <td>Mode-5</td>\n",
       "      <td>Good</td>\n",
       "      <td>18</td>\n",
       "      <td>48</td>\n",
       "      <td>13</td>\n",
       "      <td>11</td>\n",
       "    </tr>\n",
       "    <tr>\n",
       "      <th>2</th>\n",
       "      <td>18</td>\n",
       "      <td>Website</td>\n",
       "      <td>Sales-Agent-11</td>\n",
       "      <td>Other Locations</td>\n",
       "      <td>Mode-1</td>\n",
       "      <td>Good</td>\n",
       "      <td>17</td>\n",
       "      <td>9</td>\n",
       "      <td>13</td>\n",
       "      <td>11</td>\n",
       "    </tr>\n",
       "    <tr>\n",
       "      <th>3</th>\n",
       "      <td>15</td>\n",
       "      <td>Website</td>\n",
       "      <td>Sales-Agent-7</td>\n",
       "      <td>Hyderabad</td>\n",
       "      <td>Mode-1</td>\n",
       "      <td>Bad</td>\n",
       "      <td>16</td>\n",
       "      <td>49</td>\n",
       "      <td>13</td>\n",
       "      <td>11</td>\n",
       "    </tr>\n",
       "    <tr>\n",
       "      <th>4</th>\n",
       "      <td>18</td>\n",
       "      <td>Call</td>\n",
       "      <td>Sales-Agent-7</td>\n",
       "      <td>Bangalore</td>\n",
       "      <td>Mode-1</td>\n",
       "      <td>Good</td>\n",
       "      <td>16</td>\n",
       "      <td>37</td>\n",
       "      <td>13</td>\n",
       "      <td>11</td>\n",
       "    </tr>\n",
       "    <tr>\n",
       "      <th>...</th>\n",
       "      <td>...</td>\n",
       "      <td>...</td>\n",
       "      <td>...</td>\n",
       "      <td>...</td>\n",
       "      <td>...</td>\n",
       "      <td>...</td>\n",
       "      <td>...</td>\n",
       "      <td>...</td>\n",
       "      <td>...</td>\n",
       "      <td>...</td>\n",
       "    </tr>\n",
       "    <tr>\n",
       "      <th>7323</th>\n",
       "      <td>9</td>\n",
       "      <td>Call</td>\n",
       "      <td>Sales-Agent-6</td>\n",
       "      <td>Mumbai</td>\n",
       "      <td>Mode-4</td>\n",
       "      <td>Bad</td>\n",
       "      <td>9</td>\n",
       "      <td>45</td>\n",
       "      <td>28</td>\n",
       "      <td>4</td>\n",
       "    </tr>\n",
       "    <tr>\n",
       "      <th>7324</th>\n",
       "      <td>15</td>\n",
       "      <td>Call</td>\n",
       "      <td>Sales-Agent-12</td>\n",
       "      <td>Other Locations</td>\n",
       "      <td>Mode-5</td>\n",
       "      <td>Bad</td>\n",
       "      <td>9</td>\n",
       "      <td>43</td>\n",
       "      <td>28</td>\n",
       "      <td>4</td>\n",
       "    </tr>\n",
       "    <tr>\n",
       "      <th>7325</th>\n",
       "      <td>5</td>\n",
       "      <td>Live Chat</td>\n",
       "      <td>Sales-Agent-11</td>\n",
       "      <td>Bangalore</td>\n",
       "      <td>Mode-1</td>\n",
       "      <td>Bad</td>\n",
       "      <td>9</td>\n",
       "      <td>20</td>\n",
       "      <td>28</td>\n",
       "      <td>4</td>\n",
       "    </tr>\n",
       "    <tr>\n",
       "      <th>7326</th>\n",
       "      <td>Less Sold Product</td>\n",
       "      <td>Existing Customer</td>\n",
       "      <td>Sales-Agent-4</td>\n",
       "      <td>Other Locations</td>\n",
       "      <td>Mode-1</td>\n",
       "      <td>Bad</td>\n",
       "      <td>8</td>\n",
       "      <td>4</td>\n",
       "      <td>28</td>\n",
       "      <td>4</td>\n",
       "    </tr>\n",
       "    <tr>\n",
       "      <th>7327</th>\n",
       "      <td>Less Sold Product</td>\n",
       "      <td>Website</td>\n",
       "      <td>Sales-Agent-3</td>\n",
       "      <td>Chennai</td>\n",
       "      <td>Mode-1</td>\n",
       "      <td>Good</td>\n",
       "      <td>7</td>\n",
       "      <td>54</td>\n",
       "      <td>28</td>\n",
       "      <td>4</td>\n",
       "    </tr>\n",
       "  </tbody>\n",
       "</table>\n",
       "<p>7328 rows × 10 columns</p>\n",
       "</div>"
      ],
      "text/plain": [
       "             Product_ID             Source     Sales_Agent         Location  \\\n",
       "0                     9          Live Chat   Sales-Agent-3        Bangalore   \n",
       "1                    19               Call   Sales-Agent-4  Other Locations   \n",
       "2                    18            Website  Sales-Agent-11  Other Locations   \n",
       "3                    15            Website   Sales-Agent-7        Hyderabad   \n",
       "4                    18               Call   Sales-Agent-7        Bangalore   \n",
       "...                 ...                ...             ...              ...   \n",
       "7323                  9               Call   Sales-Agent-6           Mumbai   \n",
       "7324                 15               Call  Sales-Agent-12  Other Locations   \n",
       "7325                  5          Live Chat  Sales-Agent-11        Bangalore   \n",
       "7326  Less Sold Product  Existing Customer   Sales-Agent-4  Other Locations   \n",
       "7327  Less Sold Product            Website   Sales-Agent-3          Chennai   \n",
       "\n",
       "     Delivery_Mode Status  Created_hour  Created_min  Created_day  \\\n",
       "0           Mode-1   Good            18           51           13   \n",
       "1           Mode-5   Good            18           48           13   \n",
       "2           Mode-1   Good            17            9           13   \n",
       "3           Mode-1    Bad            16           49           13   \n",
       "4           Mode-1   Good            16           37           13   \n",
       "...            ...    ...           ...          ...          ...   \n",
       "7323        Mode-4    Bad             9           45           28   \n",
       "7324        Mode-5    Bad             9           43           28   \n",
       "7325        Mode-1    Bad             9           20           28   \n",
       "7326        Mode-1    Bad             8            4           28   \n",
       "7327        Mode-1   Good             7           54           28   \n",
       "\n",
       "      Created_month  \n",
       "0                11  \n",
       "1                11  \n",
       "2                11  \n",
       "3                11  \n",
       "4                11  \n",
       "...             ...  \n",
       "7323              4  \n",
       "7324              4  \n",
       "7325              4  \n",
       "7326              4  \n",
       "7327              4  \n",
       "\n",
       "[7328 rows x 10 columns]"
      ]
     },
     "execution_count": 40,
     "metadata": {},
     "output_type": "execute_result"
    }
   ],
   "source": [
    "Sales_Data"
   ]
  },
  {
   "cell_type": "markdown",
   "metadata": {},
   "source": [
    "# **univariate analysis of categorical variables**"
   ]
  },
  {
   "cell_type": "code",
   "execution_count": 41,
   "metadata": {},
   "outputs": [],
   "source": [
    "import matplotlib.pyplot as plt\n",
    "import seaborn as sns\n",
    "%matplotlib inline\n",
    "import warnings\n",
    "warnings.filterwarnings('ignore')"
   ]
  },
  {
   "cell_type": "code",
   "execution_count": 42,
   "metadata": {},
   "outputs": [
    {
     "data": {
      "image/png": "[encoded data removed]",
      "text/plain": [
       "<Figure size 1440x1800 with 10 Axes>"
      ]
     },
     "metadata": {},
     "output_type": "display_data"
    }
   ],
   "source": [
    "plt.figure(figsize=(20,25), facecolor='white')\n",
    "plotnumber = 1\n",
    "\n",
    "for column in Sales_Data:\n",
    "    if plotnumber<=10 : # as there are 10 columns in the dataset.\n",
    "        ax = plt.subplot(5,2,plotnumber)\n",
    "        sns.histplot(x=Sales_Data[column],hue=Sales_Data.Status)\n",
    "        plt.xlabel(column,fontsize=20)\n",
    "        plt.ylabel('Status',fontsize=20)\n",
    "    plotnumber+=1\n",
    "plt.show()"
   ]
  },
  {
   "cell_type": "markdown",
   "metadata": {},
   "source": [
    "# **From Above graphical representation and from sweetviz analysis we get insights:-**"
   ]
  },
  {
   "cell_type": "markdown",
   "metadata": {},
   "source": [
    "1) Product ID 15 has highest number of Nonpotential lead.\n",
    "\n",
    "2) Delivery_Mode Mode-1 has only Potential Lead and Mode-4 also but having really less amount of deliveries from Mode-4.\n",
    "\n",
    "3) There are most number of lead from Other Locations and having most number of Nonpotential Lead.\n",
    "\n",
    "4) Sales_Agent 4,5 and 11 provides maximum no. of lead but most of them are Nonpotential.\n",
    "\n",
    "5) From Source Call, Live Chat-Direct and Website we are getting highest no. of lead."
   ]
  },
  {
   "cell_type": "markdown",
   "metadata": {},
   "source": [
    "# **Handling Categorical Data**"
   ]
  },
  {
   "cell_type": "code",
   "execution_count": 43,
   "metadata": {},
   "outputs": [],
   "source": [
    "# Converting Source using Frequency encoder\n",
    "# grouping by frequency\n",
    "fq = Sales_Data.groupby('Source').size()/len(Sales_Data)\n",
    "# mapping values to dataframe\n",
    "Sales_Data.loc[:, \"{}_freq_encode\".format('Source')] = Sales_Data['Source'].map(fq)\n",
    "# drop original column.\n",
    "Sales_Data = Sales_Data.drop(['Source'], axis = 1)"
   ]
  },
  {
   "cell_type": "code",
   "execution_count": 44,
   "metadata": {},
   "outputs": [
    {
     "data": {
      "text/plain": [
       "array(['Sales-Agent-3', 'Sales-Agent-4', 'Sales-Agent-11',\n",
       "       'Sales-Agent-7', 'Sales-Agent-9', 'Sales-Agent-8', 'Sales-Agent-5',\n",
       "       'Sales-Agent-2', 'Sales-Agent-12', 'Sales-Agent-10',\n",
       "       'Sales-Agent-6'], dtype=object)"
      ]
     },
     "execution_count": 44,
     "metadata": {},
     "output_type": "execute_result"
    }
   ],
   "source": [
    "Sales_Data.Sales_Agent.unique()"
   ]
  },
  {
   "cell_type": "code",
   "execution_count": 45,
   "metadata": {},
   "outputs": [],
   "source": [
    "# Handling Sales_Agent using Label Encoder.\n",
    "Sales_Data.replace({'Sales-Agent-1': 1, 'Sales-Agent-2': 2, 'Sales-Agent-3': 3, 'Sales-Agent-4': 4, 'Sales-Agent-5': 5, 'Sales-Agent-6': 6, 'Sales-Agent-7': 7,'Sales-Agent-8': 8,'Sales-Agent-9': 9,'Sales-Agent-10': 10,'Sales-Agent-11': 11,'Sales-Agent-12': 12},inplace=True) "
   ]
  },
  {
   "cell_type": "code",
   "execution_count": 46,
   "metadata": {},
   "outputs": [],
   "source": [
    "# Converting Location using Frequency encoder\n",
    "# grouping by frequency\n",
    "fq1 = Sales_Data.groupby('Location').size()/len(Sales_Data)\n",
    "# mapping values to dataframe\n",
    "Sales_Data.loc[:, \"{}_freq_encode\".format('Location')] = Sales_Data['Location'].map(fq1)\n",
    "# drop original column.\n",
    "Sales_Data = Sales_Data.drop(['Location'], axis = 1)"
   ]
  },
  {
   "cell_type": "code",
   "execution_count": 47,
   "metadata": {},
   "outputs": [],
   "source": [
    "# As Delivery_Mode is Nominal Categorical data we will perform OneHotEncoding\n",
    "\n",
    "Delivery_Mode = Sales_Data[[\"Delivery_Mode\"]]\n",
    "\n",
    "Delivery_Mode = pd.get_dummies(Delivery_Mode)\n",
    "\n",
    "Sales_Data = pd.concat([Sales_Data,Delivery_Mode],axis=1)"
   ]
  },
  {
   "cell_type": "code",
   "execution_count": 48,
   "metadata": {},
   "outputs": [],
   "source": [
    "Sales_Data.drop(['Delivery_Mode'], axis =1, inplace= True)"
   ]
  },
  {
   "cell_type": "code",
   "execution_count": 49,
   "metadata": {},
   "outputs": [],
   "source": [
    "# Converting Status\n",
    "Sales_Data.replace({'Bad': 0, 'Good': 1}, inplace = True)"
   ]
  },
  {
   "cell_type": "code",
   "execution_count": 50,
   "metadata": {},
   "outputs": [
    {
     "data": {
      "text/html": [
       "<div>\n",
       "<style scoped>\n",
       "    .dataframe tbody tr th:only-of-type {\n",
       "        vertical-align: middle;\n",
       "    }\n",
       "\n",
       "    .dataframe tbody tr th {\n",
       "        vertical-align: top;\n",
       "    }\n",
       "\n",
       "    .dataframe thead th {\n",
       "        text-align: right;\n",
       "    }\n",
       "</style>\n",
       "<table border=\"1\" class=\"dataframe\">\n",
       "  <thead>\n",
       "    <tr style=\"text-align: right;\">\n",
       "      <th></th>\n",
       "      <th>Product_ID</th>\n",
       "      <th>Sales_Agent</th>\n",
       "      <th>Status</th>\n",
       "      <th>Created_hour</th>\n",
       "      <th>Created_min</th>\n",
       "      <th>Created_day</th>\n",
       "      <th>Created_month</th>\n",
       "      <th>Source_freq_encode</th>\n",
       "      <th>Location_freq_encode</th>\n",
       "      <th>Delivery_Mode_Mode-1</th>\n",
       "      <th>Delivery_Mode_Mode-2</th>\n",
       "      <th>Delivery_Mode_Mode-3</th>\n",
       "      <th>Delivery_Mode_Mode-4</th>\n",
       "      <th>Delivery_Mode_Mode-5</th>\n",
       "    </tr>\n",
       "  </thead>\n",
       "  <tbody>\n",
       "    <tr>\n",
       "      <th>0</th>\n",
       "      <td>9</td>\n",
       "      <td>3</td>\n",
       "      <td>1</td>\n",
       "      <td>18</td>\n",
       "      <td>51</td>\n",
       "      <td>13</td>\n",
       "      <td>11</td>\n",
       "      <td>0.363401</td>\n",
       "      <td>0.283706</td>\n",
       "      <td>1</td>\n",
       "      <td>0</td>\n",
       "      <td>0</td>\n",
       "      <td>0</td>\n",
       "      <td>0</td>\n",
       "    </tr>\n",
       "    <tr>\n",
       "      <th>1</th>\n",
       "      <td>19</td>\n",
       "      <td>4</td>\n",
       "      <td>1</td>\n",
       "      <td>18</td>\n",
       "      <td>48</td>\n",
       "      <td>13</td>\n",
       "      <td>11</td>\n",
       "      <td>0.346070</td>\n",
       "      <td>0.354121</td>\n",
       "      <td>0</td>\n",
       "      <td>0</td>\n",
       "      <td>0</td>\n",
       "      <td>0</td>\n",
       "      <td>1</td>\n",
       "    </tr>\n",
       "    <tr>\n",
       "      <th>2</th>\n",
       "      <td>18</td>\n",
       "      <td>11</td>\n",
       "      <td>1</td>\n",
       "      <td>17</td>\n",
       "      <td>9</td>\n",
       "      <td>13</td>\n",
       "      <td>11</td>\n",
       "      <td>0.236900</td>\n",
       "      <td>0.354121</td>\n",
       "      <td>1</td>\n",
       "      <td>0</td>\n",
       "      <td>0</td>\n",
       "      <td>0</td>\n",
       "      <td>0</td>\n",
       "    </tr>\n",
       "    <tr>\n",
       "      <th>3</th>\n",
       "      <td>15</td>\n",
       "      <td>7</td>\n",
       "      <td>0</td>\n",
       "      <td>16</td>\n",
       "      <td>49</td>\n",
       "      <td>13</td>\n",
       "      <td>11</td>\n",
       "      <td>0.236900</td>\n",
       "      <td>0.071916</td>\n",
       "      <td>1</td>\n",
       "      <td>0</td>\n",
       "      <td>0</td>\n",
       "      <td>0</td>\n",
       "      <td>0</td>\n",
       "    </tr>\n",
       "    <tr>\n",
       "      <th>4</th>\n",
       "      <td>18</td>\n",
       "      <td>7</td>\n",
       "      <td>1</td>\n",
       "      <td>16</td>\n",
       "      <td>37</td>\n",
       "      <td>13</td>\n",
       "      <td>11</td>\n",
       "      <td>0.346070</td>\n",
       "      <td>0.283706</td>\n",
       "      <td>1</td>\n",
       "      <td>0</td>\n",
       "      <td>0</td>\n",
       "      <td>0</td>\n",
       "      <td>0</td>\n",
       "    </tr>\n",
       "    <tr>\n",
       "      <th>...</th>\n",
       "      <td>...</td>\n",
       "      <td>...</td>\n",
       "      <td>...</td>\n",
       "      <td>...</td>\n",
       "      <td>...</td>\n",
       "      <td>...</td>\n",
       "      <td>...</td>\n",
       "      <td>...</td>\n",
       "      <td>...</td>\n",
       "      <td>...</td>\n",
       "      <td>...</td>\n",
       "      <td>...</td>\n",
       "      <td>...</td>\n",
       "      <td>...</td>\n",
       "    </tr>\n",
       "    <tr>\n",
       "      <th>7323</th>\n",
       "      <td>9</td>\n",
       "      <td>6</td>\n",
       "      <td>0</td>\n",
       "      <td>9</td>\n",
       "      <td>45</td>\n",
       "      <td>28</td>\n",
       "      <td>4</td>\n",
       "      <td>0.346070</td>\n",
       "      <td>0.054449</td>\n",
       "      <td>0</td>\n",
       "      <td>0</td>\n",
       "      <td>0</td>\n",
       "      <td>1</td>\n",
       "      <td>0</td>\n",
       "    </tr>\n",
       "    <tr>\n",
       "      <th>7324</th>\n",
       "      <td>15</td>\n",
       "      <td>12</td>\n",
       "      <td>0</td>\n",
       "      <td>9</td>\n",
       "      <td>43</td>\n",
       "      <td>28</td>\n",
       "      <td>4</td>\n",
       "      <td>0.346070</td>\n",
       "      <td>0.354121</td>\n",
       "      <td>0</td>\n",
       "      <td>0</td>\n",
       "      <td>0</td>\n",
       "      <td>0</td>\n",
       "      <td>1</td>\n",
       "    </tr>\n",
       "    <tr>\n",
       "      <th>7325</th>\n",
       "      <td>5</td>\n",
       "      <td>11</td>\n",
       "      <td>0</td>\n",
       "      <td>9</td>\n",
       "      <td>20</td>\n",
       "      <td>28</td>\n",
       "      <td>4</td>\n",
       "      <td>0.363401</td>\n",
       "      <td>0.283706</td>\n",
       "      <td>1</td>\n",
       "      <td>0</td>\n",
       "      <td>0</td>\n",
       "      <td>0</td>\n",
       "      <td>0</td>\n",
       "    </tr>\n",
       "    <tr>\n",
       "      <th>7326</th>\n",
       "      <td>Less Sold Product</td>\n",
       "      <td>4</td>\n",
       "      <td>0</td>\n",
       "      <td>8</td>\n",
       "      <td>4</td>\n",
       "      <td>28</td>\n",
       "      <td>4</td>\n",
       "      <td>0.019787</td>\n",
       "      <td>0.354121</td>\n",
       "      <td>1</td>\n",
       "      <td>0</td>\n",
       "      <td>0</td>\n",
       "      <td>0</td>\n",
       "      <td>0</td>\n",
       "    </tr>\n",
       "    <tr>\n",
       "      <th>7327</th>\n",
       "      <td>Less Sold Product</td>\n",
       "      <td>3</td>\n",
       "      <td>1</td>\n",
       "      <td>7</td>\n",
       "      <td>54</td>\n",
       "      <td>28</td>\n",
       "      <td>4</td>\n",
       "      <td>0.236900</td>\n",
       "      <td>0.123772</td>\n",
       "      <td>1</td>\n",
       "      <td>0</td>\n",
       "      <td>0</td>\n",
       "      <td>0</td>\n",
       "      <td>0</td>\n",
       "    </tr>\n",
       "  </tbody>\n",
       "</table>\n",
       "<p>7328 rows × 14 columns</p>\n",
       "</div>"
      ],
      "text/plain": [
       "             Product_ID  Sales_Agent  Status  Created_hour  Created_min  \\\n",
       "0                     9            3       1            18           51   \n",
       "1                    19            4       1            18           48   \n",
       "2                    18           11       1            17            9   \n",
       "3                    15            7       0            16           49   \n",
       "4                    18            7       1            16           37   \n",
       "...                 ...          ...     ...           ...          ...   \n",
       "7323                  9            6       0             9           45   \n",
       "7324                 15           12       0             9           43   \n",
       "7325                  5           11       0             9           20   \n",
       "7326  Less Sold Product            4       0             8            4   \n",
       "7327  Less Sold Product            3       1             7           54   \n",
       "\n",
       "      Created_day  Created_month  Source_freq_encode  Location_freq_encode  \\\n",
       "0              13             11            0.363401              0.283706   \n",
       "1              13             11            0.346070              0.354121   \n",
       "2              13             11            0.236900              0.354121   \n",
       "3              13             11            0.236900              0.071916   \n",
       "4              13             11            0.346070              0.283706   \n",
       "...           ...            ...                 ...                   ...   \n",
       "7323           28              4            0.346070              0.054449   \n",
       "7324           28              4            0.346070              0.354121   \n",
       "7325           28              4            0.363401              0.283706   \n",
       "7326           28              4            0.019787              0.354121   \n",
       "7327           28              4            0.236900              0.123772   \n",
       "\n",
       "      Delivery_Mode_Mode-1  Delivery_Mode_Mode-2  Delivery_Mode_Mode-3  \\\n",
       "0                        1                     0                     0   \n",
       "1                        0                     0                     0   \n",
       "2                        1                     0                     0   \n",
       "3                        1                     0                     0   \n",
       "4                        1                     0                     0   \n",
       "...                    ...                   ...                   ...   \n",
       "7323                     0                     0                     0   \n",
       "7324                     0                     0                     0   \n",
       "7325                     1                     0                     0   \n",
       "7326                     1                     0                     0   \n",
       "7327                     1                     0                     0   \n",
       "\n",
       "      Delivery_Mode_Mode-4  Delivery_Mode_Mode-5  \n",
       "0                        0                     0  \n",
       "1                        0                     1  \n",
       "2                        0                     0  \n",
       "3                        0                     0  \n",
       "4                        0                     0  \n",
       "...                    ...                   ...  \n",
       "7323                     1                     0  \n",
       "7324                     0                     1  \n",
       "7325                     0                     0  \n",
       "7326                     0                     0  \n",
       "7327                     0                     0  \n",
       "\n",
       "[7328 rows x 14 columns]"
      ]
     },
     "execution_count": 50,
     "metadata": {},
     "output_type": "execute_result"
    }
   ],
   "source": [
    "Sales_Data"
   ]
  },
  {
   "cell_type": "code",
   "execution_count": 51,
   "metadata": {},
   "outputs": [],
   "source": [
    "Sales_Data.replace({'Less Sold Product':1},inplace=True)"
   ]
  },
  {
   "cell_type": "markdown",
   "metadata": {},
   "source": [
    "# **Feature Selection**"
   ]
  },
  {
   "cell_type": "code",
   "execution_count": 52,
   "metadata": {},
   "outputs": [
    {
     "data": {
      "image/png": "[encoded data removed]",
      "text/plain": [
       "<Figure size 1296x1296 with 2 Axes>"
      ]
     },
     "metadata": {
      "needs_background": "light"
     },
     "output_type": "display_data"
    }
   ],
   "source": [
    "# Finds correlation between Independent and dependent attributes\n",
    "\n",
    "plt.figure(figsize = (18,18))\n",
    "sns.heatmap(Sales_Data.corr(), annot = True, cmap = \"RdYlGn\")\n",
    "\n",
    "plt.show()"
   ]
  },
  {
   "cell_type": "code",
   "execution_count": 53,
   "metadata": {},
   "outputs": [],
   "source": [
    "# Creating Dependent and independent variable\n",
    "x=Sales_Data.drop(columns = ['Status']) ## independent varable\n",
    "y=Sales_Data['Status'] ## dependent or target variable"
   ]
  },
  {
   "cell_type": "code",
   "execution_count": 54,
   "metadata": {},
   "outputs": [
    {
     "data": {
      "text/html": [
       "<style>#sk-container-id-1 {color: black;background-color: white;}#sk-container-id-1 pre{padding: 0;}#sk-container-id-1 div.sk-toggleable {background-color: white;}#sk-container-id-1 label.sk-toggleable__label {cursor: pointer;display: block;width: 100%;margin-bottom: 0;padding: 0.3em;box-sizing: border-box;text-align: center;}#sk-container-id-1 label.sk-toggleable__label-arrow:before {content: \"▸\";float: left;margin-right: 0.25em;color: #696969;}#sk-container-id-1 label.sk-toggleable__label-arrow:hover:before {color: black;}#sk-container-id-1 div.sk-estimator:hover label.sk-toggleable__label-arrow:before {color: black;}#sk-container-id-1 div.sk-toggleable__content {max-height: 0;max-width: 0;overflow: hidden;text-align: left;background-color: #f0f8ff;}#sk-container-id-1 div.sk-toggleable__content pre {margin: 0.2em;color: black;border-radius: 0.25em;background-color: #f0f8ff;}#sk-container-id-1 input.sk-toggleable__control:checked~div.sk-toggleable__content {max-height: 200px;max-width: 100%;overflow: auto;}#sk-container-id-1 input.sk-toggleable__control:checked~label.sk-toggleable__label-arrow:before {content: \"▾\";}#sk-container-id-1 div.sk-estimator input.sk-toggleable__control:checked~label.sk-toggleable__label {background-color: #d4ebff;}#sk-container-id-1 div.sk-label input.sk-toggleable__control:checked~label.sk-toggleable__label {background-color: #d4ebff;}#sk-container-id-1 input.sk-hidden--visually {border: 0;clip: rect(1px 1px 1px 1px);clip: rect(1px, 1px, 1px, 1px);height: 1px;margin: -1px;overflow: hidden;padding: 0;position: absolute;width: 1px;}#sk-container-id-1 div.sk-estimator {font-family: monospace;background-color: #f0f8ff;border: 1px dotted black;border-radius: 0.25em;box-sizing: border-box;margin-bottom: 0.5em;}#sk-container-id-1 div.sk-estimator:hover {background-color: #d4ebff;}#sk-container-id-1 div.sk-parallel-item::after {content: \"\";width: 100%;border-bottom: 1px solid gray;flex-grow: 1;}#sk-container-id-1 div.sk-label:hover label.sk-toggleable__label {background-color: #d4ebff;}#sk-container-id-1 div.sk-serial::before {content: \"\";position: absolute;border-left: 1px solid gray;box-sizing: border-box;top: 0;bottom: 0;left: 50%;z-index: 0;}#sk-container-id-1 div.sk-serial {display: flex;flex-direction: column;align-items: center;background-color: white;padding-right: 0.2em;padding-left: 0.2em;position: relative;}#sk-container-id-1 div.sk-item {position: relative;z-index: 1;}#sk-container-id-1 div.sk-parallel {display: flex;align-items: stretch;justify-content: center;background-color: white;position: relative;}#sk-container-id-1 div.sk-item::before, #sk-container-id-1 div.sk-parallel-item::before {content: \"\";position: absolute;border-left: 1px solid gray;box-sizing: border-box;top: 0;bottom: 0;left: 50%;z-index: -1;}#sk-container-id-1 div.sk-parallel-item {display: flex;flex-direction: column;z-index: 1;position: relative;background-color: white;}#sk-container-id-1 div.sk-parallel-item:first-child::after {align-self: flex-end;width: 50%;}#sk-container-id-1 div.sk-parallel-item:last-child::after {align-self: flex-start;width: 50%;}#sk-container-id-1 div.sk-parallel-item:only-child::after {width: 0;}#sk-container-id-1 div.sk-dashed-wrapped {border: 1px dashed gray;margin: 0 0.4em 0.5em 0.4em;box-sizing: border-box;padding-bottom: 0.4em;background-color: white;}#sk-container-id-1 div.sk-label label {font-family: monospace;font-weight: bold;display: inline-block;line-height: 1.2em;}#sk-container-id-1 div.sk-label-container {text-align: center;}#sk-container-id-1 div.sk-container {/* jupyter's `normalize.less` sets `[hidden] { display: none; }` but bootstrap.min.css set `[hidden] { display: none !important; }` so we also need the `!important` here to be able to override the default hidden behavior on the sphinx rendered scikit-learn.org. See: https://github.com/scikit-learn/scikit-learn/issues/21755 */display: inline-block !important;position: relative;}#sk-container-id-1 div.sk-text-repr-fallback {display: none;}</style><div id=\"sk-container-id-1\" class=\"sk-top-container\"><div class=\"sk-text-repr-fallback\"><pre>ExtraTreesRegressor()</pre><b>In a Jupyter environment, please rerun this cell to show the HTML representation or trust the notebook. <br />On GitHub, the HTML representation is unable to render, please try loading this page with nbviewer.org.</b></div><div class=\"sk-container\" hidden><div class=\"sk-item\"><div class=\"sk-estimator sk-toggleable\"><input class=\"sk-toggleable__control sk-hidden--visually\" id=\"sk-estimator-id-1\" type=\"checkbox\" checked><label for=\"sk-estimator-id-1\" class=\"sk-toggleable__label sk-toggleable__label-arrow\">ExtraTreesRegressor</label><div class=\"sk-toggleable__content\"><pre>ExtraTreesRegressor()</pre></div></div></div></div></div>"
      ],
      "text/plain": [
       "ExtraTreesRegressor()"
      ]
     },
     "execution_count": 54,
     "metadata": {},
     "output_type": "execute_result"
    }
   ],
   "source": [
    "# Important feature using ExtraTreesRegressor\n",
    "\n",
    "from sklearn.ensemble import ExtraTreesRegressor\n",
    "selection = ExtraTreesRegressor()\n",
    "selection.fit(x, y)"
   ]
  },
  {
   "cell_type": "code",
   "execution_count": 55,
   "metadata": {},
   "outputs": [
    {
     "data": {
      "image/png": "[encoded data removed]",
      "text/plain": [
       "<Figure size 864x576 with 1 Axes>"
      ]
     },
     "metadata": {
      "needs_background": "light"
     },
     "output_type": "display_data"
    }
   ],
   "source": [
    "#plot graph of feature importances for better visualization\n",
    "\n",
    "plt.figure(figsize = (12,8))\n",
    "feat_importances = pd.Series(selection.feature_importances_, index=x.columns)\n",
    "feat_importances.nlargest(20).plot(kind='barh')\n",
    "plt.show()"
   ]
  },
  {
   "cell_type": "markdown",
   "metadata": {},
   "source": [
    "From Above Representation it is concluded that Creation Period, Product_ID, Location and Sales_Agent really effects the Status of lead."
   ]
  },
  {
   "cell_type": "markdown",
   "metadata": {},
   "source": [
    "# **Checking the dataset**"
   ]
  },
  {
   "cell_type": "code",
   "execution_count": 56,
   "metadata": {},
   "outputs": [
    {
     "data": {
      "text/plain": [
       "0    4466\n",
       "1    2862\n",
       "Name: Status, dtype: int64"
      ]
     },
     "execution_count": 56,
     "metadata": {},
     "output_type": "execute_result"
    }
   ],
   "source": [
    "# target class count\n",
    "Sales_Data[\"Status\"].value_counts()"
   ]
  },
  {
   "cell_type": "code",
   "execution_count": 57,
   "metadata": {},
   "outputs": [
    {
     "data": {
      "text/plain": [
       "Text(0.5, 1.0, 'target variable')"
      ]
     },
     "execution_count": 57,
     "metadata": {},
     "output_type": "execute_result"
    },
    {
     "data": {
      "image/png": "[encoded data removed]",
      "text/plain": [
       "<Figure size 432x288 with 1 Axes>"
      ]
     },
     "metadata": {
      "needs_background": "light"
     },
     "output_type": "display_data"
    }
   ],
   "source": [
    "sns.countplot(Sales_Data[\"Status\"])\n",
    "plt.title(\"target variable\")"
   ]
  },
  {
   "cell_type": "markdown",
   "metadata": {},
   "source": [
    "from the graph it is shown that dataset is imbalance"
   ]
  },
  {
   "cell_type": "markdown",
   "metadata": {},
   "source": [
    "# **Handling imbalanced dataset**"
   ]
  },
  {
   "cell_type": "code",
   "execution_count": 58,
   "metadata": {},
   "outputs": [
    {
     "name": "stdout",
     "output_type": "stream",
     "text": [
      "Requirement already satisfied: imblearn in c:\\users\\hp\\anaconda3\\anaconda python\\lib\\site-packages (0.0)\n",
      "Requirement already satisfied: imbalanced-learn in c:\\users\\hp\\anaconda3\\anaconda python\\lib\\site-packages (from imblearn) (0.9.1)\n",
      "Requirement already satisfied: scipy>=1.3.2 in c:\\users\\hp\\anaconda3\\anaconda python\\lib\\site-packages (from imbalanced-learn->imblearn) (1.7.1)\n",
      "Requirement already satisfied: scikit-learn>=1.1.0 in c:\\users\\hp\\anaconda3\\anaconda python\\lib\\site-packages (from imbalanced-learn->imblearn) (1.1.0)\n",
      "Requirement already satisfied: joblib>=1.0.0 in c:\\users\\hp\\anaconda3\\anaconda python\\lib\\site-packages (from imbalanced-learn->imblearn) (1.1.0)\n",
      "Requirement already satisfied: threadpoolctl>=2.0.0 in c:\\users\\hp\\anaconda3\\anaconda python\\lib\\site-packages (from imbalanced-learn->imblearn) (2.2.0)\n",
      "Requirement already satisfied: numpy>=1.17.3 in c:\\users\\hp\\anaconda3\\anaconda python\\lib\\site-packages (from imbalanced-learn->imblearn) (1.20.3)\n"
     ]
    }
   ],
   "source": [
    "!pip install imblearn"
   ]
  },
  {
   "cell_type": "code",
   "execution_count": 59,
   "metadata": {},
   "outputs": [
    {
     "name": "stdout",
     "output_type": "stream",
     "text": [
      "Counter({0: 4466, 1: 2862})\n",
      "Counter({1: 4466, 0: 4466})\n"
     ]
    }
   ],
   "source": [
    "## Balacing the data\n",
    "from collections import Counter# importing counter to check count of each label\n",
    "from imblearn.over_sampling import SMOTE #for balancing the data\n",
    "sm=SMOTE()#object creation\n",
    "print(Counter(y))# checking count for each class \n",
    "x_sm,y_sm=sm.fit_resample(x,y)#applying sampling on target variable \n",
    "print(Counter(y_sm))# checking count after sampling for  each class"
   ]
  },
  {
   "cell_type": "markdown",
   "metadata": {},
   "source": [
    "# **Model Creation**"
   ]
  },
  {
   "cell_type": "code",
   "execution_count": 60,
   "metadata": {},
   "outputs": [],
   "source": [
    "## creating training and testing data\n",
    "from sklearn.model_selection import train_test_split\n",
    "x_train,x_test,y_train,y_test =train_test_split(x, y, test_size= 0.25,random_state=42)"
   ]
  },
  {
   "cell_type": "markdown",
   "metadata": {},
   "source": [
    "# **Using Logestic Regression**"
   ]
  },
  {
   "cell_type": "code",
   "execution_count": 61,
   "metadata": {},
   "outputs": [
    {
     "data": {
      "text/html": [
       "<style>#sk-container-id-2 {color: black;background-color: white;}#sk-container-id-2 pre{padding: 0;}#sk-container-id-2 div.sk-toggleable {background-color: white;}#sk-container-id-2 label.sk-toggleable__label {cursor: pointer;display: block;width: 100%;margin-bottom: 0;padding: 0.3em;box-sizing: border-box;text-align: center;}#sk-container-id-2 label.sk-toggleable__label-arrow:before {content: \"▸\";float: left;margin-right: 0.25em;color: #696969;}#sk-container-id-2 label.sk-toggleable__label-arrow:hover:before {color: black;}#sk-container-id-2 div.sk-estimator:hover label.sk-toggleable__label-arrow:before {color: black;}#sk-container-id-2 div.sk-toggleable__content {max-height: 0;max-width: 0;overflow: hidden;text-align: left;background-color: #f0f8ff;}#sk-container-id-2 div.sk-toggleable__content pre {margin: 0.2em;color: black;border-radius: 0.25em;background-color: #f0f8ff;}#sk-container-id-2 input.sk-toggleable__control:checked~div.sk-toggleable__content {max-height: 200px;max-width: 100%;overflow: auto;}#sk-container-id-2 input.sk-toggleable__control:checked~label.sk-toggleable__label-arrow:before {content: \"▾\";}#sk-container-id-2 div.sk-estimator input.sk-toggleable__control:checked~label.sk-toggleable__label {background-color: #d4ebff;}#sk-container-id-2 div.sk-label input.sk-toggleable__control:checked~label.sk-toggleable__label {background-color: #d4ebff;}#sk-container-id-2 input.sk-hidden--visually {border: 0;clip: rect(1px 1px 1px 1px);clip: rect(1px, 1px, 1px, 1px);height: 1px;margin: -1px;overflow: hidden;padding: 0;position: absolute;width: 1px;}#sk-container-id-2 div.sk-estimator {font-family: monospace;background-color: #f0f8ff;border: 1px dotted black;border-radius: 0.25em;box-sizing: border-box;margin-bottom: 0.5em;}#sk-container-id-2 div.sk-estimator:hover {background-color: #d4ebff;}#sk-container-id-2 div.sk-parallel-item::after {content: \"\";width: 100%;border-bottom: 1px solid gray;flex-grow: 1;}#sk-container-id-2 div.sk-label:hover label.sk-toggleable__label {background-color: #d4ebff;}#sk-container-id-2 div.sk-serial::before {content: \"\";position: absolute;border-left: 1px solid gray;box-sizing: border-box;top: 0;bottom: 0;left: 50%;z-index: 0;}#sk-container-id-2 div.sk-serial {display: flex;flex-direction: column;align-items: center;background-color: white;padding-right: 0.2em;padding-left: 0.2em;position: relative;}#sk-container-id-2 div.sk-item {position: relative;z-index: 1;}#sk-container-id-2 div.sk-parallel {display: flex;align-items: stretch;justify-content: center;background-color: white;position: relative;}#sk-container-id-2 div.sk-item::before, #sk-container-id-2 div.sk-parallel-item::before {content: \"\";position: absolute;border-left: 1px solid gray;box-sizing: border-box;top: 0;bottom: 0;left: 50%;z-index: -1;}#sk-container-id-2 div.sk-parallel-item {display: flex;flex-direction: column;z-index: 1;position: relative;background-color: white;}#sk-container-id-2 div.sk-parallel-item:first-child::after {align-self: flex-end;width: 50%;}#sk-container-id-2 div.sk-parallel-item:last-child::after {align-self: flex-start;width: 50%;}#sk-container-id-2 div.sk-parallel-item:only-child::after {width: 0;}#sk-container-id-2 div.sk-dashed-wrapped {border: 1px dashed gray;margin: 0 0.4em 0.5em 0.4em;box-sizing: border-box;padding-bottom: 0.4em;background-color: white;}#sk-container-id-2 div.sk-label label {font-family: monospace;font-weight: bold;display: inline-block;line-height: 1.2em;}#sk-container-id-2 div.sk-label-container {text-align: center;}#sk-container-id-2 div.sk-container {/* jupyter's `normalize.less` sets `[hidden] { display: none; }` but bootstrap.min.css set `[hidden] { display: none !important; }` so we also need the `!important` here to be able to override the default hidden behavior on the sphinx rendered scikit-learn.org. See: https://github.com/scikit-learn/scikit-learn/issues/21755 */display: inline-block !important;position: relative;}#sk-container-id-2 div.sk-text-repr-fallback {display: none;}</style><div id=\"sk-container-id-2\" class=\"sk-top-container\"><div class=\"sk-text-repr-fallback\"><pre>LogisticRegression()</pre><b>In a Jupyter environment, please rerun this cell to show the HTML representation or trust the notebook. <br />On GitHub, the HTML representation is unable to render, please try loading this page with nbviewer.org.</b></div><div class=\"sk-container\" hidden><div class=\"sk-item\"><div class=\"sk-estimator sk-toggleable\"><input class=\"sk-toggleable__control sk-hidden--visually\" id=\"sk-estimator-id-2\" type=\"checkbox\" checked><label for=\"sk-estimator-id-2\" class=\"sk-toggleable__label sk-toggleable__label-arrow\">LogisticRegression</label><div class=\"sk-toggleable__content\"><pre>LogisticRegression()</pre></div></div></div></div></div>"
      ],
      "text/plain": [
       "LogisticRegression()"
      ]
     },
     "execution_count": 61,
     "metadata": {},
     "output_type": "execute_result"
    }
   ],
   "source": [
    "## model creation\n",
    "from sklearn.linear_model import LogisticRegression\n",
    "log_reg = LogisticRegression()\n",
    "\n",
    "log_reg.fit(x_train,y_train)"
   ]
  },
  {
   "cell_type": "code",
   "execution_count": 62,
   "metadata": {},
   "outputs": [],
   "source": [
    "y_pred = log_reg.predict(x_test)"
   ]
  },
  {
   "cell_type": "code",
   "execution_count": 63,
   "metadata": {},
   "outputs": [
    {
     "name": "stdout",
     "output_type": "stream",
     "text": [
      "              precision    recall  f1-score   support\n",
      "\n",
      "           0       0.65      0.86      0.74      1081\n",
      "           1       0.62      0.34      0.44       751\n",
      "\n",
      "    accuracy                           0.65      1832\n",
      "   macro avg       0.64      0.60      0.59      1832\n",
      "weighted avg       0.64      0.65      0.62      1832\n",
      "\n"
     ]
    }
   ],
   "source": [
    "from sklearn.metrics import accuracy_score,classification_report,f1_score\n",
    "print(classification_report(y_test,y_pred))"
   ]
  },
  {
   "cell_type": "code",
   "execution_count": 64,
   "metadata": {},
   "outputs": [
    {
     "data": {
      "text/plain": [
       "0.5985432928774584"
      ]
     },
     "execution_count": 64,
     "metadata": {},
     "output_type": "execute_result"
    }
   ],
   "source": [
    "from sklearn.metrics import roc_auc_score\n",
    "score=roc_auc_score(y_test,y_pred)\n",
    "score"
   ]
  },
  {
   "cell_type": "code",
   "execution_count": 65,
   "metadata": {},
   "outputs": [
    {
     "name": "stdout",
     "output_type": "stream",
     "text": [
      "[0.72955252 0.74645146 0.68986131 0.67216266 0.61456824]\n",
      "Cross validation Score: 0.690519239686932\n",
      "Std : 0.04638525801840942\n"
     ]
    }
   ],
   "source": [
    "from sklearn.model_selection import cross_val_score\n",
    "scores = cross_val_score(log_reg,x,y,cv=5,scoring='roc_auc')\n",
    "print(scores)\n",
    "print(\"Cross validation Score:\",scores.mean())\n",
    "print(\"Std :\",scores.std())"
   ]
  },
  {
   "cell_type": "markdown",
   "metadata": {},
   "source": [
    "# **Using Decision Tree Classifier **"
   ]
  },
  {
   "cell_type": "code",
   "execution_count": 66,
   "metadata": {},
   "outputs": [
    {
     "data": {
      "text/plain": [
       "array([0, 1, 0, ..., 0, 0, 0], dtype=int64)"
      ]
     },
     "execution_count": 66,
     "metadata": {},
     "output_type": "execute_result"
    }
   ],
   "source": [
    "from sklearn.tree import DecisionTreeClassifier#importing decision tree from sklearn.tree\n",
    "\n",
    "dt=DecisionTreeClassifier(criterion='entropy', max_depth=10, min_samples_leaf= 1, min_samples_split= 3, splitter= 'random')#object creation for decision tree  \n",
    "dt.fit(x_train,y_train)#training the model\n",
    "y_hat=dt.predict(x_test)#prediction\n",
    "y_hat#predicted values "
   ]
  },
  {
   "cell_type": "code",
   "execution_count": 67,
   "metadata": {},
   "outputs": [
    {
     "data": {
      "text/plain": [
       "0.7643740902474527"
      ]
     },
     "execution_count": 67,
     "metadata": {},
     "output_type": "execute_result"
    }
   ],
   "source": [
    "## Evalauting the model\n",
    "from sklearn.metrics import accuracy_score,classification_report,f1_score    #importing mertics to check model performance\n",
    "##Training score\n",
    "y_train_predict=dt.predict(x_train)#passing X_train to predict Y_train\n",
    "acc_train=accuracy_score(y_train,y_train_predict)#checking accuracy\n",
    "acc_train"
   ]
  },
  {
   "cell_type": "code",
   "execution_count": 68,
   "metadata": {},
   "outputs": [
    {
     "name": "stdout",
     "output_type": "stream",
     "text": [
      "              precision    recall  f1-score   support\n",
      "\n",
      "           0       0.78      0.87      0.82      3385\n",
      "           1       0.74      0.60      0.66      2111\n",
      "\n",
      "    accuracy                           0.76      5496\n",
      "   macro avg       0.76      0.73      0.74      5496\n",
      "weighted avg       0.76      0.76      0.76      5496\n",
      "\n"
     ]
    }
   ],
   "source": [
    "print(classification_report(y_train,y_train_predict))# it will give precision,recall,f1 scores and accur"
   ]
  },
  {
   "cell_type": "code",
   "execution_count": 69,
   "metadata": {},
   "outputs": [
    {
     "data": {
      "text/html": [
       "<div>\n",
       "<style scoped>\n",
       "    .dataframe tbody tr th:only-of-type {\n",
       "        vertical-align: middle;\n",
       "    }\n",
       "\n",
       "    .dataframe tbody tr th {\n",
       "        vertical-align: top;\n",
       "    }\n",
       "\n",
       "    .dataframe thead th {\n",
       "        text-align: right;\n",
       "    }\n",
       "</style>\n",
       "<table border=\"1\" class=\"dataframe\">\n",
       "  <thead>\n",
       "    <tr style=\"text-align: right;\">\n",
       "      <th>col_0</th>\n",
       "      <th>0</th>\n",
       "      <th>1</th>\n",
       "    </tr>\n",
       "    <tr>\n",
       "      <th>Status</th>\n",
       "      <th></th>\n",
       "      <th></th>\n",
       "    </tr>\n",
       "  </thead>\n",
       "  <tbody>\n",
       "    <tr>\n",
       "      <th>0</th>\n",
       "      <td>2929</td>\n",
       "      <td>456</td>\n",
       "    </tr>\n",
       "    <tr>\n",
       "      <th>1</th>\n",
       "      <td>839</td>\n",
       "      <td>1272</td>\n",
       "    </tr>\n",
       "  </tbody>\n",
       "</table>\n",
       "</div>"
      ],
      "text/plain": [
       "col_0      0     1\n",
       "Status            \n",
       "0       2929   456\n",
       "1        839  1272"
      ]
     },
     "execution_count": 69,
     "metadata": {},
     "output_type": "execute_result"
    }
   ],
   "source": [
    "pd.crosstab(y_train,y_train_predict)#it will show you confusion matrix"
   ]
  },
  {
   "cell_type": "code",
   "execution_count": 70,
   "metadata": {},
   "outputs": [
    {
     "data": {
      "text/plain": [
       "0.6626725709820266"
      ]
     },
     "execution_count": 70,
     "metadata": {},
     "output_type": "execute_result"
    }
   ],
   "source": [
    "train_f1=f1_score(y_train,y_train_predict)\n",
    "train_f1"
   ]
  },
  {
   "cell_type": "code",
   "execution_count": 71,
   "metadata": {},
   "outputs": [
    {
     "data": {
      "text/plain": [
       "0.6812227074235808"
      ]
     },
     "execution_count": 71,
     "metadata": {},
     "output_type": "execute_result"
    }
   ],
   "source": [
    "## test acc\n",
    "test_acc=accuracy_score(y_test,y_hat)#testing accuracy \n",
    "test_acc"
   ]
  },
  {
   "cell_type": "code",
   "execution_count": 72,
   "metadata": {},
   "outputs": [
    {
     "data": {
      "text/plain": [
       "0.5712187958883994"
      ]
     },
     "execution_count": 72,
     "metadata": {},
     "output_type": "execute_result"
    }
   ],
   "source": [
    "## test score\n",
    "test_f1=f1_score(y_test,y_hat)#f1 score\n",
    "test_f1"
   ]
  },
  {
   "cell_type": "code",
   "execution_count": 73,
   "metadata": {},
   "outputs": [
    {
     "name": "stdout",
     "output_type": "stream",
     "text": [
      "              precision    recall  f1-score   support\n",
      "\n",
      "           0       0.70      0.79      0.75      1081\n",
      "           1       0.64      0.52      0.57       751\n",
      "\n",
      "    accuracy                           0.68      1832\n",
      "   macro avg       0.67      0.66      0.66      1832\n",
      "weighted avg       0.68      0.68      0.67      1832\n",
      "\n"
     ]
    }
   ],
   "source": [
    "print(classification_report(y_test,y_hat))# for  testing"
   ]
  },
  {
   "cell_type": "code",
   "execution_count": 74,
   "metadata": {},
   "outputs": [
    {
     "data": {
      "text/html": [
       "<div>\n",
       "<style scoped>\n",
       "    .dataframe tbody tr th:only-of-type {\n",
       "        vertical-align: middle;\n",
       "    }\n",
       "\n",
       "    .dataframe tbody tr th {\n",
       "        vertical-align: top;\n",
       "    }\n",
       "\n",
       "    .dataframe thead th {\n",
       "        text-align: right;\n",
       "    }\n",
       "</style>\n",
       "<table border=\"1\" class=\"dataframe\">\n",
       "  <thead>\n",
       "    <tr style=\"text-align: right;\">\n",
       "      <th>col_0</th>\n",
       "      <th>0</th>\n",
       "      <th>1</th>\n",
       "    </tr>\n",
       "    <tr>\n",
       "      <th>Status</th>\n",
       "      <th></th>\n",
       "      <th></th>\n",
       "    </tr>\n",
       "  </thead>\n",
       "  <tbody>\n",
       "    <tr>\n",
       "      <th>0</th>\n",
       "      <td>859</td>\n",
       "      <td>222</td>\n",
       "    </tr>\n",
       "    <tr>\n",
       "      <th>1</th>\n",
       "      <td>362</td>\n",
       "      <td>389</td>\n",
       "    </tr>\n",
       "  </tbody>\n",
       "</table>\n",
       "</div>"
      ],
      "text/plain": [
       "col_0     0    1\n",
       "Status          \n",
       "0       859  222\n",
       "1       362  389"
      ]
     },
     "execution_count": 74,
     "metadata": {},
     "output_type": "execute_result"
    }
   ],
   "source": [
    "pd.crosstab(y_test,y_hat)# confusion matrix for"
   ]
  },
  {
   "cell_type": "markdown",
   "metadata": {},
   "source": [
    "# **HYPER PARAMETER TUNING FOR DECISION TREE**"
   ]
  },
  {
   "cell_type": "code",
   "execution_count": 75,
   "metadata": {},
   "outputs": [],
   "source": [
    "from sklearn.model_selection import GridSearchCV\n",
    "#It helps to loop through predefined hyperparameters and fit your estimator (model) on your training set. \n",
    "#So,in the end, you can select the best parameters from the listed hyperparameters."
   ]
  },
  {
   "cell_type": "code",
   "execution_count": 76,
   "metadata": {},
   "outputs": [
    {
     "name": "stdout",
     "output_type": "stream",
     "text": [
      "Fitting 3 folds for each of 4332 candidates, totalling 12996 fits\n",
      "Best paramters: {'criterion': 'gini', 'max_depth': 6, 'min_samples_leaf': 11, 'min_samples_split': 2, 'splitter': 'best'})\n"
     ]
    }
   ],
   "source": [
    "#creating dictionary--> key value pair of hyperparameters having key as parameter and values as its values\n",
    "params = {\n",
    "    \"criterion\":(\"gini\", \"entropy\"), #quality of split\n",
    "    \"splitter\":(\"best\", \"random\"), # searches the features for a split\n",
    "    \"max_depth\":(list(range(1, 20))), #depth of tree range from 1 to 19\n",
    "    \"min_samples_split\":[2, 3, 4],    #the minimum number of samples required to split internal node\n",
    "    \"min_samples_leaf\":list(range(1, 20)),#minimum number of samples required to be at a leaf node,we are passing list which is range from 1 to 19 \n",
    "}\n",
    "\n",
    "\n",
    "tree_clf = DecisionTreeClassifier(random_state=3)#object creation for decision tree with random state 3\n",
    "tree_cv = GridSearchCV(tree_clf, params, scoring=\"f1\", n_jobs=-1, verbose=1, cv=3)\n",
    "#passing model to gridsearchCV ,\n",
    "#tree_clf-->model\n",
    "#params---->hyperparametes(dictionary we created)\n",
    "#scoring--->performance matrix to check performance\n",
    "#n_jobs---->Number of jobs to run in parallel,-1 means using all processors.\n",
    "#verbose=Controls the verbosity: the higher, the more messages.\n",
    "#>1 : the computation time for each fold and parameter candidate is displayed;\n",
    "#>2 : the score is also displayed;\n",
    "#>3 : the fold and candidate parameter indexes are also displayed together with the starting time of the computation.\n",
    "#cv------> number of folds\n",
    "\n",
    "\n",
    "\n",
    "\n",
    "tree_cv.fit(x_train,y_train)#training data on gridsearch cv\n",
    "best_params = tree_cv.best_params_#it will give you best parameters \n",
    "print(f\"Best paramters: {best_params})\")#printing  best parameters"
   ]
  },
  {
   "cell_type": "code",
   "execution_count": 77,
   "metadata": {},
   "outputs": [
    {
     "data": {
      "text/plain": [
       "{'criterion': 'gini',\n",
       " 'max_depth': 6,\n",
       " 'min_samples_leaf': 11,\n",
       " 'min_samples_split': 2,\n",
       " 'splitter': 'best'}"
      ]
     },
     "execution_count": 77,
     "metadata": {},
     "output_type": "execute_result"
    }
   ],
   "source": [
    "tree_cv.best_params_#getting best parameters from cv"
   ]
  },
  {
   "cell_type": "code",
   "execution_count": 78,
   "metadata": {},
   "outputs": [
    {
     "data": {
      "text/plain": [
       "0.5928134870924974"
      ]
     },
     "execution_count": 78,
     "metadata": {},
     "output_type": "execute_result"
    }
   ],
   "source": [
    "tree_cv.best_score_#getting best score from cv"
   ]
  },
  {
   "cell_type": "code",
   "execution_count": 79,
   "metadata": {},
   "outputs": [
    {
     "data": {
      "text/html": [
       "<style>#sk-container-id-3 {color: black;background-color: white;}#sk-container-id-3 pre{padding: 0;}#sk-container-id-3 div.sk-toggleable {background-color: white;}#sk-container-id-3 label.sk-toggleable__label {cursor: pointer;display: block;width: 100%;margin-bottom: 0;padding: 0.3em;box-sizing: border-box;text-align: center;}#sk-container-id-3 label.sk-toggleable__label-arrow:before {content: \"▸\";float: left;margin-right: 0.25em;color: #696969;}#sk-container-id-3 label.sk-toggleable__label-arrow:hover:before {color: black;}#sk-container-id-3 div.sk-estimator:hover label.sk-toggleable__label-arrow:before {color: black;}#sk-container-id-3 div.sk-toggleable__content {max-height: 0;max-width: 0;overflow: hidden;text-align: left;background-color: #f0f8ff;}#sk-container-id-3 div.sk-toggleable__content pre {margin: 0.2em;color: black;border-radius: 0.25em;background-color: #f0f8ff;}#sk-container-id-3 input.sk-toggleable__control:checked~div.sk-toggleable__content {max-height: 200px;max-width: 100%;overflow: auto;}#sk-container-id-3 input.sk-toggleable__control:checked~label.sk-toggleable__label-arrow:before {content: \"▾\";}#sk-container-id-3 div.sk-estimator input.sk-toggleable__control:checked~label.sk-toggleable__label {background-color: #d4ebff;}#sk-container-id-3 div.sk-label input.sk-toggleable__control:checked~label.sk-toggleable__label {background-color: #d4ebff;}#sk-container-id-3 input.sk-hidden--visually {border: 0;clip: rect(1px 1px 1px 1px);clip: rect(1px, 1px, 1px, 1px);height: 1px;margin: -1px;overflow: hidden;padding: 0;position: absolute;width: 1px;}#sk-container-id-3 div.sk-estimator {font-family: monospace;background-color: #f0f8ff;border: 1px dotted black;border-radius: 0.25em;box-sizing: border-box;margin-bottom: 0.5em;}#sk-container-id-3 div.sk-estimator:hover {background-color: #d4ebff;}#sk-container-id-3 div.sk-parallel-item::after {content: \"\";width: 100%;border-bottom: 1px solid gray;flex-grow: 1;}#sk-container-id-3 div.sk-label:hover label.sk-toggleable__label {background-color: #d4ebff;}#sk-container-id-3 div.sk-serial::before {content: \"\";position: absolute;border-left: 1px solid gray;box-sizing: border-box;top: 0;bottom: 0;left: 50%;z-index: 0;}#sk-container-id-3 div.sk-serial {display: flex;flex-direction: column;align-items: center;background-color: white;padding-right: 0.2em;padding-left: 0.2em;position: relative;}#sk-container-id-3 div.sk-item {position: relative;z-index: 1;}#sk-container-id-3 div.sk-parallel {display: flex;align-items: stretch;justify-content: center;background-color: white;position: relative;}#sk-container-id-3 div.sk-item::before, #sk-container-id-3 div.sk-parallel-item::before {content: \"\";position: absolute;border-left: 1px solid gray;box-sizing: border-box;top: 0;bottom: 0;left: 50%;z-index: -1;}#sk-container-id-3 div.sk-parallel-item {display: flex;flex-direction: column;z-index: 1;position: relative;background-color: white;}#sk-container-id-3 div.sk-parallel-item:first-child::after {align-self: flex-end;width: 50%;}#sk-container-id-3 div.sk-parallel-item:last-child::after {align-self: flex-start;width: 50%;}#sk-container-id-3 div.sk-parallel-item:only-child::after {width: 0;}#sk-container-id-3 div.sk-dashed-wrapped {border: 1px dashed gray;margin: 0 0.4em 0.5em 0.4em;box-sizing: border-box;padding-bottom: 0.4em;background-color: white;}#sk-container-id-3 div.sk-label label {font-family: monospace;font-weight: bold;display: inline-block;line-height: 1.2em;}#sk-container-id-3 div.sk-label-container {text-align: center;}#sk-container-id-3 div.sk-container {/* jupyter's `normalize.less` sets `[hidden] { display: none; }` but bootstrap.min.css set `[hidden] { display: none !important; }` so we also need the `!important` here to be able to override the default hidden behavior on the sphinx rendered scikit-learn.org. See: https://github.com/scikit-learn/scikit-learn/issues/21755 */display: inline-block !important;position: relative;}#sk-container-id-3 div.sk-text-repr-fallback {display: none;}</style><div id=\"sk-container-id-3\" class=\"sk-top-container\"><div class=\"sk-text-repr-fallback\"><pre>DecisionTreeClassifier(criterion=&#x27;entropy&#x27;, max_depth=10, min_samples_split=3,\n",
       "                       splitter=&#x27;random&#x27;)</pre><b>In a Jupyter environment, please rerun this cell to show the HTML representation or trust the notebook. <br />On GitHub, the HTML representation is unable to render, please try loading this page with nbviewer.org.</b></div><div class=\"sk-container\" hidden><div class=\"sk-item\"><div class=\"sk-estimator sk-toggleable\"><input class=\"sk-toggleable__control sk-hidden--visually\" id=\"sk-estimator-id-3\" type=\"checkbox\" checked><label for=\"sk-estimator-id-3\" class=\"sk-toggleable__label sk-toggleable__label-arrow\">DecisionTreeClassifier</label><div class=\"sk-toggleable__content\"><pre>DecisionTreeClassifier(criterion=&#x27;entropy&#x27;, max_depth=10, min_samples_split=3,\n",
       "                       splitter=&#x27;random&#x27;)</pre></div></div></div></div></div>"
      ],
      "text/plain": [
       "DecisionTreeClassifier(criterion='entropy', max_depth=10, min_samples_split=3,\n",
       "                       splitter='random')"
      ]
     },
     "execution_count": 79,
     "metadata": {},
     "output_type": "execute_result"
    }
   ],
   "source": [
    "dt.fit(x_train,y_train)#traing model with best parameter"
   ]
  },
  {
   "cell_type": "code",
   "execution_count": 80,
   "metadata": {},
   "outputs": [],
   "source": [
    "y_hat=dt.predict(x_test)#predicting\n",
    "#y_hat1"
   ]
  },
  {
   "cell_type": "code",
   "execution_count": 81,
   "metadata": {},
   "outputs": [
    {
     "data": {
      "text/plain": [
       "0.6839519650655022"
      ]
     },
     "execution_count": 81,
     "metadata": {},
     "output_type": "execute_result"
    }
   ],
   "source": [
    "acc_test=accuracy_score(y_test,y_hat)#checking accuracy\n",
    "acc_test"
   ]
  },
  {
   "cell_type": "code",
   "execution_count": 82,
   "metadata": {},
   "outputs": [
    {
     "data": {
      "text/plain": [
       "0.5739514348785872"
      ]
     },
     "execution_count": 82,
     "metadata": {},
     "output_type": "execute_result"
    }
   ],
   "source": [
    "test_f1=f1_score(y_test,y_hat)#f1_score\n",
    "test_f1"
   ]
  },
  {
   "cell_type": "code",
   "execution_count": 83,
   "metadata": {},
   "outputs": [
    {
     "name": "stdout",
     "output_type": "stream",
     "text": [
      "              precision    recall  f1-score   support\n",
      "\n",
      "           0       0.71      0.80      0.75      1081\n",
      "           1       0.64      0.52      0.57       751\n",
      "\n",
      "    accuracy                           0.68      1832\n",
      "   macro avg       0.67      0.66      0.66      1832\n",
      "weighted avg       0.68      0.68      0.68      1832\n",
      "\n"
     ]
    }
   ],
   "source": [
    "print(classification_report(y_test,y_hat))#it will give precision,recall,f1 scores and accuracy "
   ]
  },
  {
   "cell_type": "code",
   "execution_count": 84,
   "metadata": {},
   "outputs": [
    {
     "data": {
      "text/plain": [
       "[Text(0.4517676158301158, 0.9545454545454546, 'X[0] <= 15.3\\nentropy = 0.961\\nsamples = 5496\\nvalue = [3385, 2111]'),\n",
       " Text(0.25743544884169883, 0.8636363636363636, 'X[12] <= 0.93\\nentropy = 0.842\\nsamples = 2712\\nvalue = [1978, 734]'),\n",
       " Text(0.14934242277992277, 0.7727272727272727, 'X[11] <= 0.447\\nentropy = 0.961\\nsamples = 1333\\nvalue = [821, 512]'),\n",
       " Text(0.07474662162162163, 0.6818181818181818, 'X[6] <= 0.224\\nentropy = 0.952\\nsamples = 1271\\nvalue = [798, 473]'),\n",
       " Text(0.02413127413127413, 0.5909090909090909, 'X[5] <= 6.322\\nentropy = 0.772\\nsamples = 106\\nvalue = [24, 82]'),\n",
       " Text(0.015444015444015444, 0.5, 'X[0] <= 12.403\\nentropy = 0.934\\nsamples = 60\\nvalue = [21, 39]'),\n",
       " Text(0.013513513513513514, 0.4090909090909091, 'X[0] <= 2.684\\nentropy = 0.886\\nsamples = 56\\nvalue = [17, 39]'),\n",
       " Text(0.007722007722007722, 0.3181818181818182, 'X[7] <= 0.065\\nentropy = 0.996\\nsamples = 26\\nvalue = [14, 12]'),\n",
       " Text(0.003861003861003861, 0.22727272727272727, 'X[3] <= 20.311\\nentropy = 0.722\\nsamples = 5\\nvalue = [4, 1]'),\n",
       " Text(0.0019305019305019305, 0.13636363636363635, 'entropy = 0.0\\nsamples = 1\\nvalue = [0, 1]'),\n",
       " Text(0.005791505791505791, 0.13636363636363635, 'entropy = 0.0\\nsamples = 4\\nvalue = [4, 0]'),\n",
       " Text(0.011583011583011582, 0.22727272727272727, 'X[7] <= 0.318\\nentropy = 0.998\\nsamples = 21\\nvalue = [10, 11]'),\n",
       " Text(0.009652509652509652, 0.13636363636363635, 'X[2] <= 18.585\\nentropy = 0.964\\nsamples = 18\\nvalue = [7, 11]'),\n",
       " Text(0.007722007722007722, 0.045454545454545456, 'entropy = 0.989\\nsamples = 16\\nvalue = [7, 9]'),\n",
       " Text(0.011583011583011582, 0.045454545454545456, 'entropy = 0.0\\nsamples = 2\\nvalue = [0, 2]'),\n",
       " Text(0.013513513513513514, 0.13636363636363635, 'entropy = 0.0\\nsamples = 3\\nvalue = [3, 0]'),\n",
       " Text(0.019305019305019305, 0.3181818181818182, 'X[4] <= 13.143\\nentropy = 0.469\\nsamples = 30\\nvalue = [3, 27]'),\n",
       " Text(0.017374517374517374, 0.22727272727272727, 'entropy = 0.0\\nsamples = 14\\nvalue = [0, 14]'),\n",
       " Text(0.021235521235521235, 0.22727272727272727, 'X[7] <= 0.145\\nentropy = 0.696\\nsamples = 16\\nvalue = [3, 13]'),\n",
       " Text(0.017374517374517374, 0.13636363636363635, 'X[4] <= 20.651\\nentropy = 0.918\\nsamples = 3\\nvalue = [2, 1]'),\n",
       " Text(0.015444015444015444, 0.045454545454545456, 'entropy = 0.0\\nsamples = 2\\nvalue = [2, 0]'),\n",
       " Text(0.019305019305019305, 0.045454545454545456, 'entropy = 0.0\\nsamples = 1\\nvalue = [0, 1]'),\n",
       " Text(0.025096525096525095, 0.13636363636363635, 'X[3] <= 20.28\\nentropy = 0.391\\nsamples = 13\\nvalue = [1, 12]'),\n",
       " Text(0.023166023166023165, 0.045454545454545456, 'entropy = 0.0\\nsamples = 7\\nvalue = [0, 7]'),\n",
       " Text(0.02702702702702703, 0.045454545454545456, 'entropy = 0.65\\nsamples = 6\\nvalue = [1, 5]'),\n",
       " Text(0.017374517374517374, 0.4090909090909091, 'entropy = 0.0\\nsamples = 4\\nvalue = [4, 0]'),\n",
       " Text(0.032818532818532815, 0.5, 'X[1] <= 3.116\\nentropy = 0.348\\nsamples = 46\\nvalue = [3, 43]'),\n",
       " Text(0.03088803088803089, 0.4090909090909091, 'entropy = 0.0\\nsamples = 13\\nvalue = [0, 13]'),\n",
       " Text(0.03474903474903475, 0.4090909090909091, 'X[5] <= 8.993\\nentropy = 0.439\\nsamples = 33\\nvalue = [3, 30]'),\n",
       " Text(0.032818532818532815, 0.3181818181818182, 'X[6] <= 0.022\\nentropy = 0.544\\nsamples = 24\\nvalue = [3, 21]'),\n",
       " Text(0.03088803088803089, 0.22727272727272727, 'entropy = 0.0\\nsamples = 5\\nvalue = [0, 5]'),\n",
       " Text(0.03474903474903475, 0.22727272727272727, 'X[4] <= 16.196\\nentropy = 0.629\\nsamples = 19\\nvalue = [3, 16]'),\n",
       " Text(0.032818532818532815, 0.13636363636363635, 'X[3] <= 51.227\\nentropy = 0.779\\nsamples = 13\\nvalue = [3, 10]'),\n",
       " Text(0.03088803088803089, 0.045454545454545456, 'entropy = 0.684\\nsamples = 11\\nvalue = [2, 9]'),\n",
       " Text(0.03474903474903475, 0.045454545454545456, 'entropy = 1.0\\nsamples = 2\\nvalue = [1, 1]'),\n",
       " Text(0.03667953667953668, 0.13636363636363635, 'entropy = 0.0\\nsamples = 6\\nvalue = [0, 6]'),\n",
       " Text(0.03667953667953668, 0.3181818181818182, 'entropy = 0.0\\nsamples = 9\\nvalue = [0, 9]'),\n",
       " Text(0.12536196911196912, 0.5909090909090909, 'X[6] <= 0.268\\nentropy = 0.921\\nsamples = 1165\\nvalue = [774, 391]'),\n",
       " Text(0.08277027027027027, 0.5, 'X[7] <= 0.24\\nentropy = 0.783\\nsamples = 356\\nvalue = [273, 83]'),\n",
       " Text(0.061293436293436296, 0.4090909090909091, 'X[0] <= 8.802\\nentropy = 0.911\\nsamples = 95\\nvalue = [64, 31]'),\n",
       " Text(0.04922779922779923, 0.3181818181818182, 'X[2] <= 8.81\\nentropy = 0.985\\nsamples = 35\\nvalue = [20, 15]'),\n",
       " Text(0.04247104247104247, 0.22727272727272727, 'X[2] <= 7.547\\nentropy = 0.863\\nsamples = 7\\nvalue = [2, 5]'),\n",
       " Text(0.04054054054054054, 0.13636363636363635, 'entropy = 0.0\\nsamples = 4\\nvalue = [0, 4]'),\n",
       " Text(0.0444015444015444, 0.13636363636363635, 'X[1] <= 3.516\\nentropy = 0.918\\nsamples = 3\\nvalue = [2, 1]'),\n",
       " Text(0.04247104247104247, 0.045454545454545456, 'entropy = 0.0\\nsamples = 1\\nvalue = [0, 1]'),\n",
       " Text(0.04633204633204633, 0.045454545454545456, 'entropy = 0.0\\nsamples = 2\\nvalue = [2, 0]'),\n",
       " Text(0.055984555984555984, 0.22727272727272727, 'X[1] <= 5.805\\nentropy = 0.94\\nsamples = 28\\nvalue = [18, 10]'),\n",
       " Text(0.052123552123552123, 0.13636363636363635, 'X[0] <= 4.237\\nentropy = 0.764\\nsamples = 18\\nvalue = [14, 4]'),\n",
       " Text(0.05019305019305019, 0.045454545454545456, 'entropy = 0.0\\nsamples = 6\\nvalue = [6, 0]'),\n",
       " Text(0.05405405405405406, 0.045454545454545456, 'entropy = 0.918\\nsamples = 12\\nvalue = [8, 4]'),\n",
       " Text(0.059845559845559844, 0.13636363636363635, 'X[5] <= 9.817\\nentropy = 0.971\\nsamples = 10\\nvalue = [4, 6]'),\n",
       " Text(0.05791505791505792, 0.045454545454545456, 'entropy = 1.0\\nsamples = 8\\nvalue = [4, 4]'),\n",
       " Text(0.06177606177606178, 0.045454545454545456, 'entropy = 0.0\\nsamples = 2\\nvalue = [0, 2]'),\n",
       " Text(0.07335907335907337, 0.3181818181818182, 'X[1] <= 8.777\\nentropy = 0.837\\nsamples = 60\\nvalue = [44, 16]'),\n",
       " Text(0.0694980694980695, 0.22727272727272727, 'X[0] <= 9.128\\nentropy = 0.764\\nsamples = 36\\nvalue = [28, 8]'),\n",
       " Text(0.06756756756756757, 0.13636363636363635, 'X[3] <= 28.038\\nentropy = 0.89\\nsamples = 26\\nvalue = [18, 8]'),\n",
       " Text(0.06563706563706563, 0.045454545454545456, 'entropy = 0.391\\nsamples = 13\\nvalue = [12, 1]'),\n",
       " Text(0.0694980694980695, 0.045454545454545456, 'entropy = 0.996\\nsamples = 13\\nvalue = [6, 7]'),\n",
       " Text(0.07142857142857142, 0.13636363636363635, 'entropy = 0.0\\nsamples = 10\\nvalue = [10, 0]'),\n",
       " Text(0.07722007722007722, 0.22727272727272727, 'X[2] <= 20.106\\nentropy = 0.918\\nsamples = 24\\nvalue = [16, 8]'),\n",
       " Text(0.07528957528957529, 0.13636363636363635, 'X[2] <= 15.021\\nentropy = 0.887\\nsamples = 23\\nvalue = [16, 7]'),\n",
       " Text(0.07335907335907337, 0.045454545454545456, 'entropy = 0.985\\nsamples = 14\\nvalue = [8, 6]'),\n",
       " Text(0.07722007722007722, 0.045454545454545456, 'entropy = 0.503\\nsamples = 9\\nvalue = [8, 1]'),\n",
       " Text(0.07915057915057915, 0.13636363636363635, 'entropy = 0.0\\nsamples = 1\\nvalue = [0, 1]'),\n",
       " Text(0.10424710424710425, 0.4090909090909091, 'X[7] <= 0.291\\nentropy = 0.72\\nsamples = 261\\nvalue = [209, 52]'),\n",
       " Text(0.0916988416988417, 0.3181818181818182, 'X[5] <= 7.347\\nentropy = 0.992\\nsamples = 65\\nvalue = [36, 29]'),\n",
       " Text(0.08494208494208494, 0.22727272727272727, 'X[3] <= 6.03\\nentropy = 0.9\\nsamples = 38\\nvalue = [26, 12]'),\n",
       " Text(0.08301158301158301, 0.13636363636363635, 'entropy = 0.0\\nsamples = 3\\nvalue = [3, 0]'),\n",
       " Text(0.08687258687258688, 0.13636363636363635, 'X[8] <= 0.957\\nentropy = 0.928\\nsamples = 35\\nvalue = [23, 12]'),\n",
       " Text(0.08494208494208494, 0.045454545454545456, 'entropy = 0.0\\nsamples = 2\\nvalue = [0, 2]'),\n",
       " Text(0.0888030888030888, 0.045454545454545456, 'entropy = 0.885\\nsamples = 33\\nvalue = [23, 10]'),\n",
       " Text(0.09845559845559845, 0.22727272727272727, 'X[0] <= 3.011\\nentropy = 0.951\\nsamples = 27\\nvalue = [10, 17]'),\n",
       " Text(0.0945945945945946, 0.13636363636363635, 'X[5] <= 10.113\\nentropy = 0.918\\nsamples = 3\\nvalue = [2, 1]'),\n",
       " Text(0.09266409266409266, 0.045454545454545456, 'entropy = 1.0\\nsamples = 2\\nvalue = [1, 1]'),\n",
       " Text(0.09652509652509653, 0.045454545454545456, 'entropy = 0.0\\nsamples = 1\\nvalue = [1, 0]'),\n",
       " Text(0.10231660231660232, 0.13636363636363635, 'X[1] <= 9.874\\nentropy = 0.918\\nsamples = 24\\nvalue = [8, 16]'),\n",
       " Text(0.10038610038610038, 0.045454545454545456, 'entropy = 0.764\\nsamples = 18\\nvalue = [4, 14]'),\n",
       " Text(0.10424710424710425, 0.045454545454545456, 'entropy = 0.918\\nsamples = 6\\nvalue = [4, 2]'),\n",
       " Text(0.1167953667953668, 0.3181818181818182, 'X[5] <= 5.09\\nentropy = 0.522\\nsamples = 196\\nvalue = [173, 23]'),\n",
       " Text(0.11196911196911197, 0.22727272727272727, 'X[3] <= 26.568\\nentropy = 0.326\\nsamples = 67\\nvalue = [63, 4]'),\n",
       " Text(0.11003861003861004, 0.13636363636363635, 'X[5] <= 4.34\\nentropy = 0.503\\nsamples = 36\\nvalue = [32, 4]'),\n",
       " Text(0.10810810810810811, 0.045454545454545456, 'entropy = 0.0\\nsamples = 1\\nvalue = [0, 1]'),\n",
       " Text(0.11196911196911197, 0.045454545454545456, 'entropy = 0.422\\nsamples = 35\\nvalue = [32, 3]'),\n",
       " Text(0.1138996138996139, 0.13636363636363635, 'entropy = 0.0\\nsamples = 31\\nvalue = [31, 0]'),\n",
       " Text(0.12162162162162163, 0.22727272727272727, 'X[0] <= 8.615\\nentropy = 0.603\\nsamples = 129\\nvalue = [110, 19]'),\n",
       " Text(0.11776061776061776, 0.13636363636363635, 'X[0] <= 2.339\\nentropy = 0.881\\nsamples = 30\\nvalue = [21, 9]'),\n",
       " Text(0.11583011583011583, 0.045454545454545456, 'entropy = 0.684\\nsamples = 11\\nvalue = [9, 2]'),\n",
       " Text(0.11969111969111969, 0.045454545454545456, 'entropy = 0.949\\nsamples = 19\\nvalue = [12, 7]'),\n",
       " Text(0.12548262548262548, 0.13636363636363635, 'X[0] <= 9.408\\nentropy = 0.472\\nsamples = 99\\nvalue = [89, 10]'),\n",
       " Text(0.12355212355212356, 0.045454545454545456, 'entropy = 0.874\\nsamples = 17\\nvalue = [12, 5]'),\n",
       " Text(0.1274131274131274, 0.045454545454545456, 'entropy = 0.331\\nsamples = 82\\nvalue = [77, 5]'),\n",
       " Text(0.16795366795366795, 0.5, 'X[6] <= 0.359\\nentropy = 0.959\\nsamples = 809\\nvalue = [501, 308]'),\n",
       " Text(0.14816602316602318, 0.4090909090909091, 'X[1] <= 7.223\\nentropy = 0.999\\nsamples = 275\\nvalue = [133, 142]'),\n",
       " Text(0.13803088803088803, 0.3181818181818182, 'X[1] <= 2.368\\nentropy = 0.997\\nsamples = 211\\nvalue = [112, 99]'),\n",
       " Text(0.13127413127413126, 0.22727272727272727, 'X[0] <= 2.472\\nentropy = 0.779\\nsamples = 13\\nvalue = [10, 3]'),\n",
       " Text(0.12934362934362933, 0.13636363636363635, 'entropy = 0.0\\nsamples = 4\\nvalue = [4, 0]'),\n",
       " Text(0.13320463320463322, 0.13636363636363635, 'X[2] <= 15.429\\nentropy = 0.918\\nsamples = 9\\nvalue = [6, 3]'),\n",
       " Text(0.13127413127413126, 0.045454545454545456, 'entropy = 0.0\\nsamples = 5\\nvalue = [5, 0]'),\n",
       " Text(0.13513513513513514, 0.045454545454545456, 'entropy = 0.811\\nsamples = 4\\nvalue = [1, 3]'),\n",
       " Text(0.14478764478764478, 0.22727272727272727, 'X[0] <= 9.784\\nentropy = 0.999\\nsamples = 198\\nvalue = [102, 96]'),\n",
       " Text(0.14092664092664092, 0.13636363636363635, 'X[5] <= 8.793\\nentropy = 1.0\\nsamples = 189\\nvalue = [94, 95]'),\n",
       " Text(0.138996138996139, 0.045454545454545456, 'entropy = 0.994\\nsamples = 132\\nvalue = [72, 60]'),\n",
       " Text(0.14285714285714285, 0.045454545454545456, 'entropy = 0.962\\nsamples = 57\\nvalue = [22, 35]'),\n",
       " Text(0.14864864864864866, 0.13636363636363635, 'X[1] <= 6.043\\nentropy = 0.503\\nsamples = 9\\nvalue = [8, 1]'),\n",
       " Text(0.14671814671814673, 0.045454545454545456, 'entropy = 0.0\\nsamples = 5\\nvalue = [5, 0]'),\n",
       " Text(0.15057915057915058, 0.045454545454545456, 'entropy = 0.811\\nsamples = 4\\nvalue = [3, 1]'),\n",
       " Text(0.1583011583011583, 0.3181818181818182, 'X[1] <= 8.707\\nentropy = 0.913\\nsamples = 64\\nvalue = [21, 43]'),\n",
       " Text(0.15637065637065636, 0.22727272727272727, 'entropy = 0.0\\nsamples = 3\\nvalue = [3, 0]'),\n",
       " Text(0.16023166023166024, 0.22727272727272727, 'X[1] <= 9.307\\nentropy = 0.875\\nsamples = 61\\nvalue = [18, 43]'),\n",
       " Text(0.15637065637065636, 0.13636363636363635, 'X[7] <= 0.228\\nentropy = 0.667\\nsamples = 46\\nvalue = [8, 38]'),\n",
       " Text(0.15444015444015444, 0.045454545454545456, 'entropy = 0.811\\nsamples = 20\\nvalue = [5, 15]'),\n",
       " Text(0.1583011583011583, 0.045454545454545456, 'entropy = 0.516\\nsamples = 26\\nvalue = [3, 23]'),\n",
       " Text(0.1640926640926641, 0.13636363636363635, 'X[4] <= 12.961\\nentropy = 0.918\\nsamples = 15\\nvalue = [10, 5]'),\n",
       " Text(0.16216216216216217, 0.045454545454545456, 'entropy = 0.544\\nsamples = 8\\nvalue = [7, 1]'),\n",
       " Text(0.16602316602316602, 0.045454545454545456, 'entropy = 0.985\\nsamples = 7\\nvalue = [3, 4]'),\n",
       " Text(0.18774131274131275, 0.4090909090909091, 'X[5] <= 7.04\\nentropy = 0.894\\nsamples = 534\\nvalue = [368, 166]'),\n",
       " Text(0.1776061776061776, 0.3181818181818182, 'X[0] <= 11.045\\nentropy = 0.814\\nsamples = 306\\nvalue = [229, 77]'),\n",
       " Text(0.17567567567567569, 0.22727272727272727, 'X[0] <= 6.799\\nentropy = 0.86\\nsamples = 272\\nvalue = [195, 77]'),\n",
       " Text(0.1718146718146718, 0.13636363636363635, 'X[2] <= 18.977\\nentropy = 0.745\\nsamples = 137\\nvalue = [108, 29]'),\n",
       " Text(0.16988416988416988, 0.045454545454545456, 'entropy = 0.719\\nsamples = 121\\nvalue = [97, 24]'),\n",
       " Text(0.17374517374517376, 0.045454545454545456, 'entropy = 0.896\\nsamples = 16\\nvalue = [11, 5]'),\n",
       " Text(0.17953667953667954, 0.13636363636363635, 'X[0] <= 9.81\\nentropy = 0.939\\nsamples = 135\\nvalue = [87, 48]'),\n",
       " Text(0.1776061776061776, 0.045454545454545456, 'entropy = 0.896\\nsamples = 112\\nvalue = [77, 35]'),\n",
       " Text(0.18146718146718147, 0.045454545454545456, 'entropy = 0.988\\nsamples = 23\\nvalue = [10, 13]'),\n",
       " Text(0.17953667953667954, 0.22727272727272727, 'entropy = 0.0\\nsamples = 34\\nvalue = [34, 0]'),\n",
       " Text(0.19787644787644787, 0.3181818181818182, 'X[0] <= 12.965\\nentropy = 0.965\\nsamples = 228\\nvalue = [139, 89]'),\n",
       " Text(0.19111969111969113, 0.22727272727272727, 'X[3] <= 41.507\\nentropy = 0.986\\nsamples = 205\\nvalue = [117, 88]'),\n",
       " Text(0.18725868725868725, 0.13636363636363635, 'X[0] <= 5.188\\nentropy = 0.973\\nsamples = 146\\nvalue = [87, 59]'),\n",
       " Text(0.18532818532818532, 0.045454545454545456, 'entropy = 0.902\\nsamples = 66\\nvalue = [45, 21]'),\n",
       " Text(0.1891891891891892, 0.045454545454545456, 'entropy = 0.998\\nsamples = 80\\nvalue = [42, 38]'),\n",
       " Text(0.19498069498069498, 0.13636363636363635, 'X[9] <= 0.963\\nentropy = 1.0\\nsamples = 59\\nvalue = [30, 29]'),\n",
       " Text(0.19305019305019305, 0.045454545454545456, 'entropy = 1.0\\nsamples = 58\\nvalue = [29, 29]'),\n",
       " Text(0.1969111969111969, 0.045454545454545456, 'entropy = 0.0\\nsamples = 1\\nvalue = [1, 0]'),\n",
       " Text(0.20463320463320464, 0.22727272727272727, 'X[1] <= 6.36\\nentropy = 0.258\\nsamples = 23\\nvalue = [22, 1]'),\n",
       " Text(0.20270270270270271, 0.13636363636363635, 'X[4] <= 7.888\\nentropy = 0.337\\nsamples = 16\\nvalue = [15, 1]'),\n",
       " Text(0.20077220077220076, 0.045454545454545456, 'entropy = 0.65\\nsamples = 6\\nvalue = [5, 1]'),\n",
       " Text(0.20463320463320464, 0.045454545454545456, 'entropy = 0.0\\nsamples = 10\\nvalue = [10, 0]'),\n",
       " Text(0.20656370656370657, 0.13636363636363635, 'entropy = 0.0\\nsamples = 7\\nvalue = [7, 0]'),\n",
       " Text(0.22393822393822393, 0.6818181818181818, 'X[6] <= 0.28\\nentropy = 0.951\\nsamples = 62\\nvalue = [23, 39]'),\n",
       " Text(0.21621621621621623, 0.5909090909090909, 'X[4] <= 18.925\\nentropy = 0.414\\nsamples = 24\\nvalue = [2, 22]'),\n",
       " Text(0.21428571428571427, 0.5, 'X[2] <= 12.517\\nentropy = 0.567\\nsamples = 15\\nvalue = [2, 13]'),\n",
       " Text(0.21235521235521235, 0.4090909090909091, 'X[5] <= 5.364\\nentropy = 0.811\\nsamples = 8\\nvalue = [2, 6]'),\n",
       " Text(0.21042471042471042, 0.3181818181818182, 'entropy = 0.0\\nsamples = 2\\nvalue = [0, 2]'),\n",
       " Text(0.21428571428571427, 0.3181818181818182, 'X[4] <= 11.728\\nentropy = 0.918\\nsamples = 6\\nvalue = [2, 4]'),\n",
       " Text(0.21235521235521235, 0.22727272727272727, 'X[2] <= 10.772\\nentropy = 0.971\\nsamples = 5\\nvalue = [2, 3]'),\n",
       " Text(0.21042471042471042, 0.13636363636363635, 'entropy = 0.0\\nsamples = 2\\nvalue = [0, 2]'),\n",
       " Text(0.21428571428571427, 0.13636363636363635, 'X[1] <= 6.964\\nentropy = 0.918\\nsamples = 3\\nvalue = [2, 1]'),\n",
       " Text(0.21235521235521235, 0.045454545454545456, 'entropy = 0.0\\nsamples = 2\\nvalue = [2, 0]'),\n",
       " Text(0.21621621621621623, 0.045454545454545456, 'entropy = 0.0\\nsamples = 1\\nvalue = [0, 1]'),\n",
       " Text(0.21621621621621623, 0.22727272727272727, 'entropy = 0.0\\nsamples = 1\\nvalue = [0, 1]'),\n",
       " Text(0.21621621621621623, 0.4090909090909091, 'entropy = 0.0\\nsamples = 7\\nvalue = [0, 7]'),\n",
       " Text(0.21814671814671815, 0.5, 'entropy = 0.0\\nsamples = 9\\nvalue = [0, 9]'),\n",
       " Text(0.23166023166023167, 0.5909090909090909, 'X[0] <= 13.269\\nentropy = 0.992\\nsamples = 38\\nvalue = [21, 17]'),\n",
       " Text(0.22972972972972974, 0.5, 'X[3] <= 54.905\\nentropy = 0.999\\nsamples = 33\\nvalue = [16, 17]'),\n",
       " Text(0.2277992277992278, 0.4090909090909091, 'X[6] <= 0.352\\nentropy = 0.987\\nsamples = 30\\nvalue = [13, 17]'),\n",
       " Text(0.222007722007722, 0.3181818181818182, 'X[0] <= 3.35\\nentropy = 0.9\\nsamples = 19\\nvalue = [6, 13]'),\n",
       " Text(0.22007722007722008, 0.22727272727272727, 'entropy = 0.0\\nsamples = 1\\nvalue = [1, 0]'),\n",
       " Text(0.22393822393822393, 0.22727272727272727, 'X[7] <= 0.351\\nentropy = 0.852\\nsamples = 18\\nvalue = [5, 13]'),\n",
       " Text(0.222007722007722, 0.13636363636363635, 'X[5] <= 4.916\\nentropy = 0.787\\nsamples = 17\\nvalue = [4, 13]'),\n",
       " Text(0.22007722007722008, 0.045454545454545456, 'entropy = 1.0\\nsamples = 2\\nvalue = [1, 1]'),\n",
       " Text(0.22393822393822393, 0.045454545454545456, 'entropy = 0.722\\nsamples = 15\\nvalue = [3, 12]'),\n",
       " Text(0.22586872586872586, 0.13636363636363635, 'entropy = 0.0\\nsamples = 1\\nvalue = [1, 0]'),\n",
       " Text(0.2335907335907336, 0.3181818181818182, 'X[2] <= 15.613\\nentropy = 0.946\\nsamples = 11\\nvalue = [7, 4]'),\n",
       " Text(0.23166023166023167, 0.22727272727272727, 'X[2] <= 14.798\\nentropy = 1.0\\nsamples = 8\\nvalue = [4, 4]'),\n",
       " Text(0.22972972972972974, 0.13636363636363635, 'X[3] <= 4.013\\nentropy = 0.918\\nsamples = 6\\nvalue = [4, 2]'),\n",
       " Text(0.2277992277992278, 0.045454545454545456, 'entropy = 0.0\\nsamples = 1\\nvalue = [1, 0]'),\n",
       " Text(0.23166023166023167, 0.045454545454545456, 'entropy = 0.971\\nsamples = 5\\nvalue = [3, 2]'),\n",
       " Text(0.2335907335907336, 0.13636363636363635, 'entropy = 0.0\\nsamples = 2\\nvalue = [0, 2]'),\n",
       " Text(0.23552123552123552, 0.22727272727272727, 'entropy = 0.0\\nsamples = 3\\nvalue = [3, 0]'),\n",
       " Text(0.23166023166023167, 0.4090909090909091, 'entropy = 0.0\\nsamples = 3\\nvalue = [3, 0]'),\n",
       " Text(0.2335907335907336, 0.5, 'entropy = 0.0\\nsamples = 5\\nvalue = [5, 0]'),\n",
       " Text(0.3655284749034749, 0.7727272727272727, 'X[0] <= 10.42\\nentropy = 0.637\\nsamples = 1379\\nvalue = [1157, 222]'),\n",
       " Text(0.30411438223938225, 0.6818181818181818, 'X[0] <= 6.074\\nentropy = 0.93\\nsamples = 480\\nvalue = [314, 166]'),\n",
       " Text(0.26821911196911197, 0.5909090909090909, 'X[7] <= 0.35\\nentropy = 0.813\\nsamples = 247\\nvalue = [185, 62]'),\n",
       " Text(0.25555019305019305, 0.5, 'X[4] <= 27.663\\nentropy = 0.909\\nsamples = 154\\nvalue = [104, 50]'),\n",
       " Text(0.24662162162162163, 0.4090909090909091, 'X[7] <= 0.103\\nentropy = 0.939\\nsamples = 138\\nvalue = [89, 49]'),\n",
       " Text(0.2413127413127413, 0.3181818181818182, 'X[3] <= 49.552\\nentropy = 0.825\\nsamples = 58\\nvalue = [43, 15]'),\n",
       " Text(0.23938223938223938, 0.22727272727272727, 'X[5] <= 8.751\\nentropy = 0.889\\nsamples = 49\\nvalue = [34, 15]'),\n",
       " Text(0.23745173745173745, 0.13636363636363635, 'X[4] <= 23.334\\nentropy = 0.933\\nsamples = 43\\nvalue = [28, 15]'),\n",
       " Text(0.23552123552123552, 0.045454545454545456, 'entropy = 0.974\\nsamples = 37\\nvalue = [22, 15]'),\n",
       " Text(0.23938223938223938, 0.045454545454545456, 'entropy = 0.0\\nsamples = 6\\nvalue = [6, 0]'),\n",
       " Text(0.2413127413127413, 0.13636363636363635, 'entropy = 0.0\\nsamples = 6\\nvalue = [6, 0]'),\n",
       " Text(0.24324324324324326, 0.22727272727272727, 'entropy = 0.0\\nsamples = 9\\nvalue = [9, 0]'),\n",
       " Text(0.2519305019305019, 0.3181818181818182, 'X[7] <= 0.241\\nentropy = 0.984\\nsamples = 80\\nvalue = [46, 34]'),\n",
       " Text(0.2471042471042471, 0.22727272727272727, 'X[5] <= 10.163\\nentropy = 0.667\\nsamples = 23\\nvalue = [19, 4]'),\n",
       " Text(0.24517374517374518, 0.13636363636363635, 'X[3] <= 34.213\\nentropy = 0.454\\nsamples = 21\\nvalue = [19, 2]'),\n",
       " Text(0.24324324324324326, 0.045454545454545456, 'entropy = 0.0\\nsamples = 14\\nvalue = [14, 0]'),\n",
       " Text(0.2471042471042471, 0.045454545454545456, 'entropy = 0.863\\nsamples = 7\\nvalue = [5, 2]'),\n",
       " Text(0.24903474903474904, 0.13636363636363635, 'entropy = 0.0\\nsamples = 2\\nvalue = [0, 2]'),\n",
       " Text(0.25675675675675674, 0.22727272727272727, 'X[5] <= 7.528\\nentropy = 0.998\\nsamples = 57\\nvalue = [27, 30]'),\n",
       " Text(0.2528957528957529, 0.13636363636363635, 'X[5] <= 6.172\\nentropy = 0.963\\nsamples = 31\\nvalue = [12, 19]'),\n",
       " Text(0.25096525096525096, 0.045454545454545456, 'entropy = 0.722\\nsamples = 20\\nvalue = [4, 16]'),\n",
       " Text(0.2548262548262548, 0.045454545454545456, 'entropy = 0.845\\nsamples = 11\\nvalue = [8, 3]'),\n",
       " Text(0.2606177606177606, 0.13636363636363635, 'X[5] <= 8.925\\nentropy = 0.983\\nsamples = 26\\nvalue = [15, 11]'),\n",
       " Text(0.25868725868725867, 0.045454545454545456, 'entropy = 0.998\\nsamples = 19\\nvalue = [9, 10]'),\n",
       " Text(0.2625482625482625, 0.045454545454545456, 'entropy = 0.592\\nsamples = 7\\nvalue = [6, 1]'),\n",
       " Text(0.2644787644787645, 0.4090909090909091, 'X[1] <= 7.895\\nentropy = 0.337\\nsamples = 16\\nvalue = [15, 1]'),\n",
       " Text(0.2625482625482625, 0.3181818181818182, 'X[1] <= 4.096\\nentropy = 0.592\\nsamples = 7\\nvalue = [6, 1]'),\n",
       " Text(0.2606177606177606, 0.22727272727272727, 'entropy = 0.0\\nsamples = 6\\nvalue = [6, 0]'),\n",
       " Text(0.2644787644787645, 0.22727272727272727, 'entropy = 0.0\\nsamples = 1\\nvalue = [0, 1]'),\n",
       " Text(0.26640926640926643, 0.3181818181818182, 'entropy = 0.0\\nsamples = 9\\nvalue = [9, 0]'),\n",
       " Text(0.2808880308880309, 0.5, 'X[1] <= 4.742\\nentropy = 0.555\\nsamples = 93\\nvalue = [81, 12]'),\n",
       " Text(0.27413127413127414, 0.4090909090909091, 'X[3] <= 46.225\\nentropy = 0.353\\nsamples = 45\\nvalue = [42, 3]'),\n",
       " Text(0.2702702702702703, 0.3181818181818182, 'X[3] <= 10.761\\nentropy = 0.286\\nsamples = 40\\nvalue = [38, 2]'),\n",
       " Text(0.26833976833976836, 0.22727272727272727, 'entropy = 0.0\\nsamples = 13\\nvalue = [13, 0]'),\n",
       " Text(0.2722007722007722, 0.22727272727272727, 'X[3] <= 33.581\\nentropy = 0.381\\nsamples = 27\\nvalue = [25, 2]'),\n",
       " Text(0.2702702702702703, 0.13636363636363635, 'X[3] <= 30.857\\nentropy = 0.485\\nsamples = 19\\nvalue = [17, 2]'),\n",
       " Text(0.26833976833976836, 0.045454545454545456, 'entropy = 0.337\\nsamples = 16\\nvalue = [15, 1]'),\n",
       " Text(0.2722007722007722, 0.045454545454545456, 'entropy = 0.918\\nsamples = 3\\nvalue = [2, 1]'),\n",
       " Text(0.27413127413127414, 0.13636363636363635, 'entropy = 0.0\\nsamples = 8\\nvalue = [8, 0]'),\n",
       " Text(0.277992277992278, 0.3181818181818182, 'X[2] <= 14.591\\nentropy = 0.722\\nsamples = 5\\nvalue = [4, 1]'),\n",
       " Text(0.27606177606177607, 0.22727272727272727, 'entropy = 0.0\\nsamples = 3\\nvalue = [3, 0]'),\n",
       " Text(0.2799227799227799, 0.22727272727272727, 'entropy = 1.0\\nsamples = 2\\nvalue = [1, 1]'),\n",
       " Text(0.2876447876447876, 0.4090909090909091, 'X[2] <= 19.429\\nentropy = 0.696\\nsamples = 48\\nvalue = [39, 9]'),\n",
       " Text(0.2857142857142857, 0.3181818181818182, 'X[4] <= 29.226\\nentropy = 0.769\\nsamples = 40\\nvalue = [31, 9]'),\n",
       " Text(0.28378378378378377, 0.22727272727272727, 'X[3] <= 51.176\\nentropy = 0.79\\nsamples = 38\\nvalue = [29, 9]'),\n",
       " Text(0.28185328185328185, 0.13636363636363635, 'X[5] <= 10.111\\nentropy = 0.811\\nsamples = 36\\nvalue = [27, 9]'),\n",
       " Text(0.2799227799227799, 0.045454545454545456, 'entropy = 0.776\\nsamples = 35\\nvalue = [27, 8]'),\n",
       " Text(0.28378378378378377, 0.045454545454545456, 'entropy = 0.0\\nsamples = 1\\nvalue = [0, 1]'),\n",
       " Text(0.2857142857142857, 0.13636363636363635, 'entropy = 0.0\\nsamples = 2\\nvalue = [2, 0]'),\n",
       " Text(0.2876447876447876, 0.22727272727272727, 'entropy = 0.0\\nsamples = 2\\nvalue = [2, 0]'),\n",
       " Text(0.28957528957528955, 0.3181818181818182, 'entropy = 0.0\\nsamples = 8\\nvalue = [8, 0]'),\n",
       " Text(0.3400096525096525, 0.5909090909090909, 'X[6] <= 0.218\\nentropy = 0.992\\nsamples = 233\\nvalue = [129, 104]'),\n",
       " Text(0.33807915057915056, 0.5, 'entropy = 0.0\\nsamples = 5\\nvalue = [0, 5]'),\n",
       " Text(0.34194015444015446, 0.5, 'X[7] <= 0.142\\nentropy = 0.987\\nsamples = 228\\nvalue = [129, 99]'),\n",
       " Text(0.3166023166023166, 0.4090909090909091, 'X[7] <= 0.11\\nentropy = 0.921\\nsamples = 113\\nvalue = [75, 38]'),\n",
       " Text(0.30115830115830117, 0.3181818181818182, 'X[5] <= 7.907\\nentropy = 0.84\\nsamples = 78\\nvalue = [57, 21]'),\n",
       " Text(0.29343629343629346, 0.22727272727272727, 'X[1] <= 7.905\\nentropy = 0.675\\nsamples = 45\\nvalue = [37, 8]'),\n",
       " Text(0.28957528957528955, 0.13636363636363635, 'X[2] <= 18.039\\nentropy = 0.811\\nsamples = 28\\nvalue = [21, 7]'),\n",
       " Text(0.2876447876447876, 0.045454545454545456, 'entropy = 0.706\\nsamples = 26\\nvalue = [21, 5]'),\n",
       " Text(0.2915057915057915, 0.045454545454545456, 'entropy = 0.0\\nsamples = 2\\nvalue = [0, 2]'),\n",
       " Text(0.2972972972972973, 0.13636363636363635, 'X[7] <= 0.069\\nentropy = 0.323\\nsamples = 17\\nvalue = [16, 1]'),\n",
       " Text(0.2953667953667954, 0.045454545454545456, 'entropy = 0.0\\nsamples = 13\\nvalue = [13, 0]'),\n",
       " Text(0.29922779922779924, 0.045454545454545456, 'entropy = 0.811\\nsamples = 4\\nvalue = [3, 1]'),\n",
       " Text(0.3088803088803089, 0.22727272727272727, 'X[0] <= 9.013\\nentropy = 0.967\\nsamples = 33\\nvalue = [20, 13]'),\n",
       " Text(0.305019305019305, 0.13636363636363635, 'X[4] <= 14.757\\nentropy = 0.906\\nsamples = 28\\nvalue = [19, 9]'),\n",
       " Text(0.3030888030888031, 0.045454545454545456, 'entropy = 0.65\\nsamples = 18\\nvalue = [15, 3]'),\n",
       " Text(0.30694980694980695, 0.045454545454545456, 'entropy = 0.971\\nsamples = 10\\nvalue = [4, 6]'),\n",
       " Text(0.3127413127413127, 0.13636363636363635, 'X[5] <= 8.68\\nentropy = 0.722\\nsamples = 5\\nvalue = [1, 4]'),\n",
       " Text(0.3108108108108108, 0.045454545454545456, 'entropy = 0.918\\nsamples = 3\\nvalue = [1, 2]'),\n",
       " Text(0.31467181467181465, 0.045454545454545456, 'entropy = 0.0\\nsamples = 2\\nvalue = [0, 2]'),\n",
       " Text(0.33204633204633205, 0.3181818181818182, 'X[1] <= 7.798\\nentropy = 0.999\\nsamples = 35\\nvalue = [18, 17]'),\n",
       " Text(0.32432432432432434, 0.22727272727272727, 'X[6] <= 0.286\\nentropy = 0.949\\nsamples = 19\\nvalue = [12, 7]'),\n",
       " Text(0.3204633204633205, 0.13636363636363635, 'X[2] <= 10.033\\nentropy = 0.918\\nsamples = 3\\nvalue = [1, 2]'),\n",
       " Text(0.3185328185328185, 0.045454545454545456, 'entropy = 0.0\\nsamples = 2\\nvalue = [0, 2]'),\n",
       " Text(0.3223938223938224, 0.045454545454545456, 'entropy = 0.0\\nsamples = 1\\nvalue = [1, 0]'),\n",
       " Text(0.3281853281853282, 0.13636363636363635, 'X[1] <= 5.057\\nentropy = 0.896\\nsamples = 16\\nvalue = [11, 5]'),\n",
       " Text(0.32625482625482627, 0.045454545454545456, 'entropy = 0.779\\nsamples = 13\\nvalue = [10, 3]'),\n",
       " Text(0.3301158301158301, 0.045454545454545456, 'entropy = 0.918\\nsamples = 3\\nvalue = [1, 2]'),\n",
       " Text(0.33976833976833976, 0.22727272727272727, 'X[5] <= 7.291\\nentropy = 0.954\\nsamples = 16\\nvalue = [6, 10]'),\n",
       " Text(0.3359073359073359, 0.13636363636363635, 'X[5] <= 6.86\\nentropy = 0.764\\nsamples = 9\\nvalue = [2, 7]'),\n",
       " Text(0.333976833976834, 0.045454545454545456, 'entropy = 0.544\\nsamples = 8\\nvalue = [1, 7]'),\n",
       " Text(0.33783783783783783, 0.045454545454545456, 'entropy = 0.0\\nsamples = 1\\nvalue = [1, 0]'),\n",
       " Text(0.3436293436293436, 0.13636363636363635, 'X[2] <= 11.813\\nentropy = 0.985\\nsamples = 7\\nvalue = [4, 3]'),\n",
       " Text(0.3416988416988417, 0.045454545454545456, 'entropy = 0.0\\nsamples = 2\\nvalue = [0, 2]'),\n",
       " Text(0.34555984555984554, 0.045454545454545456, 'entropy = 0.722\\nsamples = 5\\nvalue = [4, 1]'),\n",
       " Text(0.3672779922779923, 0.4090909090909091, 'X[7] <= 0.311\\nentropy = 0.997\\nsamples = 115\\nvalue = [54, 61]'),\n",
       " Text(0.35714285714285715, 0.3181818181818182, 'X[4] <= 16.364\\nentropy = 0.886\\nsamples = 56\\nvalue = [17, 39]'),\n",
       " Text(0.3532818532818533, 0.22727272727272727, 'X[5] <= 10.437\\nentropy = 0.753\\nsamples = 37\\nvalue = [8, 29]'),\n",
       " Text(0.35135135135135137, 0.13636363636363635, 'X[4] <= 14.274\\nentropy = 0.799\\nsamples = 33\\nvalue = [8, 25]'),\n",
       " Text(0.34942084942084944, 0.045454545454545456, 'entropy = 0.722\\nsamples = 30\\nvalue = [6, 24]'),\n",
       " Text(0.3532818532818533, 0.045454545454545456, 'entropy = 0.918\\nsamples = 3\\nvalue = [2, 1]'),\n",
       " Text(0.3552123552123552, 0.13636363636363635, 'entropy = 0.0\\nsamples = 4\\nvalue = [0, 4]'),\n",
       " Text(0.361003861003861, 0.22727272727272727, 'X[2] <= 19.167\\nentropy = 0.998\\nsamples = 19\\nvalue = [9, 10]'),\n",
       " Text(0.3590733590733591, 0.13636363636363635, 'X[6] <= 0.308\\nentropy = 0.991\\nsamples = 18\\nvalue = [8, 10]'),\n",
       " Text(0.35714285714285715, 0.045454545454545456, 'entropy = 0.0\\nsamples = 3\\nvalue = [0, 3]'),\n",
       " Text(0.361003861003861, 0.045454545454545456, 'entropy = 0.997\\nsamples = 15\\nvalue = [8, 7]'),\n",
       " Text(0.36293436293436293, 0.13636363636363635, 'entropy = 0.0\\nsamples = 1\\nvalue = [1, 0]'),\n",
       " Text(0.37741312741312744, 0.3181818181818182, 'X[3] <= 45.148\\nentropy = 0.953\\nsamples = 59\\nvalue = [37, 22]'),\n",
       " Text(0.37065637065637064, 0.22727272727272727, 'X[5] <= 8.533\\nentropy = 0.894\\nsamples = 45\\nvalue = [31, 14]'),\n",
       " Text(0.3667953667953668, 0.13636363636363635, 'X[1] <= 6.49\\nentropy = 0.779\\nsamples = 39\\nvalue = [30, 9]'),\n",
       " Text(0.36486486486486486, 0.045454545454545456, 'entropy = 0.544\\nsamples = 24\\nvalue = [21, 3]'),\n",
       " Text(0.3687258687258687, 0.045454545454545456, 'entropy = 0.971\\nsamples = 15\\nvalue = [9, 6]'),\n",
       " Text(0.3745173745173745, 0.13636363636363635, 'X[6] <= 0.263\\nentropy = 0.65\\nsamples = 6\\nvalue = [1, 5]'),\n",
       " Text(0.37258687258687256, 0.045454545454545456, 'entropy = 1.0\\nsamples = 2\\nvalue = [1, 1]'),\n",
       " Text(0.3764478764478765, 0.045454545454545456, 'entropy = 0.0\\nsamples = 4\\nvalue = [0, 4]'),\n",
       " Text(0.3841698841698842, 0.22727272727272727, 'X[3] <= 53.051\\nentropy = 0.985\\nsamples = 14\\nvalue = [6, 8]'),\n",
       " Text(0.38223938223938225, 0.13636363636363635, 'X[0] <= 9.075\\nentropy = 0.918\\nsamples = 9\\nvalue = [6, 3]'),\n",
       " Text(0.3803088803088803, 0.045454545454545456, 'entropy = 0.65\\nsamples = 6\\nvalue = [5, 1]'),\n",
       " Text(0.3841698841698842, 0.045454545454545456, 'entropy = 0.918\\nsamples = 3\\nvalue = [1, 2]'),\n",
       " Text(0.3861003861003861, 0.13636363636363635, 'entropy = 0.0\\nsamples = 5\\nvalue = [0, 5]'),\n",
       " Text(0.42694256756756754, 0.6818181818181818, 'X[5] <= 7.662\\nentropy = 0.336\\nsamples = 899\\nvalue = [843, 56]'),\n",
       " Text(0.40202702702702703, 0.5909090909090909, 'X[1] <= 5.993\\nentropy = 0.158\\nsamples = 434\\nvalue = [424, 10]'),\n",
       " Text(0.4000965250965251, 0.5, 'entropy = 0.0\\nsamples = 243\\nvalue = [243, 0]'),\n",
       " Text(0.40395752895752896, 0.5, 'X[4] <= 6.793\\nentropy = 0.296\\nsamples = 191\\nvalue = [181, 10]'),\n",
       " Text(0.40202702702702703, 0.4090909090909091, 'entropy = 0.0\\nsamples = 26\\nvalue = [26, 0]'),\n",
       " Text(0.4058880308880309, 0.4090909090909091, 'X[3] <= 44.113\\nentropy = 0.33\\nsamples = 165\\nvalue = [155, 10]'),\n",
       " Text(0.3967181467181467, 0.3181818181818182, 'X[2] <= 14.637\\nentropy = 0.285\\nsamples = 121\\nvalue = [115, 6]'),\n",
       " Text(0.3918918918918919, 0.22727272727272727, 'X[2] <= 11.182\\nentropy = 0.206\\nsamples = 93\\nvalue = [90, 3]'),\n",
       " Text(0.38996138996138996, 0.13636363636363635, 'X[3] <= 11.586\\nentropy = 0.25\\nsamples = 72\\nvalue = [69, 3]'),\n",
       " Text(0.38803088803088803, 0.045454545454545456, 'entropy = 0.0\\nsamples = 16\\nvalue = [16, 0]'),\n",
       " Text(0.3918918918918919, 0.045454545454545456, 'entropy = 0.301\\nsamples = 56\\nvalue = [53, 3]'),\n",
       " Text(0.3938223938223938, 0.13636363636363635, 'entropy = 0.0\\nsamples = 21\\nvalue = [21, 0]'),\n",
       " Text(0.4015444015444015, 0.22727272727272727, 'X[3] <= 2.678\\nentropy = 0.491\\nsamples = 28\\nvalue = [25, 3]'),\n",
       " Text(0.39768339768339767, 0.13636363636363635, 'X[2] <= 18.557\\nentropy = 0.971\\nsamples = 5\\nvalue = [3, 2]'),\n",
       " Text(0.39575289575289574, 0.045454545454545456, 'entropy = 0.0\\nsamples = 3\\nvalue = [3, 0]'),\n",
       " Text(0.3996138996138996, 0.045454545454545456, 'entropy = 0.0\\nsamples = 2\\nvalue = [0, 2]'),\n",
       " Text(0.40540540540540543, 0.13636363636363635, 'X[4] <= 16.597\\nentropy = 0.258\\nsamples = 23\\nvalue = [22, 1]'),\n",
       " Text(0.4034749034749035, 0.045454545454545456, 'entropy = 0.0\\nsamples = 10\\nvalue = [10, 0]'),\n",
       " Text(0.40733590733590735, 0.045454545454545456, 'entropy = 0.391\\nsamples = 13\\nvalue = [12, 1]'),\n",
       " Text(0.41505791505791506, 0.3181818181818182, 'X[6] <= 0.3\\nentropy = 0.439\\nsamples = 44\\nvalue = [40, 4]'),\n",
       " Text(0.41312741312741313, 0.22727272727272727, 'entropy = 0.0\\nsamples = 7\\nvalue = [7, 0]'),\n",
       " Text(0.416988416988417, 0.22727272727272727, 'X[1] <= 10.195\\nentropy = 0.494\\nsamples = 37\\nvalue = [33, 4]'),\n",
       " Text(0.41312741312741313, 0.13636363636363635, 'X[1] <= 8.489\\nentropy = 0.918\\nsamples = 9\\nvalue = [6, 3]'),\n",
       " Text(0.4111969111969112, 0.045454545454545456, 'entropy = 0.811\\nsamples = 4\\nvalue = [1, 3]'),\n",
       " Text(0.41505791505791506, 0.045454545454545456, 'entropy = 0.0\\nsamples = 5\\nvalue = [5, 0]'),\n",
       " Text(0.42084942084942084, 0.13636363636363635, 'X[5] <= 6.84\\nentropy = 0.222\\nsamples = 28\\nvalue = [27, 1]'),\n",
       " Text(0.4189189189189189, 0.045454545454545456, 'entropy = 0.0\\nsamples = 14\\nvalue = [14, 0]'),\n",
       " Text(0.42277992277992277, 0.045454545454545456, 'entropy = 0.371\\nsamples = 14\\nvalue = [13, 1]'),\n",
       " Text(0.4518581081081081, 0.5909090909090909, 'X[1] <= 6.569\\nentropy = 0.466\\nsamples = 465\\nvalue = [419, 46]'),\n",
       " Text(0.4391891891891892, 0.5, 'X[1] <= 4.792\\nentropy = 0.172\\nsamples = 234\\nvalue = [228, 6]'),\n",
       " Text(0.4372586872586873, 0.4090909090909091, 'X[6] <= 0.281\\nentropy = 0.232\\nsamples = 159\\nvalue = [153, 6]'),\n",
       " Text(0.43532818532818535, 0.3181818181818182, 'entropy = 0.0\\nsamples = 26\\nvalue = [26, 0]'),\n",
       " Text(0.4391891891891892, 0.3181818181818182, 'X[5] <= 10.719\\nentropy = 0.265\\nsamples = 133\\nvalue = [127, 6]'),\n",
       " Text(0.43243243243243246, 0.22727272727272727, 'X[5] <= 8.909\\nentropy = 0.218\\nsamples = 115\\nvalue = [111, 4]'),\n",
       " Text(0.42857142857142855, 0.13636363636363635, 'X[4] <= 16.456\\nentropy = 0.449\\nsamples = 32\\nvalue = [29, 3]'),\n",
       " Text(0.4266409266409266, 0.045454545454545456, 'entropy = 0.0\\nsamples = 13\\nvalue = [13, 0]'),\n",
       " Text(0.4305019305019305, 0.045454545454545456, 'entropy = 0.629\\nsamples = 19\\nvalue = [16, 3]'),\n",
       " Text(0.4362934362934363, 0.13636363636363635, 'X[1] <= 2.795\\nentropy = 0.094\\nsamples = 83\\nvalue = [82, 1]'),\n",
       " Text(0.4343629343629344, 0.045454545454545456, 'entropy = 0.353\\nsamples = 15\\nvalue = [14, 1]'),\n",
       " Text(0.43822393822393824, 0.045454545454545456, 'entropy = 0.0\\nsamples = 68\\nvalue = [68, 0]'),\n",
       " Text(0.44594594594594594, 0.22727272727272727, 'X[2] <= 16.691\\nentropy = 0.503\\nsamples = 18\\nvalue = [16, 2]'),\n",
       " Text(0.444015444015444, 0.13636363636363635, 'X[3] <= 12.913\\nentropy = 0.323\\nsamples = 17\\nvalue = [16, 1]'),\n",
       " Text(0.4420849420849421, 0.045454545454545456, 'entropy = 0.918\\nsamples = 3\\nvalue = [2, 1]'),\n",
       " Text(0.44594594594594594, 0.045454545454545456, 'entropy = 0.0\\nsamples = 14\\nvalue = [14, 0]'),\n",
       " Text(0.44787644787644787, 0.13636363636363635, 'entropy = 0.0\\nsamples = 1\\nvalue = [0, 1]'),\n",
       " Text(0.4411196911196911, 0.4090909090909091, 'entropy = 0.0\\nsamples = 75\\nvalue = [75, 0]'),\n",
       " Text(0.46452702702702703, 0.5, 'X[6] <= 0.242\\nentropy = 0.665\\nsamples = 231\\nvalue = [191, 40]'),\n",
       " Text(0.45366795366795365, 0.4090909090909091, 'X[7] <= 0.066\\nentropy = 0.206\\nsamples = 31\\nvalue = [30, 1]'),\n",
       " Text(0.4517374517374517, 0.3181818181818182, 'X[4] <= 19.977\\nentropy = 0.918\\nsamples = 3\\nvalue = [2, 1]'),\n",
       " Text(0.4498069498069498, 0.22727272727272727, 'entropy = 0.0\\nsamples = 1\\nvalue = [0, 1]'),\n",
       " Text(0.45366795366795365, 0.22727272727272727, 'entropy = 0.0\\nsamples = 2\\nvalue = [2, 0]'),\n",
       " Text(0.4555984555984556, 0.3181818181818182, 'entropy = 0.0\\nsamples = 28\\nvalue = [28, 0]'),\n",
       " Text(0.4753861003861004, 0.4090909090909091, 'X[1] <= 10.568\\nentropy = 0.712\\nsamples = 200\\nvalue = [161, 39]'),\n",
       " Text(0.4642857142857143, 0.3181818181818182, 'X[5] <= 9.55\\nentropy = 0.547\\nsamples = 103\\nvalue = [90, 13]'),\n",
       " Text(0.4575289575289575, 0.22727272727272727, 'X[3] <= 14.352\\nentropy = 0.822\\nsamples = 35\\nvalue = [26, 9]'),\n",
       " Text(0.4555984555984556, 0.13636363636363635, 'entropy = 0.0\\nsamples = 8\\nvalue = [8, 0]'),\n",
       " Text(0.4594594594594595, 0.13636363636363635, 'X[1] <= 7.17\\nentropy = 0.918\\nsamples = 27\\nvalue = [18, 9]'),\n",
       " Text(0.4575289575289575, 0.045454545454545456, 'entropy = 0.722\\nsamples = 10\\nvalue = [8, 2]'),\n",
       " Text(0.4613899613899614, 0.045454545454545456, 'entropy = 0.977\\nsamples = 17\\nvalue = [10, 7]'),\n",
       " Text(0.47104247104247104, 0.22727272727272727, 'X[5] <= 10.715\\nentropy = 0.323\\nsamples = 68\\nvalue = [64, 4]'),\n",
       " Text(0.4671814671814672, 0.13636363636363635, 'X[3] <= 9.302\\nentropy = 0.365\\nsamples = 43\\nvalue = [40, 3]'),\n",
       " Text(0.46525096525096526, 0.045454545454545456, 'entropy = 0.65\\nsamples = 12\\nvalue = [10, 2]'),\n",
       " Text(0.4691119691119691, 0.045454545454545456, 'entropy = 0.206\\nsamples = 31\\nvalue = [30, 1]'),\n",
       " Text(0.4749034749034749, 0.13636363636363635, 'X[1] <= 8.388\\nentropy = 0.242\\nsamples = 25\\nvalue = [24, 1]'),\n",
       " Text(0.47297297297297297, 0.045454545454545456, 'entropy = 0.337\\nsamples = 16\\nvalue = [15, 1]'),\n",
       " Text(0.4768339768339768, 0.045454545454545456, 'entropy = 0.0\\nsamples = 9\\nvalue = [9, 0]'),\n",
       " Text(0.4864864864864865, 0.3181818181818182, 'X[2] <= 14.125\\nentropy = 0.839\\nsamples = 97\\nvalue = [71, 26]'),\n",
       " Text(0.48455598455598453, 0.22727272727272727, 'X[1] <= 11.031\\nentropy = 0.863\\nsamples = 91\\nvalue = [65, 26]'),\n",
       " Text(0.4826254826254826, 0.13636363636363635, 'X[4] <= 13.595\\nentropy = 0.871\\nsamples = 89\\nvalue = [63, 26]'),\n",
       " Text(0.4806949806949807, 0.045454545454545456, 'entropy = 0.946\\nsamples = 33\\nvalue = [21, 12]'),\n",
       " Text(0.48455598455598453, 0.045454545454545456, 'entropy = 0.811\\nsamples = 56\\nvalue = [42, 14]'),\n",
       " Text(0.4864864864864865, 0.13636363636363635, 'entropy = 0.0\\nsamples = 2\\nvalue = [2, 0]'),\n",
       " Text(0.48841698841698844, 0.22727272727272727, 'entropy = 0.0\\nsamples = 6\\nvalue = [6, 0]'),\n",
       " Text(0.6460997828185329, 0.8636363636363636, 'X[6] <= 0.134\\nentropy = 1.0\\nsamples = 2784\\nvalue = [1407, 1377]'),\n",
       " Text(0.5178571428571429, 0.7727272727272727, 'X[12] <= 0.684\\nentropy = 0.568\\nsamples = 157\\nvalue = [21, 136]'),\n",
       " Text(0.5086872586872587, 0.6818181818181818, 'X[5] <= 6.833\\nentropy = 0.489\\nsamples = 141\\nvalue = [15, 126]'),\n",
       " Text(0.5019305019305019, 0.5909090909090909, 'X[2] <= 11.622\\nentropy = 0.64\\nsamples = 80\\nvalue = [13, 67]'),\n",
       " Text(0.4942084942084942, 0.5, 'X[0] <= 24.367\\nentropy = 0.937\\nsamples = 17\\nvalue = [6, 11]'),\n",
       " Text(0.4922779922779923, 0.4090909090909091, 'X[0] <= 18.971\\nentropy = 0.996\\nsamples = 13\\nvalue = [6, 7]'),\n",
       " Text(0.49034749034749037, 0.3181818181818182, 'entropy = 0.0\\nsamples = 3\\nvalue = [3, 0]'),\n",
       " Text(0.4942084942084942, 0.3181818181818182, 'X[2] <= 10.136\\nentropy = 0.881\\nsamples = 10\\nvalue = [3, 7]'),\n",
       " Text(0.4922779922779923, 0.22727272727272727, 'entropy = 0.0\\nsamples = 2\\nvalue = [0, 2]'),\n",
       " Text(0.49613899613899615, 0.22727272727272727, 'X[3] <= 30.463\\nentropy = 0.954\\nsamples = 8\\nvalue = [3, 5]'),\n",
       " Text(0.4942084942084942, 0.13636363636363635, 'entropy = 0.0\\nsamples = 2\\nvalue = [0, 2]'),\n",
       " Text(0.4980694980694981, 0.13636363636363635, 'X[4] <= 13.78\\nentropy = 1.0\\nsamples = 6\\nvalue = [3, 3]'),\n",
       " Text(0.49613899613899615, 0.045454545454545456, 'entropy = 0.0\\nsamples = 1\\nvalue = [1, 0]'),\n",
       " Text(0.5, 0.045454545454545456, 'entropy = 0.971\\nsamples = 5\\nvalue = [2, 3]'),\n",
       " Text(0.49613899613899615, 0.4090909090909091, 'entropy = 0.0\\nsamples = 4\\nvalue = [0, 4]'),\n",
       " Text(0.5096525096525096, 0.5, 'X[4] <= 23.207\\nentropy = 0.503\\nsamples = 63\\nvalue = [7, 56]'),\n",
       " Text(0.5077220077220077, 0.4090909090909091, 'X[6] <= 0.019\\nentropy = 0.711\\nsamples = 36\\nvalue = [7, 29]'),\n",
       " Text(0.5057915057915058, 0.3181818181818182, 'entropy = 0.0\\nsamples = 1\\nvalue = [1, 0]'),\n",
       " Text(0.5096525096525096, 0.3181818181818182, 'X[5] <= 5.81\\nentropy = 0.661\\nsamples = 35\\nvalue = [6, 29]'),\n",
       " Text(0.5077220077220077, 0.22727272727272727, 'X[3] <= 45.768\\nentropy = 0.863\\nsamples = 21\\nvalue = [6, 15]'),\n",
       " Text(0.5057915057915058, 0.13636363636363635, 'X[3] <= 32.924\\nentropy = 0.918\\nsamples = 18\\nvalue = [6, 12]'),\n",
       " Text(0.5038610038610039, 0.045454545454545456, 'entropy = 0.996\\nsamples = 13\\nvalue = [6, 7]'),\n",
       " Text(0.5077220077220077, 0.045454545454545456, 'entropy = 0.0\\nsamples = 5\\nvalue = [0, 5]'),\n",
       " Text(0.5096525096525096, 0.13636363636363635, 'entropy = 0.0\\nsamples = 3\\nvalue = [0, 3]'),\n",
       " Text(0.5115830115830116, 0.22727272727272727, 'entropy = 0.0\\nsamples = 14\\nvalue = [0, 14]'),\n",
       " Text(0.5115830115830116, 0.4090909090909091, 'entropy = 0.0\\nsamples = 27\\nvalue = [0, 27]'),\n",
       " Text(0.5154440154440154, 0.5909090909090909, 'X[7] <= 0.34\\nentropy = 0.208\\nsamples = 61\\nvalue = [2, 59]'),\n",
       " Text(0.5135135135135135, 0.5, 'entropy = 0.0\\nsamples = 54\\nvalue = [0, 54]'),\n",
       " Text(0.5173745173745173, 0.5, 'X[6] <= 0.013\\nentropy = 0.863\\nsamples = 7\\nvalue = [2, 5]'),\n",
       " Text(0.5154440154440154, 0.4090909090909091, 'entropy = 0.0\\nsamples = 1\\nvalue = [1, 0]'),\n",
       " Text(0.5193050193050193, 0.4090909090909091, 'X[3] <= 49.237\\nentropy = 0.65\\nsamples = 6\\nvalue = [1, 5]'),\n",
       " Text(0.5173745173745173, 0.3181818181818182, 'entropy = 0.0\\nsamples = 4\\nvalue = [0, 4]'),\n",
       " Text(0.5212355212355212, 0.3181818181818182, 'entropy = 1.0\\nsamples = 2\\nvalue = [1, 1]'),\n",
       " Text(0.527027027027027, 0.6818181818181818, 'X[6] <= 0.029\\nentropy = 0.954\\nsamples = 16\\nvalue = [6, 10]'),\n",
       " Text(0.5231660231660231, 0.5909090909090909, 'X[2] <= 18.536\\nentropy = 0.722\\nsamples = 5\\nvalue = [4, 1]'),\n",
       " Text(0.5212355212355212, 0.5, 'entropy = 0.0\\nsamples = 4\\nvalue = [4, 0]'),\n",
       " Text(0.525096525096525, 0.5, 'entropy = 0.0\\nsamples = 1\\nvalue = [0, 1]'),\n",
       " Text(0.5308880308880309, 0.5909090909090909, 'X[4] <= 14.418\\nentropy = 0.684\\nsamples = 11\\nvalue = [2, 9]'),\n",
       " Text(0.528957528957529, 0.5, 'X[4] <= 9.447\\nentropy = 0.918\\nsamples = 3\\nvalue = [2, 1]'),\n",
       " Text(0.527027027027027, 0.4090909090909091, 'entropy = 0.0\\nsamples = 1\\nvalue = [0, 1]'),\n",
       " Text(0.5308880308880309, 0.4090909090909091, 'entropy = 0.0\\nsamples = 2\\nvalue = [2, 0]'),\n",
       " Text(0.5328185328185329, 0.5, 'entropy = 0.0\\nsamples = 8\\nvalue = [0, 8]'),\n",
       " Text(0.7743424227799228, 0.7727272727272727, 'X[5] <= 7.629\\nentropy = 0.998\\nsamples = 2627\\nvalue = [1386, 1241]'),\n",
       " Text(0.6423745173745173, 0.6818181818181818, 'X[1] <= 5.458\\nentropy = 0.976\\nsamples = 1305\\nvalue = [772, 533]'),\n",
       " Text(0.5889237451737451, 0.5909090909090909, 'X[12] <= 0.031\\nentropy = 0.948\\nsamples = 785\\nvalue = [497, 288]'),\n",
       " Text(0.5506756756756757, 0.5, 'X[5] <= 6.876\\nentropy = 0.979\\nsamples = 557\\nvalue = [326, 231]'),\n",
       " Text(0.5347490347490348, 0.4090909090909091, 'X[5] <= 4.753\\nentropy = 0.964\\nsamples = 409\\nvalue = [250, 159]'),\n",
       " Text(0.5308880308880309, 0.3181818181818182, 'X[0] <= 25.216\\nentropy = 0.65\\nsamples = 12\\nvalue = [10, 2]'),\n",
       " Text(0.528957528957529, 0.22727272727272727, 'entropy = 0.0\\nsamples = 10\\nvalue = [10, 0]'),\n",
       " Text(0.5328185328185329, 0.22727272727272727, 'entropy = 0.0\\nsamples = 2\\nvalue = [0, 2]'),\n",
       " Text(0.5386100386100386, 0.3181818181818182, 'X[2] <= 0.129\\nentropy = 0.968\\nsamples = 397\\nvalue = [240, 157]'),\n",
       " Text(0.5366795366795367, 0.22727272727272727, 'entropy = 0.0\\nsamples = 3\\nvalue = [0, 3]'),\n",
       " Text(0.5405405405405406, 0.22727272727272727, 'X[5] <= 5.864\\nentropy = 0.965\\nsamples = 394\\nvalue = [240, 154]'),\n",
       " Text(0.5366795366795367, 0.13636363636363635, 'X[1] <= 3.578\\nentropy = 0.941\\nsamples = 226\\nvalue = [145, 81]'),\n",
       " Text(0.5347490347490348, 0.045454545454545456, 'entropy = 0.881\\nsamples = 167\\nvalue = [117, 50]'),\n",
       " Text(0.5386100386100386, 0.045454545454545456, 'entropy = 0.998\\nsamples = 59\\nvalue = [28, 31]'),\n",
       " Text(0.5444015444015444, 0.13636363636363635, 'X[1] <= 4.517\\nentropy = 0.988\\nsamples = 168\\nvalue = [95, 73]'),\n",
       " Text(0.5424710424710425, 0.045454545454545456, 'entropy = 0.99\\nsamples = 104\\nvalue = [46, 58]'),\n",
       " Text(0.5463320463320464, 0.045454545454545456, 'entropy = 0.786\\nsamples = 64\\nvalue = [49, 15]'),\n",
       " Text(0.5666023166023166, 0.4090909090909091, 'X[10] <= 0.176\\nentropy = 0.999\\nsamples = 148\\nvalue = [76, 72]'),\n",
       " Text(0.5540540540540541, 0.3181818181818182, 'X[3] <= 35.892\\nentropy = 0.96\\nsamples = 34\\nvalue = [13, 21]'),\n",
       " Text(0.5501930501930502, 0.22727272727272727, 'X[0] <= 25.129\\nentropy = 0.684\\nsamples = 22\\nvalue = [4, 18]'),\n",
       " Text(0.5482625482625483, 0.13636363636363635, 'entropy = 0.0\\nsamples = 13\\nvalue = [0, 13]'),\n",
       " Text(0.5521235521235521, 0.13636363636363635, 'X[2] <= 18.19\\nentropy = 0.991\\nsamples = 9\\nvalue = [4, 5]'),\n",
       " Text(0.5501930501930502, 0.045454545454545456, 'entropy = 1.0\\nsamples = 8\\nvalue = [4, 4]'),\n",
       " Text(0.5540540540540541, 0.045454545454545456, 'entropy = 0.0\\nsamples = 1\\nvalue = [0, 1]'),\n",
       " Text(0.5579150579150579, 0.22727272727272727, 'X[3] <= 47.553\\nentropy = 0.811\\nsamples = 12\\nvalue = [9, 3]'),\n",
       " Text(0.555984555984556, 0.13636363636363635, 'entropy = 0.0\\nsamples = 5\\nvalue = [5, 0]'),\n",
       " Text(0.5598455598455598, 0.13636363636363635, 'X[4] <= 27.944\\nentropy = 0.985\\nsamples = 7\\nvalue = [4, 3]'),\n",
       " Text(0.5579150579150579, 0.045454545454545456, 'entropy = 0.971\\nsamples = 5\\nvalue = [2, 3]'),\n",
       " Text(0.5617760617760618, 0.045454545454545456, 'entropy = 0.0\\nsamples = 2\\nvalue = [2, 0]'),\n",
       " Text(0.5791505791505791, 0.3181818181818182, 'X[6] <= 0.342\\nentropy = 0.992\\nsamples = 114\\nvalue = [63, 51]'),\n",
       " Text(0.5714285714285714, 0.22727272727272727, 'X[3] <= 9.125\\nentropy = 0.995\\nsamples = 24\\nvalue = [11, 13]'),\n",
       " Text(0.5675675675675675, 0.13636363636363635, 'X[7] <= 0.066\\nentropy = 0.722\\nsamples = 5\\nvalue = [4, 1]'),\n",
       " Text(0.5656370656370656, 0.045454545454545456, 'entropy = 0.0\\nsamples = 2\\nvalue = [2, 0]'),\n",
       " Text(0.5694980694980695, 0.045454545454545456, 'entropy = 0.918\\nsamples = 3\\nvalue = [2, 1]'),\n",
       " Text(0.5752895752895753, 0.13636363636363635, 'X[7] <= 0.3\\nentropy = 0.949\\nsamples = 19\\nvalue = [7, 12]'),\n",
       " Text(0.5733590733590733, 0.045454545454545456, 'entropy = 0.977\\nsamples = 17\\nvalue = [7, 10]'),\n",
       " Text(0.5772200772200772, 0.045454545454545456, 'entropy = 0.0\\nsamples = 2\\nvalue = [0, 2]'),\n",
       " Text(0.5868725868725869, 0.22727272727272727, 'X[6] <= 0.363\\nentropy = 0.982\\nsamples = 90\\nvalue = [52, 38]'),\n",
       " Text(0.583011583011583, 0.13636363636363635, 'X[3] <= 30.014\\nentropy = 1.0\\nsamples = 32\\nvalue = [16, 16]'),\n",
       " Text(0.581081081081081, 0.045454545454545456, 'entropy = 0.937\\nsamples = 17\\nvalue = [11, 6]'),\n",
       " Text(0.584942084942085, 0.045454545454545456, 'entropy = 0.918\\nsamples = 15\\nvalue = [5, 10]'),\n",
       " Text(0.5907335907335908, 0.13636363636363635, 'X[7] <= 0.07\\nentropy = 0.958\\nsamples = 58\\nvalue = [36, 22]'),\n",
       " Text(0.5888030888030888, 0.045454545454545456, 'entropy = 0.792\\nsamples = 21\\nvalue = [16, 5]'),\n",
       " Text(0.5926640926640927, 0.045454545454545456, 'entropy = 0.995\\nsamples = 37\\nvalue = [20, 17]'),\n",
       " Text(0.6271718146718147, 0.5, 'X[0] <= 26.524\\nentropy = 0.811\\nsamples = 228\\nvalue = [171, 57]'),\n",
       " Text(0.6134169884169884, 0.4090909090909091, 'X[1] <= 2.617\\nentropy = 0.744\\nsamples = 180\\nvalue = [142, 38]'),\n",
       " Text(0.6042471042471043, 0.3181818181818182, 'X[4] <= 28.065\\nentropy = 0.989\\nsamples = 16\\nvalue = [9, 7]'),\n",
       " Text(0.6023166023166023, 0.22727272727272727, 'X[4] <= 23.196\\nentropy = 0.94\\nsamples = 14\\nvalue = [9, 5]'),\n",
       " Text(0.5984555984555985, 0.13636363636363635, 'X[7] <= 0.26\\nentropy = 0.722\\nsamples = 10\\nvalue = [8, 2]'),\n",
       " Text(0.5965250965250966, 0.045454545454545456, 'entropy = 1.0\\nsamples = 4\\nvalue = [2, 2]'),\n",
       " Text(0.6003861003861004, 0.045454545454545456, 'entropy = 0.0\\nsamples = 6\\nvalue = [6, 0]'),\n",
       " Text(0.6061776061776062, 0.13636363636363635, 'X[5] <= 6.015\\nentropy = 0.811\\nsamples = 4\\nvalue = [1, 3]'),\n",
       " Text(0.6042471042471043, 0.045454545454545456, 'entropy = 0.0\\nsamples = 2\\nvalue = [0, 2]'),\n",
       " Text(0.6081081081081081, 0.045454545454545456, 'entropy = 1.0\\nsamples = 2\\nvalue = [1, 1]'),\n",
       " Text(0.6061776061776062, 0.22727272727272727, 'entropy = 0.0\\nsamples = 2\\nvalue = [0, 2]'),\n",
       " Text(0.6225868725868726, 0.3181818181818182, 'X[1] <= 4.21\\nentropy = 0.699\\nsamples = 164\\nvalue = [133, 31]'),\n",
       " Text(0.6177606177606177, 0.22727272727272727, 'X[0] <= 19.869\\nentropy = 0.774\\nsamples = 101\\nvalue = [78, 23]'),\n",
       " Text(0.6138996138996139, 0.13636363636363635, 'X[3] <= 27.132\\nentropy = 0.75\\nsamples = 98\\nvalue = [77, 21]'),\n",
       " Text(0.611969111969112, 0.045454545454545456, 'entropy = 0.592\\nsamples = 49\\nvalue = [42, 7]'),\n",
       " Text(0.6158301158301158, 0.045454545454545456, 'entropy = 0.863\\nsamples = 49\\nvalue = [35, 14]'),\n",
       " Text(0.6216216216216216, 0.13636363636363635, 'X[2] <= 21.482\\nentropy = 0.918\\nsamples = 3\\nvalue = [1, 2]'),\n",
       " Text(0.6196911196911197, 0.045454545454545456, 'entropy = 0.0\\nsamples = 2\\nvalue = [0, 2]'),\n",
       " Text(0.6235521235521235, 0.045454545454545456, 'entropy = 0.0\\nsamples = 1\\nvalue = [1, 0]'),\n",
       " Text(0.6274131274131274, 0.22727272727272727, 'X[3] <= 7.853\\nentropy = 0.549\\nsamples = 63\\nvalue = [55, 8]'),\n",
       " Text(0.6254826254826255, 0.13636363636363635, 'entropy = 0.0\\nsamples = 8\\nvalue = [8, 0]'),\n",
       " Text(0.6293436293436293, 0.13636363636363635, 'X[4] <= 13.618\\nentropy = 0.598\\nsamples = 55\\nvalue = [47, 8]'),\n",
       " Text(0.6274131274131274, 0.045454545454545456, 'entropy = 0.337\\nsamples = 16\\nvalue = [15, 1]'),\n",
       " Text(0.6312741312741312, 0.045454545454545456, 'entropy = 0.679\\nsamples = 39\\nvalue = [32, 7]'),\n",
       " Text(0.640926640926641, 0.4090909090909091, 'X[5] <= 5.684\\nentropy = 0.968\\nsamples = 48\\nvalue = [29, 19]'),\n",
       " Text(0.638996138996139, 0.3181818181818182, 'entropy = 0.0\\nsamples = 6\\nvalue = [6, 0]'),\n",
       " Text(0.6428571428571429, 0.3181818181818182, 'X[2] <= 19.155\\nentropy = 0.993\\nsamples = 42\\nvalue = [23, 19]'),\n",
       " Text(0.640926640926641, 0.22727272727272727, 'X[5] <= 6.581\\nentropy = 0.977\\nsamples = 39\\nvalue = [23, 16]'),\n",
       " Text(0.637065637065637, 0.13636363636363635, 'X[4] <= 7.293\\nentropy = 0.764\\nsamples = 18\\nvalue = [14, 4]'),\n",
       " Text(0.6351351351351351, 0.045454545454545456, 'entropy = 0.0\\nsamples = 1\\nvalue = [0, 1]'),\n",
       " Text(0.638996138996139, 0.045454545454545456, 'entropy = 0.672\\nsamples = 17\\nvalue = [14, 3]'),\n",
       " Text(0.6447876447876448, 0.13636363636363635, 'X[1] <= 2.252\\nentropy = 0.985\\nsamples = 21\\nvalue = [9, 12]'),\n",
       " Text(0.6428571428571429, 0.045454545454545456, 'entropy = 0.0\\nsamples = 2\\nvalue = [0, 2]'),\n",
       " Text(0.6467181467181468, 0.045454545454545456, 'entropy = 0.998\\nsamples = 19\\nvalue = [9, 10]'),\n",
       " Text(0.6447876447876448, 0.22727272727272727, 'entropy = 0.0\\nsamples = 3\\nvalue = [0, 3]'),\n",
       " Text(0.6958252895752896, 0.5909090909090909, 'X[7] <= 0.1\\nentropy = 0.998\\nsamples = 520\\nvalue = [275, 245]'),\n",
       " Text(0.6640926640926641, 0.5, 'X[2] <= 0.998\\nentropy = 0.933\\nsamples = 152\\nvalue = [99, 53]'),\n",
       " Text(0.6621621621621622, 0.4090909090909091, 'entropy = 0.0\\nsamples = 2\\nvalue = [2, 0]'),\n",
       " Text(0.666023166023166, 0.4090909090909091, 'X[1] <= 11.718\\nentropy = 0.937\\nsamples = 150\\nvalue = [97, 53]'),\n",
       " Text(0.6583011583011583, 0.3181818181818182, 'X[3] <= 58.984\\nentropy = 0.952\\nsamples = 129\\nvalue = [81, 48]'),\n",
       " Text(0.6563706563706564, 0.22727272727272727, 'X[0] <= 24.287\\nentropy = 0.944\\nsamples = 127\\nvalue = [81, 46]'),\n",
       " Text(0.6525096525096525, 0.13636363636363635, 'X[0] <= 19.96\\nentropy = 0.964\\nsamples = 103\\nvalue = [63, 40]'),\n",
       " Text(0.6505791505791506, 0.045454545454545456, 'entropy = 0.958\\nsamples = 100\\nvalue = [62, 38]'),\n",
       " Text(0.6544401544401545, 0.045454545454545456, 'entropy = 0.918\\nsamples = 3\\nvalue = [1, 2]'),\n",
       " Text(0.6602316602316602, 0.13636363636363635, 'X[6] <= 0.319\\nentropy = 0.811\\nsamples = 24\\nvalue = [18, 6]'),\n",
       " Text(0.6583011583011583, 0.045454545454545456, 'entropy = 0.0\\nsamples = 3\\nvalue = [3, 0]'),\n",
       " Text(0.6621621621621622, 0.045454545454545456, 'entropy = 0.863\\nsamples = 21\\nvalue = [15, 6]'),\n",
       " Text(0.6602316602316602, 0.22727272727272727, 'entropy = 0.0\\nsamples = 2\\nvalue = [0, 2]'),\n",
       " Text(0.6737451737451737, 0.3181818181818182, 'X[11] <= 0.433\\nentropy = 0.792\\nsamples = 21\\nvalue = [16, 5]'),\n",
       " Text(0.6718146718146718, 0.22727272727272727, 'X[7] <= 0.068\\nentropy = 0.629\\nsamples = 19\\nvalue = [16, 3]'),\n",
       " Text(0.667953667953668, 0.13636363636363635, 'X[10] <= 0.045\\nentropy = 0.371\\nsamples = 14\\nvalue = [13, 1]'),\n",
       " Text(0.666023166023166, 0.045454545454545456, 'entropy = 0.0\\nsamples = 10\\nvalue = [10, 0]'),\n",
       " Text(0.6698841698841699, 0.045454545454545456, 'entropy = 0.811\\nsamples = 4\\nvalue = [3, 1]'),\n",
       " Text(0.6756756756756757, 0.13636363636363635, 'X[6] <= 0.348\\nentropy = 0.971\\nsamples = 5\\nvalue = [3, 2]'),\n",
       " Text(0.6737451737451737, 0.045454545454545456, 'entropy = 0.0\\nsamples = 1\\nvalue = [0, 1]'),\n",
       " Text(0.6776061776061776, 0.045454545454545456, 'entropy = 0.811\\nsamples = 4\\nvalue = [3, 1]'),\n",
       " Text(0.6756756756756757, 0.22727272727272727, 'entropy = 0.0\\nsamples = 2\\nvalue = [0, 2]'),\n",
       " Text(0.727557915057915, 0.5, 'X[5] <= 5.546\\nentropy = 0.999\\nsamples = 368\\nvalue = [176, 192]'),\n",
       " Text(0.7031853281853282, 0.4090909090909091, 'X[1] <= 10.664\\nentropy = 0.97\\nsamples = 123\\nvalue = [74, 49]'),\n",
       " Text(0.6882239382239382, 0.3181818181818182, 'X[4] <= 24.338\\nentropy = 1.0\\nsamples = 69\\nvalue = [34, 35]'),\n",
       " Text(0.6814671814671814, 0.22727272727272727, 'X[8] <= 0.208\\nentropy = 0.983\\nsamples = 52\\nvalue = [30, 22]'),\n",
       " Text(0.6795366795366795, 0.13636363636363635, 'entropy = 0.0\\nsamples = 3\\nvalue = [3, 0]'),\n",
       " Text(0.6833976833976834, 0.13636363636363635, 'X[7] <= 0.304\\nentropy = 0.992\\nsamples = 49\\nvalue = [27, 22]'),\n",
       " Text(0.6814671814671814, 0.045454545454545456, 'entropy = 0.987\\nsamples = 37\\nvalue = [16, 21]'),\n",
       " Text(0.6853281853281853, 0.045454545454545456, 'entropy = 0.414\\nsamples = 12\\nvalue = [11, 1]'),\n",
       " Text(0.694980694980695, 0.22727272727272727, 'X[3] <= 27.872\\nentropy = 0.787\\nsamples = 17\\nvalue = [4, 13]'),\n",
       " Text(0.6911196911196911, 0.13636363636363635, 'X[0] <= 22.652\\nentropy = 0.503\\nsamples = 9\\nvalue = [1, 8]'),\n",
       " Text(0.6891891891891891, 0.045454545454545456, 'entropy = 0.0\\nsamples = 7\\nvalue = [0, 7]'),\n",
       " Text(0.693050193050193, 0.045454545454545456, 'entropy = 1.0\\nsamples = 2\\nvalue = [1, 1]'),\n",
       " Text(0.6988416988416989, 0.13636363636363635, 'X[4] <= 27.039\\nentropy = 0.954\\nsamples = 8\\nvalue = [3, 5]'),\n",
       " Text(0.696911196911197, 0.045454545454545456, 'entropy = 0.0\\nsamples = 1\\nvalue = [1, 0]'),\n",
       " Text(0.7007722007722008, 0.045454545454545456, 'entropy = 0.863\\nsamples = 7\\nvalue = [2, 5]'),\n",
       " Text(0.7181467181467182, 0.3181818181818182, 'X[4] <= 18.202\\nentropy = 0.826\\nsamples = 54\\nvalue = [40, 14]'),\n",
       " Text(0.7104247104247104, 0.22727272727272727, 'X[2] <= 14.558\\nentropy = 0.971\\nsamples = 25\\nvalue = [15, 10]'),\n",
       " Text(0.7065637065637066, 0.13636363636363635, 'X[10] <= 0.252\\nentropy = 0.918\\nsamples = 9\\nvalue = [3, 6]'),\n",
       " Text(0.7046332046332047, 0.045454545454545456, 'entropy = 0.811\\nsamples = 8\\nvalue = [2, 6]'),\n",
       " Text(0.7084942084942085, 0.045454545454545456, 'entropy = 0.0\\nsamples = 1\\nvalue = [1, 0]'),\n",
       " Text(0.7142857142857143, 0.13636363636363635, 'X[8] <= 0.652\\nentropy = 0.811\\nsamples = 16\\nvalue = [12, 4]'),\n",
       " Text(0.7123552123552124, 0.045454545454545456, 'entropy = 0.811\\nsamples = 4\\nvalue = [1, 3]'),\n",
       " Text(0.7162162162162162, 0.045454545454545456, 'entropy = 0.414\\nsamples = 12\\nvalue = [11, 1]'),\n",
       " Text(0.7258687258687259, 0.22727272727272727, 'X[5] <= 4.478\\nentropy = 0.579\\nsamples = 29\\nvalue = [25, 4]'),\n",
       " Text(0.722007722007722, 0.13636363636363635, 'X[6] <= 0.362\\nentropy = 0.918\\nsamples = 6\\nvalue = [4, 2]'),\n",
       " Text(0.7200772200772201, 0.045454545454545456, 'entropy = 0.918\\nsamples = 3\\nvalue = [1, 2]'),\n",
       " Text(0.7239382239382239, 0.045454545454545456, 'entropy = 0.0\\nsamples = 3\\nvalue = [3, 0]'),\n",
       " Text(0.7297297297297297, 0.13636363636363635, 'X[7] <= 0.35\\nentropy = 0.426\\nsamples = 23\\nvalue = [21, 2]'),\n",
       " Text(0.7277992277992278, 0.045454545454545456, 'entropy = 0.592\\nsamples = 14\\nvalue = [12, 2]'),\n",
       " Text(0.7316602316602316, 0.045454545454545456, 'entropy = 0.0\\nsamples = 9\\nvalue = [9, 0]'),\n",
       " Text(0.7519305019305019, 0.4090909090909091, 'X[6] <= 0.354\\nentropy = 0.98\\nsamples = 245\\nvalue = [102, 143]'),\n",
       " Text(0.7403474903474904, 0.3181818181818182, 'X[2] <= 5.773\\nentropy = 0.929\\nsamples = 125\\nvalue = [43, 82]'),\n",
       " Text(0.7355212355212355, 0.22727272727272727, 'X[3] <= 25.642\\nentropy = 0.722\\nsamples = 5\\nvalue = [4, 1]'),\n",
       " Text(0.7335907335907336, 0.13636363636363635, 'entropy = 0.0\\nsamples = 1\\nvalue = [0, 1]'),\n",
       " Text(0.7374517374517374, 0.13636363636363635, 'entropy = 0.0\\nsamples = 4\\nvalue = [4, 0]'),\n",
       " Text(0.7451737451737451, 0.22727272727272727, 'X[0] <= 26.499\\nentropy = 0.91\\nsamples = 120\\nvalue = [39, 81]'),\n",
       " Text(0.7413127413127413, 0.13636363636363635, 'X[6] <= 0.31\\nentropy = 0.844\\nsamples = 92\\nvalue = [25, 67]'),\n",
       " Text(0.7393822393822393, 0.045454545454545456, 'entropy = 0.684\\nsamples = 44\\nvalue = [8, 36]'),\n",
       " Text(0.7432432432432432, 0.045454545454545456, 'entropy = 0.938\\nsamples = 48\\nvalue = [17, 31]'),\n",
       " Text(0.749034749034749, 0.13636363636363635, 'X[3] <= 52.386\\nentropy = 1.0\\nsamples = 28\\nvalue = [14, 14]'),\n",
       " Text(0.747104247104247, 0.045454545454545456, 'entropy = 0.966\\nsamples = 23\\nvalue = [14, 9]'),\n",
       " Text(0.750965250965251, 0.045454545454545456, 'entropy = 0.0\\nsamples = 5\\nvalue = [0, 5]'),\n",
       " Text(0.7635135135135135, 0.3181818181818182, 'X[1] <= 8.199\\nentropy = 1.0\\nsamples = 120\\nvalue = [59, 61]'),\n",
       " Text(0.7586872586872587, 0.22727272727272727, 'X[1] <= 7.256\\nentropy = 0.938\\nsamples = 31\\nvalue = [11, 20]'),\n",
       " Text(0.7567567567567568, 0.13636363636363635, 'X[12] <= 0.192\\nentropy = 0.975\\nsamples = 27\\nvalue = [11, 16]'),\n",
       " Text(0.7548262548262549, 0.045454545454545456, 'entropy = 0.943\\nsamples = 25\\nvalue = [9, 16]'),\n",
       " Text(0.7586872586872587, 0.045454545454545456, 'entropy = 0.0\\nsamples = 2\\nvalue = [2, 0]'),\n",
       " Text(0.7606177606177607, 0.13636363636363635, 'entropy = 0.0\\nsamples = 4\\nvalue = [0, 4]'),\n",
       " Text(0.7683397683397684, 0.22727272727272727, 'X[1] <= 10.486\\nentropy = 0.996\\nsamples = 89\\nvalue = [48, 41]'),\n",
       " Text(0.7644787644787645, 0.13636363636363635, 'X[2] <= 17.575\\nentropy = 0.932\\nsamples = 23\\nvalue = [8, 15]'),\n",
       " Text(0.7625482625482626, 0.045454545454545456, 'entropy = 0.863\\nsamples = 21\\nvalue = [6, 15]'),\n",
       " Text(0.7664092664092664, 0.045454545454545456, 'entropy = 0.0\\nsamples = 2\\nvalue = [2, 0]'),\n",
       " Text(0.7722007722007722, 0.13636363636363635, 'X[2] <= 20.287\\nentropy = 0.967\\nsamples = 66\\nvalue = [40, 26]'),\n",
       " Text(0.7702702702702703, 0.045454545454545456, 'entropy = 0.954\\nsamples = 64\\nvalue = [40, 24]'),\n",
       " Text(0.7741312741312741, 0.045454545454545456, 'entropy = 0.0\\nsamples = 2\\nvalue = [0, 2]'),\n",
       " Text(0.9063103281853282, 0.6818181818181818, 'X[8] <= 0.893\\nentropy = 0.996\\nsamples = 1322\\nvalue = [614, 708]'),\n",
       " Text(0.8391650579150579, 0.5909090909090909, 'X[6] <= 0.315\\nentropy = 0.997\\nsamples = 867\\nvalue = [462, 405]'),\n",
       " Text(0.8016409266409267, 0.5, 'X[4] <= 7.397\\nentropy = 0.981\\nsamples = 267\\nvalue = [155, 112]'),\n",
       " Text(0.7886100386100386, 0.4090909090909091, 'X[12] <= 0.499\\nentropy = 0.918\\nsamples = 81\\nvalue = [54, 27]'),\n",
       " Text(0.7818532818532818, 0.3181818181818182, 'X[10] <= 0.482\\nentropy = 0.971\\nsamples = 50\\nvalue = [30, 20]'),\n",
       " Text(0.7799227799227799, 0.22727272727272727, 'entropy = 0.0\\nsamples = 1\\nvalue = [0, 1]'),\n",
       " Text(0.7837837837837838, 0.22727272727272727, 'X[7] <= 0.287\\nentropy = 0.963\\nsamples = 49\\nvalue = [30, 19]'),\n",
       " Text(0.7799227799227799, 0.13636363636363635, 'X[2] <= 16.393\\nentropy = 0.996\\nsamples = 28\\nvalue = [15, 13]'),\n",
       " Text(0.777992277992278, 0.045454545454545456, 'entropy = 0.971\\nsamples = 20\\nvalue = [8, 12]'),\n",
       " Text(0.7818532818532818, 0.045454545454545456, 'entropy = 0.544\\nsamples = 8\\nvalue = [7, 1]'),\n",
       " Text(0.7876447876447876, 0.13636363636363635, 'X[5] <= 10.135\\nentropy = 0.863\\nsamples = 21\\nvalue = [15, 6]'),\n",
       " Text(0.7857142857142857, 0.045454545454545456, 'entropy = 0.672\\nsamples = 17\\nvalue = [14, 3]'),\n",
       " Text(0.7895752895752896, 0.045454545454545456, 'entropy = 0.811\\nsamples = 4\\nvalue = [1, 3]'),\n",
       " Text(0.7953667953667953, 0.3181818181818182, 'X[1] <= 2.474\\nentropy = 0.771\\nsamples = 31\\nvalue = [24, 7]'),\n",
       " Text(0.7934362934362934, 0.22727272727272727, 'entropy = 0.0\\nsamples = 1\\nvalue = [0, 1]'),\n",
       " Text(0.7972972972972973, 0.22727272727272727, 'X[2] <= 22.136\\nentropy = 0.722\\nsamples = 30\\nvalue = [24, 6]'),\n",
       " Text(0.7953667953667953, 0.13636363636363635, 'X[3] <= 9.056\\nentropy = 0.677\\nsamples = 28\\nvalue = [23, 5]'),\n",
       " Text(0.7934362934362934, 0.045454545454545456, 'entropy = 0.0\\nsamples = 8\\nvalue = [8, 0]'),\n",
       " Text(0.7972972972972973, 0.045454545454545456, 'entropy = 0.811\\nsamples = 20\\nvalue = [15, 5]'),\n",
       " Text(0.7992277992277992, 0.13636363636363635, 'entropy = 1.0\\nsamples = 2\\nvalue = [1, 1]'),\n",
       " Text(0.8146718146718147, 0.4090909090909091, 'X[2] <= 2.523\\nentropy = 0.995\\nsamples = 186\\nvalue = [101, 85]'),\n",
       " Text(0.806949806949807, 0.3181818181818182, 'X[3] <= 36.323\\nentropy = 0.722\\nsamples = 15\\nvalue = [3, 12]'),\n",
       " Text(0.805019305019305, 0.22727272727272727, 'X[1] <= 5.251\\nentropy = 0.918\\nsamples = 9\\nvalue = [3, 6]'),\n",
       " Text(0.803088803088803, 0.13636363636363635, 'X[0] <= 25.058\\nentropy = 1.0\\nsamples = 6\\nvalue = [3, 3]'),\n",
       " Text(0.8011583011583011, 0.045454545454545456, 'entropy = 0.971\\nsamples = 5\\nvalue = [2, 3]'),\n",
       " Text(0.805019305019305, 0.045454545454545456, 'entropy = 0.0\\nsamples = 1\\nvalue = [1, 0]'),\n",
       " Text(0.806949806949807, 0.13636363636363635, 'entropy = 0.0\\nsamples = 3\\nvalue = [0, 3]'),\n",
       " Text(0.8088803088803089, 0.22727272727272727, 'entropy = 0.0\\nsamples = 6\\nvalue = [0, 6]'),\n",
       " Text(0.8223938223938224, 0.3181818181818182, 'X[7] <= 0.297\\nentropy = 0.985\\nsamples = 171\\nvalue = [98, 73]'),\n",
       " Text(0.8146718146718147, 0.22727272727272727, 'X[7] <= 0.091\\nentropy = 0.988\\nsamples = 99\\nvalue = [43, 56]'),\n",
       " Text(0.8108108108108109, 0.13636363636363635, 'X[3] <= 23.503\\nentropy = 0.998\\nsamples = 65\\nvalue = [34, 31]'),\n",
       " Text(0.8088803088803089, 0.045454545454545456, 'entropy = 0.966\\nsamples = 23\\nvalue = [9, 14]'),\n",
       " Text(0.8127413127413128, 0.045454545454545456, 'entropy = 0.974\\nsamples = 42\\nvalue = [25, 17]'),\n",
       " Text(0.8185328185328186, 0.13636363636363635, 'X[0] <= 24.942\\nentropy = 0.834\\nsamples = 34\\nvalue = [9, 25]'),\n",
       " Text(0.8166023166023166, 0.045454545454545456, 'entropy = 0.575\\nsamples = 22\\nvalue = [3, 19]'),\n",
       " Text(0.8204633204633205, 0.045454545454545456, 'entropy = 1.0\\nsamples = 12\\nvalue = [6, 6]'),\n",
       " Text(0.8301158301158301, 0.22727272727272727, 'X[1] <= 9.112\\nentropy = 0.789\\nsamples = 72\\nvalue = [55, 17]'),\n",
       " Text(0.8262548262548263, 0.13636363636363635, 'X[2] <= 21.556\\nentropy = 0.837\\nsamples = 60\\nvalue = [44, 16]'),\n",
       " Text(0.8243243243243243, 0.045454545454545456, 'entropy = 0.789\\nsamples = 55\\nvalue = [42, 13]'),\n",
       " Text(0.8281853281853282, 0.045454545454545456, 'entropy = 0.971\\nsamples = 5\\nvalue = [2, 3]'),\n",
       " Text(0.833976833976834, 0.13636363636363635, 'X[4] <= 9.456\\nentropy = 0.414\\nsamples = 12\\nvalue = [11, 1]'),\n",
       " Text(0.832046332046332, 0.045454545454545456, 'entropy = 0.0\\nsamples = 1\\nvalue = [0, 1]'),\n",
       " Text(0.8359073359073359, 0.045454545454545456, 'entropy = 0.0\\nsamples = 11\\nvalue = [11, 0]'),\n",
       " Text(0.8766891891891891, 0.5, 'X[6] <= 0.353\\nentropy = 1.0\\nsamples = 600\\nvalue = [307, 293]'),\n",
       " Text(0.8552123552123552, 0.4090909090909091, 'X[11] <= 0.008\\nentropy = 0.984\\nsamples = 188\\nvalue = [80, 108]'),\n",
       " Text(0.8532818532818532, 0.3181818181818182, 'X[5] <= 9.464\\nentropy = 0.986\\nsamples = 186\\nvalue = [80, 106]'),\n",
       " Text(0.8455598455598455, 0.22727272727272727, 'X[4] <= 4.475\\nentropy = 1.0\\nsamples = 122\\nvalue = [60, 62]'),\n",
       " Text(0.8416988416988417, 0.13636363636363635, 'X[0] <= 26.012\\nentropy = 0.811\\nsamples = 16\\nvalue = [12, 4]'),\n",
       " Text(0.8397683397683398, 0.045454545454545456, 'entropy = 0.89\\nsamples = 13\\nvalue = [9, 4]'),\n",
       " Text(0.8436293436293436, 0.045454545454545456, 'entropy = 0.0\\nsamples = 3\\nvalue = [3, 0]'),\n",
       " Text(0.8494208494208494, 0.13636363636363635, 'X[4] <= 21.585\\nentropy = 0.994\\nsamples = 106\\nvalue = [48, 58]'),\n",
       " Text(0.8474903474903475, 0.045454545454545456, 'entropy = 0.992\\nsamples = 58\\nvalue = [32, 26]'),\n",
       " Text(0.8513513513513513, 0.045454545454545456, 'entropy = 0.918\\nsamples = 48\\nvalue = [16, 32]'),\n",
       " Text(0.861003861003861, 0.22727272727272727, 'X[5] <= 10.551\\nentropy = 0.896\\nsamples = 64\\nvalue = [20, 44]'),\n",
       " Text(0.8571428571428571, 0.13636363636363635, 'X[3] <= 12.367\\nentropy = 0.802\\nsamples = 45\\nvalue = [11, 34]'),\n",
       " Text(0.8552123552123552, 0.045454545454545456, 'entropy = 0.985\\nsamples = 14\\nvalue = [6, 8]'),\n",
       " Text(0.859073359073359, 0.045454545454545456, 'entropy = 0.637\\nsamples = 31\\nvalue = [5, 26]'),\n",
       " Text(0.8648648648648649, 0.13636363636363635, 'X[1] <= 8.888\\nentropy = 0.998\\nsamples = 19\\nvalue = [9, 10]'),\n",
       " Text(0.862934362934363, 0.045454545454545456, 'entropy = 0.918\\nsamples = 12\\nvalue = [8, 4]'),\n",
       " Text(0.8667953667953668, 0.045454545454545456, 'entropy = 0.592\\nsamples = 7\\nvalue = [1, 6]'),\n",
       " Text(0.8571428571428571, 0.3181818181818182, 'entropy = 0.0\\nsamples = 2\\nvalue = [0, 2]'),\n",
       " Text(0.8981660231660231, 0.4090909090909091, 'X[5] <= 10.618\\nentropy = 0.992\\nsamples = 412\\nvalue = [227, 185]'),\n",
       " Text(0.8841698841698842, 0.3181818181818182, 'X[1] <= 4.349\\nentropy = 0.989\\nsamples = 387\\nvalue = [217, 170]'),\n",
       " Text(0.8764478764478765, 0.22727272727272727, 'X[1] <= 3.04\\nentropy = 1.0\\nsamples = 164\\nvalue = [84, 80]'),\n",
       " Text(0.8725868725868726, 0.13636363636363635, 'X[5] <= 8.444\\nentropy = 0.969\\nsamples = 63\\nvalue = [38, 25]'),\n",
       " Text(0.8706563706563707, 0.045454545454545456, 'entropy = 0.779\\nsamples = 13\\nvalue = [3, 10]'),\n",
       " Text(0.8745173745173745, 0.045454545454545456, 'entropy = 0.881\\nsamples = 50\\nvalue = [35, 15]'),\n",
       " Text(0.8803088803088803, 0.13636363636363635, 'X[0] <= 18.088\\nentropy = 0.994\\nsamples = 101\\nvalue = [46, 55]'),\n",
       " Text(0.8783783783783784, 0.045454545454545456, 'entropy = 0.903\\nsamples = 47\\nvalue = [15, 32]'),\n",
       " Text(0.8822393822393823, 0.045454545454545456, 'entropy = 0.984\\nsamples = 54\\nvalue = [31, 23]'),\n",
       " Text(0.8918918918918919, 0.22727272727272727, 'X[10] <= 0.394\\nentropy = 0.973\\nsamples = 223\\nvalue = [133, 90]'),\n",
       " Text(0.888030888030888, 0.13636363636363635, 'X[7] <= 0.144\\nentropy = 0.923\\nsamples = 74\\nvalue = [49, 25]'),\n",
       " Text(0.8861003861003861, 0.045454545454545456, 'entropy = 0.792\\nsamples = 42\\nvalue = [32, 10]'),\n",
       " Text(0.88996138996139, 0.045454545454545456, 'entropy = 0.997\\nsamples = 32\\nvalue = [17, 15]'),\n",
       " Text(0.8957528957528957, 0.13636363636363635, 'X[4] <= 16.625\\nentropy = 0.988\\nsamples = 149\\nvalue = [84, 65]'),\n",
       " Text(0.8938223938223938, 0.045454545454545456, 'entropy = 0.949\\nsamples = 76\\nvalue = [48, 28]'),\n",
       " Text(0.8976833976833977, 0.045454545454545456, 'entropy = 1.0\\nsamples = 73\\nvalue = [36, 37]'),\n",
       " Text(0.9121621621621622, 0.3181818181818182, 'X[3] <= 31.133\\nentropy = 0.971\\nsamples = 25\\nvalue = [10, 15]'),\n",
       " Text(0.9073359073359073, 0.22727272727272727, 'X[1] <= 5.869\\nentropy = 0.837\\nsamples = 15\\nvalue = [4, 11]'),\n",
       " Text(0.9034749034749034, 0.13636363636363635, 'X[7] <= 0.232\\nentropy = 0.918\\nsamples = 3\\nvalue = [2, 1]'),\n",
       " Text(0.9015444015444015, 0.045454545454545456, 'entropy = 0.0\\nsamples = 1\\nvalue = [0, 1]'),\n",
       " Text(0.9054054054054054, 0.045454545454545456, 'entropy = 0.0\\nsamples = 2\\nvalue = [2, 0]'),\n",
       " Text(0.9111969111969112, 0.13636363636363635, 'X[1] <= 8.166\\nentropy = 0.65\\nsamples = 12\\nvalue = [2, 10]'),\n",
       " Text(0.9092664092664092, 0.045454545454545456, 'entropy = 0.0\\nsamples = 4\\nvalue = [0, 4]'),\n",
       " Text(0.9131274131274131, 0.045454545454545456, 'entropy = 0.811\\nsamples = 8\\nvalue = [2, 6]'),\n",
       " Text(0.916988416988417, 0.22727272727272727, 'X[4] <= 3.681\\nentropy = 0.971\\nsamples = 10\\nvalue = [6, 4]'),\n",
       " Text(0.915057915057915, 0.13636363636363635, 'entropy = 0.0\\nsamples = 2\\nvalue = [2, 0]'),\n",
       " Text(0.918918918918919, 0.13636363636363635, 'X[4] <= 9.434\\nentropy = 1.0\\nsamples = 8\\nvalue = [4, 4]'),\n",
       " Text(0.916988416988417, 0.045454545454545456, 'entropy = 0.0\\nsamples = 1\\nvalue = [1, 0]'),\n",
       " Text(0.9208494208494209, 0.045454545454545456, 'entropy = 0.985\\nsamples = 7\\nvalue = [3, 4]'),\n",
       " Text(0.9734555984555985, 0.5909090909090909, 'X[7] <= 0.325\\nentropy = 0.919\\nsamples = 455\\nvalue = [152, 303]'),\n",
       " Text(0.9527027027027027, 0.5, 'X[0] <= 19.138\\nentropy = 0.891\\nsamples = 419\\nvalue = [129, 290]'),\n",
       " Text(0.9382239382239382, 0.4090909090909091, 'X[0] <= 18.468\\nentropy = 0.861\\nsamples = 352\\nvalue = [100, 252]'),\n",
       " Text(0.9324324324324325, 0.3181818181818182, 'X[2] <= 22.219\\nentropy = 0.898\\nsamples = 258\\nvalue = [81, 177]'),\n",
       " Text(0.9305019305019305, 0.22727272727272727, 'X[5] <= 8.736\\nentropy = 0.902\\nsamples = 255\\nvalue = [81, 174]'),\n",
       " Text(0.9266409266409267, 0.13636363636363635, 'X[2] <= 9.081\\nentropy = 0.978\\nsamples = 46\\nvalue = [19, 27]'),\n",
       " Text(0.9247104247104247, 0.045454545454545456, 'entropy = 0.0\\nsamples = 4\\nvalue = [4, 0]'),\n",
       " Text(0.9285714285714286, 0.045454545454545456, 'entropy = 0.94\\nsamples = 42\\nvalue = [15, 27]'),\n",
       " Text(0.9343629343629344, 0.13636363636363635, 'X[7] <= 0.117\\nentropy = 0.877\\nsamples = 209\\nvalue = [62, 147]'),\n",
       " Text(0.9324324324324325, 0.045454545454545456, 'entropy = 0.998\\nsamples = 17\\nvalue = [9, 8]'),\n",
       " Text(0.9362934362934363, 0.045454545454545456, 'entropy = 0.85\\nsamples = 192\\nvalue = [53, 139]'),\n",
       " Text(0.9343629343629344, 0.22727272727272727, 'entropy = 0.0\\nsamples = 3\\nvalue = [0, 3]'),\n",
       " Text(0.944015444015444, 0.3181818181818182, 'X[7] <= 0.09\\nentropy = 0.726\\nsamples = 94\\nvalue = [19, 75]'),\n",
       " Text(0.9401544401544402, 0.22727272727272727, 'X[6] <= 0.252\\nentropy = 0.961\\nsamples = 13\\nvalue = [5, 8]'),\n",
       " Text(0.9382239382239382, 0.13636363636363635, 'entropy = 0.0\\nsamples = 2\\nvalue = [0, 2]'),\n",
       " Text(0.9420849420849421, 0.13636363636363635, 'X[2] <= 12.882\\nentropy = 0.994\\nsamples = 11\\nvalue = [5, 6]'),\n",
       " Text(0.9401544401544402, 0.045454545454545456, 'entropy = 0.811\\nsamples = 8\\nvalue = [2, 6]'),\n",
       " Text(0.944015444015444, 0.045454545454545456, 'entropy = 0.0\\nsamples = 3\\nvalue = [3, 0]'),\n",
       " Text(0.9478764478764479, 0.22727272727272727, 'X[7] <= 0.155\\nentropy = 0.664\\nsamples = 81\\nvalue = [14, 67]'),\n",
       " Text(0.9459459459459459, 0.13636363636363635, 'entropy = 0.0\\nsamples = 6\\nvalue = [0, 6]'),\n",
       " Text(0.9498069498069498, 0.13636363636363635, 'X[2] <= 10.132\\nentropy = 0.694\\nsamples = 75\\nvalue = [14, 61]'),\n",
       " Text(0.9478764478764479, 0.045454545454545456, 'entropy = 0.971\\nsamples = 10\\nvalue = [4, 6]'),\n",
       " Text(0.9517374517374517, 0.045454545454545456, 'entropy = 0.619\\nsamples = 65\\nvalue = [10, 55]'),\n",
       " Text(0.9671814671814671, 0.4090909090909091, 'X[1] <= 6.523\\nentropy = 0.987\\nsamples = 67\\nvalue = [29, 38]'),\n",
       " Text(0.9594594594594594, 0.3181818181818182, 'X[0] <= 23.68\\nentropy = 0.999\\nsamples = 33\\nvalue = [17, 16]'),\n",
       " Text(0.9575289575289575, 0.22727272727272727, 'entropy = 0.0\\nsamples = 1\\nvalue = [1, 0]'),\n",
       " Text(0.9613899613899614, 0.22727272727272727, 'X[7] <= 0.273\\nentropy = 1.0\\nsamples = 32\\nvalue = [16, 16]'),\n",
       " Text(0.9575289575289575, 0.13636363636363635, 'X[7] <= 0.095\\nentropy = 0.811\\nsamples = 8\\nvalue = [6, 2]'),\n",
       " Text(0.9555984555984556, 0.045454545454545456, 'entropy = 1.0\\nsamples = 4\\nvalue = [2, 2]'),\n",
       " Text(0.9594594594594594, 0.045454545454545456, 'entropy = 0.0\\nsamples = 4\\nvalue = [4, 0]'),\n",
       " Text(0.9652509652509652, 0.13636363636363635, 'X[5] <= 10.685\\nentropy = 0.98\\nsamples = 24\\nvalue = [10, 14]'),\n",
       " Text(0.9633204633204633, 0.045454545454545456, 'entropy = 0.946\\nsamples = 22\\nvalue = [8, 14]'),\n",
       " Text(0.9671814671814671, 0.045454545454545456, 'entropy = 0.0\\nsamples = 2\\nvalue = [2, 0]'),\n",
       " Text(0.974903474903475, 0.3181818181818182, 'X[5] <= 8.919\\nentropy = 0.937\\nsamples = 34\\nvalue = [12, 22]'),\n",
       " Text(0.972972972972973, 0.22727272727272727, 'entropy = 0.0\\nsamples = 4\\nvalue = [0, 4]'),\n",
       " Text(0.9768339768339769, 0.22727272727272727, 'X[4] <= 12.082\\nentropy = 0.971\\nsamples = 30\\nvalue = [12, 18]'),\n",
       " Text(0.972972972972973, 0.13636363636363635, 'X[0] <= 26.596\\nentropy = 0.985\\nsamples = 14\\nvalue = [8, 6]'),\n",
       " Text(0.971042471042471, 0.045454545454545456, 'entropy = 0.0\\nsamples = 2\\nvalue = [2, 0]'),\n",
       " Text(0.974903474903475, 0.045454545454545456, 'entropy = 1.0\\nsamples = 12\\nvalue = [6, 6]'),\n",
       " Text(0.9806949806949807, 0.13636363636363635, 'X[3] <= 18.091\\nentropy = 0.811\\nsamples = 16\\nvalue = [4, 12]'),\n",
       " Text(0.9787644787644788, 0.045454545454545456, 'entropy = 0.985\\nsamples = 7\\nvalue = [3, 4]'),\n",
       " Text(0.9826254826254827, 0.045454545454545456, 'entropy = 0.503\\nsamples = 9\\nvalue = [1, 8]'),\n",
       " Text(0.9942084942084942, 0.5, 'X[0] <= 23.256\\nentropy = 0.944\\nsamples = 36\\nvalue = [23, 13]'),\n",
       " Text(0.9922779922779923, 0.4090909090909091, 'X[3] <= 54.131\\nentropy = 0.992\\nsamples = 29\\nvalue = [16, 13]'),\n",
       " Text(0.9903474903474904, 0.3181818181818182, 'X[3] <= 3.747\\nentropy = 0.985\\nsamples = 28\\nvalue = [16, 12]'),\n",
       " Text(0.9884169884169884, 0.22727272727272727, 'entropy = 0.0\\nsamples = 1\\nvalue = [0, 1]'),\n",
       " Text(0.9922779922779923, 0.22727272727272727, 'X[5] <= 10.011\\nentropy = 0.975\\nsamples = 27\\nvalue = [16, 11]'),\n",
       " Text(0.9884169884169884, 0.13636363636363635, 'X[4] <= 29.315\\nentropy = 0.896\\nsamples = 16\\nvalue = [11, 5]'),\n",
       " Text(0.9864864864864865, 0.045454545454545456, 'entropy = 0.837\\nsamples = 15\\nvalue = [11, 4]'),\n",
       " Text(0.9903474903474904, 0.045454545454545456, 'entropy = 0.0\\nsamples = 1\\nvalue = [0, 1]'),\n",
       " Text(0.9961389961389961, 0.13636363636363635, 'X[4] <= 2.634\\nentropy = 0.994\\nsamples = 11\\nvalue = [5, 6]'),\n",
       " Text(0.9942084942084942, 0.045454545454545456, 'entropy = 0.0\\nsamples = 1\\nvalue = [0, 1]'),\n",
       " Text(0.9980694980694981, 0.045454545454545456, 'entropy = 1.0\\nsamples = 10\\nvalue = [5, 5]'),\n",
       " Text(0.9942084942084942, 0.3181818181818182, 'entropy = 0.0\\nsamples = 1\\nvalue = [0, 1]'),\n",
       " Text(0.9961389961389961, 0.4090909090909091, 'entropy = 0.0\\nsamples = 7\\nvalue = [7, 0]')]"
      ]
     },
     "execution_count": 84,
     "metadata": {},
     "output_type": "execute_result"
    },
    {
     "data": {
      "image/png": "[encoded data removed]",
      "text/plain": [
       "<Figure size 1728x1008 with 1 Axes>"
      ]
     },
     "metadata": {
      "needs_background": "light"
     },
     "output_type": "display_data"
    }
   ],
   "source": [
    "import matplotlib.pyplot as plt\n",
    "%matplotlib inline\n",
    "from sklearn.tree import plot_tree\n",
    "\n",
    "plt.figure(figsize=(24,14))\n",
    "plot_tree(dt, filled=True)"
   ]
  },
  {
   "cell_type": "markdown",
   "metadata": {},
   "source": [
    "# **Using Random Forest Classifier**"
   ]
  },
  {
   "cell_type": "code",
   "execution_count": 85,
   "metadata": {},
   "outputs": [
    {
     "data": {
      "text/html": [
       "<style>#sk-container-id-4 {color: black;background-color: white;}#sk-container-id-4 pre{padding: 0;}#sk-container-id-4 div.sk-toggleable {background-color: white;}#sk-container-id-4 label.sk-toggleable__label {cursor: pointer;display: block;width: 100%;margin-bottom: 0;padding: 0.3em;box-sizing: border-box;text-align: center;}#sk-container-id-4 label.sk-toggleable__label-arrow:before {content: \"▸\";float: left;margin-right: 0.25em;color: #696969;}#sk-container-id-4 label.sk-toggleable__label-arrow:hover:before {color: black;}#sk-container-id-4 div.sk-estimator:hover label.sk-toggleable__label-arrow:before {color: black;}#sk-container-id-4 div.sk-toggleable__content {max-height: 0;max-width: 0;overflow: hidden;text-align: left;background-color: #f0f8ff;}#sk-container-id-4 div.sk-toggleable__content pre {margin: 0.2em;color: black;border-radius: 0.25em;background-color: #f0f8ff;}#sk-container-id-4 input.sk-toggleable__control:checked~div.sk-toggleable__content {max-height: 200px;max-width: 100%;overflow: auto;}#sk-container-id-4 input.sk-toggleable__control:checked~label.sk-toggleable__label-arrow:before {content: \"▾\";}#sk-container-id-4 div.sk-estimator input.sk-toggleable__control:checked~label.sk-toggleable__label {background-color: #d4ebff;}#sk-container-id-4 div.sk-label input.sk-toggleable__control:checked~label.sk-toggleable__label {background-color: #d4ebff;}#sk-container-id-4 input.sk-hidden--visually {border: 0;clip: rect(1px 1px 1px 1px);clip: rect(1px, 1px, 1px, 1px);height: 1px;margin: -1px;overflow: hidden;padding: 0;position: absolute;width: 1px;}#sk-container-id-4 div.sk-estimator {font-family: monospace;background-color: #f0f8ff;border: 1px dotted black;border-radius: 0.25em;box-sizing: border-box;margin-bottom: 0.5em;}#sk-container-id-4 div.sk-estimator:hover {background-color: #d4ebff;}#sk-container-id-4 div.sk-parallel-item::after {content: \"\";width: 100%;border-bottom: 1px solid gray;flex-grow: 1;}#sk-container-id-4 div.sk-label:hover label.sk-toggleable__label {background-color: #d4ebff;}#sk-container-id-4 div.sk-serial::before {content: \"\";position: absolute;border-left: 1px solid gray;box-sizing: border-box;top: 0;bottom: 0;left: 50%;z-index: 0;}#sk-container-id-4 div.sk-serial {display: flex;flex-direction: column;align-items: center;background-color: white;padding-right: 0.2em;padding-left: 0.2em;position: relative;}#sk-container-id-4 div.sk-item {position: relative;z-index: 1;}#sk-container-id-4 div.sk-parallel {display: flex;align-items: stretch;justify-content: center;background-color: white;position: relative;}#sk-container-id-4 div.sk-item::before, #sk-container-id-4 div.sk-parallel-item::before {content: \"\";position: absolute;border-left: 1px solid gray;box-sizing: border-box;top: 0;bottom: 0;left: 50%;z-index: -1;}#sk-container-id-4 div.sk-parallel-item {display: flex;flex-direction: column;z-index: 1;position: relative;background-color: white;}#sk-container-id-4 div.sk-parallel-item:first-child::after {align-self: flex-end;width: 50%;}#sk-container-id-4 div.sk-parallel-item:last-child::after {align-self: flex-start;width: 50%;}#sk-container-id-4 div.sk-parallel-item:only-child::after {width: 0;}#sk-container-id-4 div.sk-dashed-wrapped {border: 1px dashed gray;margin: 0 0.4em 0.5em 0.4em;box-sizing: border-box;padding-bottom: 0.4em;background-color: white;}#sk-container-id-4 div.sk-label label {font-family: monospace;font-weight: bold;display: inline-block;line-height: 1.2em;}#sk-container-id-4 div.sk-label-container {text-align: center;}#sk-container-id-4 div.sk-container {/* jupyter's `normalize.less` sets `[hidden] { display: none; }` but bootstrap.min.css set `[hidden] { display: none !important; }` so we also need the `!important` here to be able to override the default hidden behavior on the sphinx rendered scikit-learn.org. See: https://github.com/scikit-learn/scikit-learn/issues/21755 */display: inline-block !important;position: relative;}#sk-container-id-4 div.sk-text-repr-fallback {display: none;}</style><div id=\"sk-container-id-4\" class=\"sk-top-container\"><div class=\"sk-text-repr-fallback\"><pre>RandomForestClassifier()</pre><b>In a Jupyter environment, please rerun this cell to show the HTML representation or trust the notebook. <br />On GitHub, the HTML representation is unable to render, please try loading this page with nbviewer.org.</b></div><div class=\"sk-container\" hidden><div class=\"sk-item\"><div class=\"sk-estimator sk-toggleable\"><input class=\"sk-toggleable__control sk-hidden--visually\" id=\"sk-estimator-id-4\" type=\"checkbox\" checked><label for=\"sk-estimator-id-4\" class=\"sk-toggleable__label sk-toggleable__label-arrow\">RandomForestClassifier</label><div class=\"sk-toggleable__content\"><pre>RandomForestClassifier()</pre></div></div></div></div></div>"
      ],
      "text/plain": [
       "RandomForestClassifier()"
      ]
     },
     "execution_count": 85,
     "metadata": {},
     "output_type": "execute_result"
    }
   ],
   "source": [
    "from sklearn.ensemble import RandomForestClassifier\n",
    "rf_clf = RandomForestClassifier(n_estimators=100)\n",
    "rf_clf.fit(x_train,y_train)"
   ]
  },
  {
   "cell_type": "code",
   "execution_count": 86,
   "metadata": {},
   "outputs": [],
   "source": [
    "y_pred3=rf_clf.predict(x_test)"
   ]
  },
  {
   "cell_type": "code",
   "execution_count": 87,
   "metadata": {},
   "outputs": [
    {
     "name": "stdout",
     "output_type": "stream",
     "text": [
      "              precision    recall  f1-score   support\n",
      "\n",
      "           0       0.72      0.83      0.77      1081\n",
      "           1       0.69      0.53      0.60       751\n",
      "\n",
      "    accuracy                           0.71      1832\n",
      "   macro avg       0.70      0.68      0.69      1832\n",
      "weighted avg       0.71      0.71      0.70      1832\n",
      "\n"
     ]
    }
   ],
   "source": [
    "print(classification_report(y_test,y_pred3))"
   ]
  },
  {
   "cell_type": "code",
   "execution_count": 88,
   "metadata": {},
   "outputs": [
    {
     "data": {
      "text/plain": [
       "0.6823895613742269"
      ]
     },
     "execution_count": 88,
     "metadata": {},
     "output_type": "execute_result"
    }
   ],
   "source": [
    "score=roc_auc_score(y_test,y_pred3)\n",
    "score"
   ]
  },
  {
   "cell_type": "code",
   "execution_count": 89,
   "metadata": {},
   "outputs": [
    {
     "name": "stdout",
     "output_type": "stream",
     "text": [
      "[0.70362075 0.45935813 0.50039893 0.65308753 0.67314544]\n",
      "Cross validation Score: 0.5979221574454241\n",
      "Std : 0.09857456634329287\n"
     ]
    }
   ],
   "source": [
    "scores = cross_val_score(rf_clf,x,y,cv=5,scoring='roc_auc')\n",
    "print(scores)\n",
    "print(\"Cross validation Score:\",scores.mean())\n",
    "print(\"Std :\",scores.std())"
   ]
  },
  {
   "cell_type": "markdown",
   "metadata": {},
   "source": [
    "# **Hyperparameter tuning for Random Forest Classifier**"
   ]
  },
  {
   "cell_type": "code",
   "execution_count": 90,
   "metadata": {},
   "outputs": [
    {
     "name": "stdout",
     "output_type": "stream",
     "text": [
      "Fitting 3 folds for each of 100 candidates, totalling 300 fits\n",
      "Best paramters: {'n_estimators': 1600, 'min_samples_split': 5, 'min_samples_leaf': 2, 'max_features': 'sqrt', 'max_depth': 10, 'bootstrap': False})\n"
     ]
    }
   ],
   "source": [
    "from sklearn.model_selection import RandomizedSearchCV\n",
    "\n",
    "n_estimators = [int(x) for x in np.linspace(start=200, stop=2000, num=10)]\n",
    "max_features = ['auto', 'sqrt']\n",
    "max_depth = [int(x) for x in np.linspace(10, 110, num=11)]\n",
    "max_depth.append(None)\n",
    "min_samples_split = [2, 5, 10]\n",
    "min_samples_leaf = [1, 2, 4]\n",
    "bootstrap = [True, False]\n",
    "\n",
    "random_grid = {'n_estimators': n_estimators, 'max_features': max_features,\n",
    "               'max_depth': max_depth, 'min_samples_split': min_samples_split,\n",
    "               'min_samples_leaf': min_samples_leaf, 'bootstrap': bootstrap}\n",
    "\n",
    "rf_clf1 = RandomForestClassifier(random_state=42)\n",
    "\n",
    "rf_cv = RandomizedSearchCV(estimator=rf_clf1, scoring='f1',param_distributions=random_grid, n_iter=100, cv=3, \n",
    "                               verbose=2, random_state=42, n_jobs=-1)\n",
    "\n",
    "rf_cv.fit(x_train, y_train)\n",
    "rf_best_params = rf_cv.best_params_\n",
    "print(f\"Best paramters: {rf_best_params})\")"
   ]
  },
  {
   "cell_type": "code",
   "execution_count": 91,
   "metadata": {},
   "outputs": [],
   "source": [
    "rf_clf2 = RandomForestClassifier(**rf_best_params)\n",
    "rf_clf2.fit(x_train, y_train)\n",
    "y_predict=rf_clf2.predict(x_test)"
   ]
  },
  {
   "cell_type": "code",
   "execution_count": 92,
   "metadata": {},
   "outputs": [
    {
     "name": "stdout",
     "output_type": "stream",
     "text": [
      "              precision    recall  f1-score   support\n",
      "\n",
      "           0       0.71      0.85      0.77      1081\n",
      "           1       0.70      0.50      0.58       751\n",
      "\n",
      "    accuracy                           0.71      1832\n",
      "   macro avg       0.70      0.68      0.68      1832\n",
      "weighted avg       0.71      0.71      0.70      1832\n",
      "\n"
     ]
    }
   ],
   "source": [
    "print(classification_report(y_test,y_predict))"
   ]
  },
  {
   "cell_type": "code",
   "execution_count": 93,
   "metadata": {},
   "outputs": [
    {
     "data": {
      "text/plain": [
       "0.6756055139554908"
      ]
     },
     "execution_count": 93,
     "metadata": {},
     "output_type": "execute_result"
    }
   ],
   "source": [
    "score=roc_auc_score(y_test,y_predict)\n",
    "score"
   ]
  },
  {
   "cell_type": "code",
   "execution_count": 94,
   "metadata": {},
   "outputs": [
    {
     "name": "stdout",
     "output_type": "stream",
     "text": [
      "[0.74310372 0.52032778 0.53569641 0.66069429 0.69318671]\n",
      "Cross validation Score: 0.6306017812697763\n",
      "Std : 0.08791644357151315\n"
     ]
    }
   ],
   "source": [
    "scores = cross_val_score(rf_clf2,x,y,cv=5,scoring='roc_auc')\n",
    "print(scores)\n",
    "print(\"Cross validation Score:\",scores.mean())\n",
    "print(\"Std :\",scores.std())"
   ]
  },
  {
   "cell_type": "markdown",
   "metadata": {},
   "source": [
    "# **USING SUPPORT VECTOR MACHINES**"
   ]
  },
  {
   "cell_type": "code",
   "execution_count": 95,
   "metadata": {},
   "outputs": [],
   "source": [
    "from sklearn.svm import SVC\n",
    "svc= SVC()\n",
    "svc.fit(x_train,y_train)\n",
    "y_pred2 = svc.predict(x_test)"
   ]
  },
  {
   "cell_type": "code",
   "execution_count": 96,
   "metadata": {},
   "outputs": [
    {
     "name": "stdout",
     "output_type": "stream",
     "text": [
      "              precision    recall  f1-score   support\n",
      "\n",
      "           0       0.59      1.00      0.74      1081\n",
      "           1       0.00      0.00      0.00       751\n",
      "\n",
      "    accuracy                           0.59      1832\n",
      "   macro avg       0.30      0.50      0.37      1832\n",
      "weighted avg       0.35      0.59      0.44      1832\n",
      "\n"
     ]
    }
   ],
   "source": [
    "print(classification_report(y_test,y_pred2))"
   ]
  },
  {
   "cell_type": "code",
   "execution_count": 97,
   "metadata": {},
   "outputs": [
    {
     "data": {
      "text/plain": [
       "0.5"
      ]
     },
     "execution_count": 97,
     "metadata": {},
     "output_type": "execute_result"
    }
   ],
   "source": [
    "score=roc_auc_score(y_test,y_pred2)\n",
    "score"
   ]
  },
  {
   "cell_type": "code",
   "execution_count": 98,
   "metadata": {},
   "outputs": [
    {
     "name": "stdout",
     "output_type": "stream",
     "text": [
      "[0.63898384 0.6874371  0.65523263 0.65112491 0.54605753]\n",
      "Cross validation Score: 0.6357671998384191\n",
      "Std : 0.047629219535246105\n"
     ]
    }
   ],
   "source": [
    "scores = cross_val_score(svc,x,y,cv=5,scoring='roc_auc')\n",
    "print(scores)\n",
    "print(\"Cross validation Score:\",scores.mean())\n",
    "print(\"Std :\",scores.std())"
   ]
  },
  {
   "cell_type": "markdown",
   "metadata": {},
   "source": [
    "# **Artificial Neural Network (ANN)**"
   ]
  },
  {
   "cell_type": "code",
   "execution_count": 99,
   "metadata": {},
   "outputs": [
    {
     "data": {
      "text/plain": [
       "array([[0.62919177, 0.37080823],\n",
       "       [0.59222187, 0.40777813],\n",
       "       [0.7207892 , 0.2792108 ],\n",
       "       ...,\n",
       "       [0.67000952, 0.32999048],\n",
       "       [0.61051108, 0.38948892],\n",
       "       [0.74823157, 0.25176843]])"
      ]
     },
     "execution_count": 99,
     "metadata": {},
     "output_type": "execute_result"
    }
   ],
   "source": [
    "from sklearn.neural_network import MLPClassifier\n",
    "model = MLPClassifier( hidden_layer_sizes=(50,3), # 1st hidden layer with 50units and 2nd hidden layer will have 3unitslearning_rate_init=0.1, # The initial learning rate used. It controls the step-size in updating the weights.  \n",
    "                       max_iter=100, # Maximum number of iterations. default=200. This is called as stopping criteria.\n",
    "                       random_state=2) \n",
    "\n",
    "model.fit(x_train,y_train) ## training the data\n",
    "\n",
    "y_predict_proba = model.predict_proba(x_test) ## predicting the probability of class\n",
    "y_predict_proba"
   ]
  },
  {
   "cell_type": "code",
   "execution_count": 100,
   "metadata": {},
   "outputs": [],
   "source": [
    "y_predict = model.predict(x_test) # Predicting for X_test\n",
    "\n",
    "y_train_predict = model.predict(x_train) # predicting for X_train"
   ]
  },
  {
   "cell_type": "code",
   "execution_count": 101,
   "metadata": {},
   "outputs": [
    {
     "name": "stdout",
     "output_type": "stream",
     "text": [
      "Train accuracy : 0.6761280931586608\n",
      "Test accuracy : 0.6468340611353712\n"
     ]
    }
   ],
   "source": [
    "## Evaluating the model created\n",
    "from sklearn.metrics import accuracy_score,confusion_matrix\n",
    "\n",
    "print(\"Train accuracy :\",accuracy_score(y_train,y_train_predict))\n",
    "print(\"Test accuracy :\",accuracy_score(y_test,y_predict))"
   ]
  },
  {
   "cell_type": "code",
   "execution_count": 102,
   "metadata": {},
   "outputs": [
    {
     "name": "stdout",
     "output_type": "stream",
     "text": [
      "              precision    recall  f1-score   support\n",
      "\n",
      "           0       0.67      0.80      0.73      1081\n",
      "           1       0.60      0.42      0.49       751\n",
      "\n",
      "    accuracy                           0.65      1832\n",
      "   macro avg       0.63      0.61      0.61      1832\n",
      "weighted avg       0.64      0.65      0.63      1832\n",
      "\n"
     ]
    }
   ],
   "source": [
    "## getting classification report\n",
    "from sklearn.metrics import classification_report\n",
    "print(classification_report(y_test,y_predict))"
   ]
  },
  {
   "cell_type": "markdown",
   "metadata": {},
   "source": [
    "# **Using Naive Bayes Bernoulli**"
   ]
  },
  {
   "cell_type": "code",
   "execution_count": 103,
   "metadata": {},
   "outputs": [],
   "source": [
    "## Model creation\n",
    "from sklearn.naive_bayes import BernoulliNB\n",
    "\n",
    "## model object creation\n",
    "nb=BernoulliNB(alpha=0.01) #alpha is a regularization parameter # Avoid overfitting.\n",
    "\n",
    "## fitting the model\n",
    "nb.fit(x_train,y_train)\n",
    "\n",
    "## getting the prediction\n",
    "y_hat=nb.predict(x_test) "
   ]
  },
  {
   "cell_type": "code",
   "execution_count": 104,
   "metadata": {},
   "outputs": [
    {
     "data": {
      "text/plain": [
       "array([0, 0, 0, ..., 1, 0, 0], dtype=int64)"
      ]
     },
     "execution_count": 104,
     "metadata": {},
     "output_type": "execute_result"
    }
   ],
   "source": [
    "y_hat"
   ]
  },
  {
   "cell_type": "code",
   "execution_count": 105,
   "metadata": {},
   "outputs": [],
   "source": [
    "## Evaluating the model\n",
    "from sklearn.metrics import classification_report,confusion_matrix"
   ]
  },
  {
   "cell_type": "code",
   "execution_count": 106,
   "metadata": {},
   "outputs": [
    {
     "name": "stdout",
     "output_type": "stream",
     "text": [
      "              precision    recall  f1-score   support\n",
      "\n",
      "           0       0.67      0.72      0.70      1081\n",
      "           1       0.55      0.50      0.53       751\n",
      "\n",
      "    accuracy                           0.63      1832\n",
      "   macro avg       0.61      0.61      0.61      1832\n",
      "weighted avg       0.62      0.63      0.63      1832\n",
      "\n"
     ]
    }
   ],
   "source": [
    "print(classification_report(y_test,y_hat))"
   ]
  },
  {
   "cell_type": "markdown",
   "metadata": {},
   "source": [
    "# **CONCLUSION**"
   ]
  },
  {
   "cell_type": "markdown",
   "metadata": {},
   "source": [
    "**Analysis**\n",
    "\n",
    "  The data is supervised and categorical. The predictor variables are nominal. The target variable 'Status' is nominal as  well.\n",
    "\n",
    "  Most of the columns had a lot of different labels, so we compressed and merged the labels such that only the main ones were     included and then used Label Encoding. The predictor variable was categorized into two types 'Good Lead' and 'Bad Lead'.\n",
    "\n",
    " \n",
    "  SMOTE is used ajdusting the sampling data. For training the data and predicting the target, algorithms used are Logistic       .Regression, Support Vector Machine, Decision Tree, Random Forest, Naive Bayes and  Artificial Neural Network \n",
    " "
   ]
  },
  {
   "cell_type": "markdown",
   "metadata": {},
   "source": [
    " **SUMMARY**\n",
    "    \n",
    "The project is done with the purpose of finding out the Lead Quality, whether the lead should be followed or not. The company motive is to invest in the right prospects. So therefore we divided the Lead as 'Good' or 'Bad'. This resulted in increase of accuracy drastically. \n",
    "     \n",
    "After considering the performance of all the models on the basis of Accuracy, f1 Score, ruc score and cross-validation it is concluded that **Random Forest should be selected as our final model**.\n",
    " \n",
    " "
   ]
  },
  {
   "cell_type": "code",
   "execution_count": null,
   "metadata": {},
   "outputs": [],
   "source": [
    "RA"
   ]
  }
 ],
 "metadata": {
  "colab": {
   "collapsed_sections": [],
   "name": "database_connection.ipynb",
   "provenance": []
  },
  "kernelspec": {
   "display_name": "Python 3 (ipykernel)",
   "language": "python",
   "name": "python3"
  },
  "language_info": {
   "codemirror_mode": {
    "name": "ipython",
    "version": 3
   },
   "file_extension": ".py",
   "mimetype": "text/x-python",
   "name": "python",
   "nbconvert_exporter": "python",
   "pygments_lexer": "ipython3",
   "version": "3.9.12"
  }
 },
 "nbformat": 4,
 "nbformat_minor": 1
}
